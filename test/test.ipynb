{
 "cells": [
  {
   "cell_type": "markdown",
   "id": "1d8a166b",
   "metadata": {},
   "source": [
    "# Задание №1"
   ]
  },
  {
   "cell_type": "markdown",
   "id": "1f55b301",
   "metadata": {},
   "source": [
    "Запрос написан на PostgreSQL"
   ]
  },
  {
   "cell_type": "code",
   "execution_count": null,
   "id": "eeedfefa",
   "metadata": {},
   "outputs": [],
   "source": [
    "query = '''\n",
    "-- сохраним уроки всех студентов профессии data-analyst страны Serbia апрельской когорты 2022 года\n",
    "WITH lessons AS \n",
    "    (SELECT q.date_created AS lesson_datetime, \n",
    "            q.lesson_id,\n",
    "            q.profession_name,\n",
    "            q.user_id\n",
    "     FROM\n",
    "     -- отберем уроки всех студентов профессии data-analyst страны Serbia, с указанием даты первого урока\n",
    "         (SELECT f.date_created, \n",
    "                 f.lesson_id,\n",
    "                 l.profession_name,\n",
    "                 f.user_id,\n",
    "                 MIN(f.date_created) OVER(PARTITION BY f.user_id) AS first_lesson_datetime\n",
    "          FROM finished_lesson_test f LEFT JOIN\n",
    "               lesson_index_test l ON f.lesson_id = l.lesson_id\n",
    "          WHERE l.country = 'Serbia' AND l.profession_name = 'data-analyst') AS q\n",
    "     -- оставим только апрельскую когорту    \n",
    "     WHERE q.first_lesson_datetime BETWEEN '2022-04-01' AND '2022-04-30')\n",
    "-- напишем основной запрос \n",
    "SELECT *\n",
    "FROM\n",
    "-- рассчитаем время между уроками\n",
    "    (SELECT \n",
    "           (LEAD(lesson_datetime::timestamp) OVER(PARTITION BY user_id ORDER BY lesson_datetime) - lesson_datetime::timestamp) AS delta_seconds,\n",
    "           lesson_datetime,\n",
    "           lesson_id,\n",
    "           LEAD(lesson_datetime) OVER(PARTITION BY user_id ORDER BY lesson_datetime) AS next_lesson_datetime,\n",
    "           profession_name,\n",
    "           user_id\n",
    "     FROM lessons) AS q2\n",
    "-- оставим только те уроки где оно меньше либо равно 7 секунд      \n",
    "WHERE q2.delta_seconds <= '7 seconds'\n",
    "ORDER BY q2.delta_seconds\n",
    "'''"
   ]
  },
  {
   "cell_type": "markdown",
   "id": "6fce8db4",
   "metadata": {},
   "source": [
    "# Задание №2"
   ]
  },
  {
   "cell_type": "markdown",
   "id": "adfdac76",
   "metadata": {},
   "source": [
    "[Ссылка на дашборд в Tableau Public](https://public.tableau.com/views/Dashboard_16784479720840/Dashboard1?:language=en-US&publish=yes&:display_count=n&:origin=viz_share_link)"
   ]
  },
  {
   "cell_type": "markdown",
   "id": "f12dab19",
   "metadata": {},
   "source": [
    "# Задание №3"
   ]
  },
  {
   "cell_type": "markdown",
   "id": "2e30d73c",
   "metadata": {},
   "source": [
    "1. Для начала я бы попробовала уточнить у руководителя значение слов \"в последнее время\" (может это последние полгода, может месяц, а может 2 недели), для того что бы понять за какой промежуток времени мне нужно будет сделать выгрузку. Допустим ответом был бы месяц (если бы не получила ответа, то просто выгрузила бы данные с запасом).\n",
    "2. После уточнения задачи, я бы выгрузила данные по задачам из Jira с отметками о времени нахождения на каждом этапе за год. \n",
    "3. Разбила бы все задачи на когорты по дате формирования. В одну когорту все задачи сформированные на одной неделе.\n",
    "4. И посмотрела бы на динамику длительности выполнения задач по когортам в разрезе по статусам задач.\n",
    "5. Исходя из графиков можно было бы сделать выводы, на каком именно этапе внутри цикла происходит увеличение длительности:\n",
    "    - если в более поздних когортах наблюдается увеличение длительности на этапе In Progress, это может свидетельствовать либо о проблемах в планировании задач, либо о проблемах неэффективности работы сотрудников\n",
    "    - если в более поздних когортах наблюдается увеличение длительности на этапе Needs to be Clarified, то здесь наверняка проблемы с планированием. Этой метрике я бы уделила особое внимание, потому что, на мой взгяд, в идеале эта метрика должна стремится к нулю, ведь при правильно проведенном PBR не должно быть задач проходящих через этот этап. "
   ]
  }
 ],
 "metadata": {
  "kernelspec": {
   "display_name": "Python 3 (ipykernel)",
   "language": "python",
   "name": "python3"
  },
  "language_info": {
   "codemirror_mode": {
    "name": "ipython",
    "version": 3
   },
   "file_extension": ".py",
   "mimetype": "text/x-python",
   "name": "python",
   "nbconvert_exporter": "python",
   "pygments_lexer": "ipython3",
   "version": "3.9.12"
  }
 },
 "nbformat": 4,
 "nbformat_minor": 5
}
