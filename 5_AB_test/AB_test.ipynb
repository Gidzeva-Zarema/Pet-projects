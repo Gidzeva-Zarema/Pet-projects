{
 "cells": [
  {
   "cell_type": "markdown",
   "metadata": {},
   "source": [
    "# A/B тестирование для принятия решений в бизнесе"
   ]
  },
  {
   "cell_type": "markdown",
   "metadata": {},
   "source": [
    "## Описание проекта\n",
    "Вы — аналитик крупного интернет-магазина. Вместе с отделом маркетинга вы подготовили список гипотез для увеличения выручки.\n",
    "Приоритизируйте гипотезы, запустите A/B-тест и проанализируйте результаты."
   ]
  },
  {
   "cell_type": "markdown",
   "metadata": {},
   "source": [
    "## Описание данных\n",
    "Файл `/datasets/hypothesis.csv`:\n",
    "- `Hypothesis` — краткое описание гипотезы;\n",
    "- `Reach` — охват пользователей по 10-балльной шкале;\n",
    "- `Impact` — влияние на пользователей по 10-балльной шкале;\n",
    "- `Confidence` — уверенность в гипотезе по 10-балльной шкале;\n",
    "- `Efforts` — затраты ресурсов на проверку гипотезы по 10-балльной шкале. Чем больше значение Efforts, тем дороже проверка гипотезы.\n",
    "\n",
    "\n",
    "Файл `/datasets/orders.csv`:\n",
    "- `transactionId` — идентификатор заказа;\n",
    "- `visitorId` — идентификатор пользователя, совершившего заказ;\n",
    "- `date` — дата, когда был совершён заказ;\n",
    "- `revenue` — выручка заказа;\n",
    "- `group` — группа A/B-теста, в которую попал заказ.\n",
    "\n",
    "\n",
    "Файл `/datasets/visitors.csv`:\n",
    "- `date` — дата;\n",
    "- `group` — группа A/B-теста;\n",
    "- `visitors` — количество пользователей в указанную дату в указанной группе A/B-теста"
   ]
  },
  {
   "cell_type": "markdown",
   "metadata": {},
   "source": [
    "## Приоритизация гипотез"
   ]
  },
  {
   "cell_type": "code",
   "execution_count": 122,
   "metadata": {},
   "outputs": [],
   "source": [
    "import pandas as pd\n",
    "import numpy as np\n",
    "import matplotlib.pyplot as plt\n",
    "import scipy.stats as stats"
   ]
  },
  {
   "cell_type": "code",
   "execution_count": 66,
   "metadata": {},
   "outputs": [
    {
     "data": {
      "text/html": [
       "<div>\n",
       "<style scoped>\n",
       "    .dataframe tbody tr th:only-of-type {\n",
       "        vertical-align: middle;\n",
       "    }\n",
       "\n",
       "    .dataframe tbody tr th {\n",
       "        vertical-align: top;\n",
       "    }\n",
       "\n",
       "    .dataframe thead th {\n",
       "        text-align: right;\n",
       "    }\n",
       "</style>\n",
       "<table border=\"1\" class=\"dataframe\">\n",
       "  <thead>\n",
       "    <tr style=\"text-align: right;\">\n",
       "      <th></th>\n",
       "      <th>Hypothesis</th>\n",
       "      <th>Reach</th>\n",
       "      <th>Impact</th>\n",
       "      <th>Confidence</th>\n",
       "      <th>Efforts</th>\n",
       "    </tr>\n",
       "  </thead>\n",
       "  <tbody>\n",
       "    <tr>\n",
       "      <th>0</th>\n",
       "      <td>Добавить два новых канала привлечения трафика, что позволит привлекать на 30% больше пользователей</td>\n",
       "      <td>3</td>\n",
       "      <td>10</td>\n",
       "      <td>8</td>\n",
       "      <td>6</td>\n",
       "    </tr>\n",
       "    <tr>\n",
       "      <th>1</th>\n",
       "      <td>Запустить собственную службу доставки, что сократит срок доставки заказов</td>\n",
       "      <td>2</td>\n",
       "      <td>5</td>\n",
       "      <td>4</td>\n",
       "      <td>10</td>\n",
       "    </tr>\n",
       "    <tr>\n",
       "      <th>2</th>\n",
       "      <td>Добавить блоки рекомендаций товаров на сайт интернет магазина, чтобы повысить конверсию и средний чек заказа</td>\n",
       "      <td>8</td>\n",
       "      <td>3</td>\n",
       "      <td>7</td>\n",
       "      <td>3</td>\n",
       "    </tr>\n",
       "    <tr>\n",
       "      <th>3</th>\n",
       "      <td>Изменить структура категорий, что увеличит конверсию, т.к. пользователи быстрее найдут нужный товар</td>\n",
       "      <td>8</td>\n",
       "      <td>3</td>\n",
       "      <td>3</td>\n",
       "      <td>8</td>\n",
       "    </tr>\n",
       "    <tr>\n",
       "      <th>4</th>\n",
       "      <td>Изменить цвет фона главной страницы, чтобы увеличить вовлеченность пользователей</td>\n",
       "      <td>3</td>\n",
       "      <td>1</td>\n",
       "      <td>1</td>\n",
       "      <td>1</td>\n",
       "    </tr>\n",
       "    <tr>\n",
       "      <th>5</th>\n",
       "      <td>Добавить страницу отзывов клиентов о магазине, что позволит увеличить количество заказов</td>\n",
       "      <td>3</td>\n",
       "      <td>2</td>\n",
       "      <td>2</td>\n",
       "      <td>3</td>\n",
       "    </tr>\n",
       "    <tr>\n",
       "      <th>6</th>\n",
       "      <td>Показать на главной странице баннеры с актуальными акциями и распродажами, чтобы увеличить конверсию</td>\n",
       "      <td>5</td>\n",
       "      <td>3</td>\n",
       "      <td>8</td>\n",
       "      <td>3</td>\n",
       "    </tr>\n",
       "    <tr>\n",
       "      <th>7</th>\n",
       "      <td>Добавить форму подписки на все основные страницы, чтобы собрать базу клиентов для email-рассылок</td>\n",
       "      <td>10</td>\n",
       "      <td>7</td>\n",
       "      <td>8</td>\n",
       "      <td>5</td>\n",
       "    </tr>\n",
       "    <tr>\n",
       "      <th>8</th>\n",
       "      <td>Запустить акцию, дающую скидку на товар в день рождения</td>\n",
       "      <td>1</td>\n",
       "      <td>9</td>\n",
       "      <td>9</td>\n",
       "      <td>5</td>\n",
       "    </tr>\n",
       "  </tbody>\n",
       "</table>\n",
       "</div>"
      ],
      "text/plain": [
       "                                                                                                     Hypothesis  \\\n",
       "0  Добавить два новых канала привлечения трафика, что позволит привлекать на 30% больше пользователей             \n",
       "1  Запустить собственную службу доставки, что сократит срок доставки заказов                                      \n",
       "2  Добавить блоки рекомендаций товаров на сайт интернет магазина, чтобы повысить конверсию и средний чек заказа   \n",
       "3  Изменить структура категорий, что увеличит конверсию, т.к. пользователи быстрее найдут нужный товар            \n",
       "4  Изменить цвет фона главной страницы, чтобы увеличить вовлеченность пользователей                               \n",
       "5  Добавить страницу отзывов клиентов о магазине, что позволит увеличить количество заказов                       \n",
       "6  Показать на главной странице баннеры с актуальными акциями и распродажами, чтобы увеличить конверсию           \n",
       "7  Добавить форму подписки на все основные страницы, чтобы собрать базу клиентов для email-рассылок               \n",
       "8  Запустить акцию, дающую скидку на товар в день рождения                                                        \n",
       "\n",
       "   Reach  Impact  Confidence  Efforts  \n",
       "0  3      10      8           6        \n",
       "1  2      5       4           10       \n",
       "2  8      3       7           3        \n",
       "3  8      3       3           8        \n",
       "4  3      1       1           1        \n",
       "5  3      2       2           3        \n",
       "6  5      3       8           3        \n",
       "7  10     7       8           5        \n",
       "8  1      9       9           5        "
      ]
     },
     "execution_count": 66,
     "metadata": {},
     "output_type": "execute_result"
    }
   ],
   "source": [
    "hypotesis = pd.read_csv('/datasets/hypothesis.csv')\n",
    "pd.set_option('display.max_colwidth', 0)\n",
    "hypotesis"
   ]
  },
  {
   "cell_type": "markdown",
   "metadata": {},
   "source": [
    "### Приоритизация гипотез методом ICE"
   ]
  },
  {
   "cell_type": "code",
   "execution_count": 67,
   "metadata": {},
   "outputs": [
    {
     "data": {
      "text/html": [
       "<div>\n",
       "<style scoped>\n",
       "    .dataframe tbody tr th:only-of-type {\n",
       "        vertical-align: middle;\n",
       "    }\n",
       "\n",
       "    .dataframe tbody tr th {\n",
       "        vertical-align: top;\n",
       "    }\n",
       "\n",
       "    .dataframe thead th {\n",
       "        text-align: right;\n",
       "    }\n",
       "</style>\n",
       "<table border=\"1\" class=\"dataframe\">\n",
       "  <thead>\n",
       "    <tr style=\"text-align: right;\">\n",
       "      <th></th>\n",
       "      <th>Hypothesis</th>\n",
       "      <th>Reach</th>\n",
       "      <th>Impact</th>\n",
       "      <th>Confidence</th>\n",
       "      <th>Efforts</th>\n",
       "      <th>ICE</th>\n",
       "    </tr>\n",
       "  </thead>\n",
       "  <tbody>\n",
       "    <tr>\n",
       "      <th>8</th>\n",
       "      <td>Запустить акцию, дающую скидку на товар в день рождения</td>\n",
       "      <td>1</td>\n",
       "      <td>9</td>\n",
       "      <td>9</td>\n",
       "      <td>5</td>\n",
       "      <td>16.20</td>\n",
       "    </tr>\n",
       "    <tr>\n",
       "      <th>0</th>\n",
       "      <td>Добавить два новых канала привлечения трафика, что позволит привлекать на 30% больше пользователей</td>\n",
       "      <td>3</td>\n",
       "      <td>10</td>\n",
       "      <td>8</td>\n",
       "      <td>6</td>\n",
       "      <td>13.33</td>\n",
       "    </tr>\n",
       "    <tr>\n",
       "      <th>7</th>\n",
       "      <td>Добавить форму подписки на все основные страницы, чтобы собрать базу клиентов для email-рассылок</td>\n",
       "      <td>10</td>\n",
       "      <td>7</td>\n",
       "      <td>8</td>\n",
       "      <td>5</td>\n",
       "      <td>11.20</td>\n",
       "    </tr>\n",
       "    <tr>\n",
       "      <th>6</th>\n",
       "      <td>Показать на главной странице баннеры с актуальными акциями и распродажами, чтобы увеличить конверсию</td>\n",
       "      <td>5</td>\n",
       "      <td>3</td>\n",
       "      <td>8</td>\n",
       "      <td>3</td>\n",
       "      <td>8.00</td>\n",
       "    </tr>\n",
       "    <tr>\n",
       "      <th>2</th>\n",
       "      <td>Добавить блоки рекомендаций товаров на сайт интернет магазина, чтобы повысить конверсию и средний чек заказа</td>\n",
       "      <td>8</td>\n",
       "      <td>3</td>\n",
       "      <td>7</td>\n",
       "      <td>3</td>\n",
       "      <td>7.00</td>\n",
       "    </tr>\n",
       "    <tr>\n",
       "      <th>1</th>\n",
       "      <td>Запустить собственную службу доставки, что сократит срок доставки заказов</td>\n",
       "      <td>2</td>\n",
       "      <td>5</td>\n",
       "      <td>4</td>\n",
       "      <td>10</td>\n",
       "      <td>2.00</td>\n",
       "    </tr>\n",
       "    <tr>\n",
       "      <th>5</th>\n",
       "      <td>Добавить страницу отзывов клиентов о магазине, что позволит увеличить количество заказов</td>\n",
       "      <td>3</td>\n",
       "      <td>2</td>\n",
       "      <td>2</td>\n",
       "      <td>3</td>\n",
       "      <td>1.33</td>\n",
       "    </tr>\n",
       "    <tr>\n",
       "      <th>3</th>\n",
       "      <td>Изменить структура категорий, что увеличит конверсию, т.к. пользователи быстрее найдут нужный товар</td>\n",
       "      <td>8</td>\n",
       "      <td>3</td>\n",
       "      <td>3</td>\n",
       "      <td>8</td>\n",
       "      <td>1.12</td>\n",
       "    </tr>\n",
       "    <tr>\n",
       "      <th>4</th>\n",
       "      <td>Изменить цвет фона главной страницы, чтобы увеличить вовлеченность пользователей</td>\n",
       "      <td>3</td>\n",
       "      <td>1</td>\n",
       "      <td>1</td>\n",
       "      <td>1</td>\n",
       "      <td>1.00</td>\n",
       "    </tr>\n",
       "  </tbody>\n",
       "</table>\n",
       "</div>"
      ],
      "text/plain": [
       "                                                                                                     Hypothesis  \\\n",
       "8  Запустить акцию, дающую скидку на товар в день рождения                                                        \n",
       "0  Добавить два новых канала привлечения трафика, что позволит привлекать на 30% больше пользователей             \n",
       "7  Добавить форму подписки на все основные страницы, чтобы собрать базу клиентов для email-рассылок               \n",
       "6  Показать на главной странице баннеры с актуальными акциями и распродажами, чтобы увеличить конверсию           \n",
       "2  Добавить блоки рекомендаций товаров на сайт интернет магазина, чтобы повысить конверсию и средний чек заказа   \n",
       "1  Запустить собственную службу доставки, что сократит срок доставки заказов                                      \n",
       "5  Добавить страницу отзывов клиентов о магазине, что позволит увеличить количество заказов                       \n",
       "3  Изменить структура категорий, что увеличит конверсию, т.к. пользователи быстрее найдут нужный товар            \n",
       "4  Изменить цвет фона главной страницы, чтобы увеличить вовлеченность пользователей                               \n",
       "\n",
       "   Reach  Impact  Confidence  Efforts    ICE  \n",
       "8  1      9       9           5        16.20  \n",
       "0  3      10      8           6        13.33  \n",
       "7  10     7       8           5        11.20  \n",
       "6  5      3       8           3        8.00   \n",
       "2  8      3       7           3        7.00   \n",
       "1  2      5       4           10       2.00   \n",
       "5  3      2       2           3        1.33   \n",
       "3  8      3       3           8        1.12   \n",
       "4  3      1       1           1        1.00   "
      ]
     },
     "execution_count": 67,
     "metadata": {},
     "output_type": "execute_result"
    }
   ],
   "source": [
    "hypotesis['ICE'] = round(hypotesis['Impact'] * hypotesis['Confidence'] / hypotesis['Efforts'], 2)\n",
    "hypotesis.sort_values(by='ICE', ascending=False)"
   ]
  },
  {
   "cell_type": "markdown",
   "metadata": {},
   "source": [
    "**Вывод:** В результате применения метода ***ICE*** наиболее приоритетными оказались гипотезы:\n",
    "- Запустить акцию, дающую скидку на товар в день рождения\n",
    "- Добавить два новых канала привлечения трафика, что позволит привлекать на 30% больше пользователей\t\n",
    "- Добавить форму подписки на все основные страницы, чтобы собрать базу клиентов для email-рассылок"
   ]
  },
  {
   "cell_type": "markdown",
   "metadata": {},
   "source": [
    "### Приоритизация гипотез методом RICE"
   ]
  },
  {
   "cell_type": "code",
   "execution_count": 68,
   "metadata": {},
   "outputs": [
    {
     "data": {
      "text/html": [
       "<div>\n",
       "<style scoped>\n",
       "    .dataframe tbody tr th:only-of-type {\n",
       "        vertical-align: middle;\n",
       "    }\n",
       "\n",
       "    .dataframe tbody tr th {\n",
       "        vertical-align: top;\n",
       "    }\n",
       "\n",
       "    .dataframe thead th {\n",
       "        text-align: right;\n",
       "    }\n",
       "</style>\n",
       "<table border=\"1\" class=\"dataframe\">\n",
       "  <thead>\n",
       "    <tr style=\"text-align: right;\">\n",
       "      <th></th>\n",
       "      <th>Hypothesis</th>\n",
       "      <th>Reach</th>\n",
       "      <th>Impact</th>\n",
       "      <th>Confidence</th>\n",
       "      <th>Efforts</th>\n",
       "      <th>ICE</th>\n",
       "      <th>RICE</th>\n",
       "    </tr>\n",
       "  </thead>\n",
       "  <tbody>\n",
       "    <tr>\n",
       "      <th>7</th>\n",
       "      <td>Добавить форму подписки на все основные страницы, чтобы собрать базу клиентов для email-рассылок</td>\n",
       "      <td>10</td>\n",
       "      <td>7</td>\n",
       "      <td>8</td>\n",
       "      <td>5</td>\n",
       "      <td>11.20</td>\n",
       "      <td>112.0</td>\n",
       "    </tr>\n",
       "    <tr>\n",
       "      <th>2</th>\n",
       "      <td>Добавить блоки рекомендаций товаров на сайт интернет магазина, чтобы повысить конверсию и средний чек заказа</td>\n",
       "      <td>8</td>\n",
       "      <td>3</td>\n",
       "      <td>7</td>\n",
       "      <td>3</td>\n",
       "      <td>7.00</td>\n",
       "      <td>56.0</td>\n",
       "    </tr>\n",
       "    <tr>\n",
       "      <th>0</th>\n",
       "      <td>Добавить два новых канала привлечения трафика, что позволит привлекать на 30% больше пользователей</td>\n",
       "      <td>3</td>\n",
       "      <td>10</td>\n",
       "      <td>8</td>\n",
       "      <td>6</td>\n",
       "      <td>13.33</td>\n",
       "      <td>40.0</td>\n",
       "    </tr>\n",
       "    <tr>\n",
       "      <th>6</th>\n",
       "      <td>Показать на главной странице баннеры с актуальными акциями и распродажами, чтобы увеличить конверсию</td>\n",
       "      <td>5</td>\n",
       "      <td>3</td>\n",
       "      <td>8</td>\n",
       "      <td>3</td>\n",
       "      <td>8.00</td>\n",
       "      <td>40.0</td>\n",
       "    </tr>\n",
       "    <tr>\n",
       "      <th>8</th>\n",
       "      <td>Запустить акцию, дающую скидку на товар в день рождения</td>\n",
       "      <td>1</td>\n",
       "      <td>9</td>\n",
       "      <td>9</td>\n",
       "      <td>5</td>\n",
       "      <td>16.20</td>\n",
       "      <td>16.2</td>\n",
       "    </tr>\n",
       "    <tr>\n",
       "      <th>3</th>\n",
       "      <td>Изменить структура категорий, что увеличит конверсию, т.к. пользователи быстрее найдут нужный товар</td>\n",
       "      <td>8</td>\n",
       "      <td>3</td>\n",
       "      <td>3</td>\n",
       "      <td>8</td>\n",
       "      <td>1.12</td>\n",
       "      <td>9.0</td>\n",
       "    </tr>\n",
       "    <tr>\n",
       "      <th>1</th>\n",
       "      <td>Запустить собственную службу доставки, что сократит срок доставки заказов</td>\n",
       "      <td>2</td>\n",
       "      <td>5</td>\n",
       "      <td>4</td>\n",
       "      <td>10</td>\n",
       "      <td>2.00</td>\n",
       "      <td>4.0</td>\n",
       "    </tr>\n",
       "    <tr>\n",
       "      <th>5</th>\n",
       "      <td>Добавить страницу отзывов клиентов о магазине, что позволит увеличить количество заказов</td>\n",
       "      <td>3</td>\n",
       "      <td>2</td>\n",
       "      <td>2</td>\n",
       "      <td>3</td>\n",
       "      <td>1.33</td>\n",
       "      <td>4.0</td>\n",
       "    </tr>\n",
       "    <tr>\n",
       "      <th>4</th>\n",
       "      <td>Изменить цвет фона главной страницы, чтобы увеличить вовлеченность пользователей</td>\n",
       "      <td>3</td>\n",
       "      <td>1</td>\n",
       "      <td>1</td>\n",
       "      <td>1</td>\n",
       "      <td>1.00</td>\n",
       "      <td>3.0</td>\n",
       "    </tr>\n",
       "  </tbody>\n",
       "</table>\n",
       "</div>"
      ],
      "text/plain": [
       "                                                                                                     Hypothesis  \\\n",
       "7  Добавить форму подписки на все основные страницы, чтобы собрать базу клиентов для email-рассылок               \n",
       "2  Добавить блоки рекомендаций товаров на сайт интернет магазина, чтобы повысить конверсию и средний чек заказа   \n",
       "0  Добавить два новых канала привлечения трафика, что позволит привлекать на 30% больше пользователей             \n",
       "6  Показать на главной странице баннеры с актуальными акциями и распродажами, чтобы увеличить конверсию           \n",
       "8  Запустить акцию, дающую скидку на товар в день рождения                                                        \n",
       "3  Изменить структура категорий, что увеличит конверсию, т.к. пользователи быстрее найдут нужный товар            \n",
       "1  Запустить собственную службу доставки, что сократит срок доставки заказов                                      \n",
       "5  Добавить страницу отзывов клиентов о магазине, что позволит увеличить количество заказов                       \n",
       "4  Изменить цвет фона главной страницы, чтобы увеличить вовлеченность пользователей                               \n",
       "\n",
       "   Reach  Impact  Confidence  Efforts    ICE   RICE  \n",
       "7  10     7       8           5        11.20  112.0  \n",
       "2  8      3       7           3        7.00   56.0   \n",
       "0  3      10      8           6        13.33  40.0   \n",
       "6  5      3       8           3        8.00   40.0   \n",
       "8  1      9       9           5        16.20  16.2   \n",
       "3  8      3       3           8        1.12   9.0    \n",
       "1  2      5       4           10       2.00   4.0    \n",
       "5  3      2       2           3        1.33   4.0    \n",
       "4  3      1       1           1        1.00   3.0    "
      ]
     },
     "execution_count": 68,
     "metadata": {},
     "output_type": "execute_result"
    }
   ],
   "source": [
    "hypotesis['RICE'] = hypotesis['Reach'] * hypotesis['Impact'] * hypotesis['Confidence'] / hypotesis['Efforts']\n",
    "hypotesis.sort_values(by='RICE', ascending=False)"
   ]
  },
  {
   "cell_type": "markdown",
   "metadata": {},
   "source": [
    "**Вывод:** В результате применения метода ***RICE*** наиболее приоритетными оказались гипотезы:\n",
    "- Добавить форму подписки на все основные страницы, чтобы собрать базу клиентов для email-рассылок\t\n",
    "- Добавить блоки рекомендаций товаров на сайт интернет магазина, чтобы повысить конверсию и средний чек заказа\t\n",
    "- Добавить два новых канала привлечения трафика, что позволит привлекать на 30% больше пользователей\n",
    "- Показать на главной странице баннеры с актуальными акциями и распродажами, чтобы увеличить конверсию\t\n",
    "Таким образом, учитывая охват гипотеза \"Запустить акцию, дающую скидку на товар в день рождения\" с первого места сместилась на пятое, а гипотеза \"Добавить форму подписки на все основные страницы, чтобы собрать базу клиентов для email-рассылок\" наоборот стала лидером, и именно ее, на мой взляд, и стоит протестировать перовой."
   ]
  },
  {
   "cell_type": "markdown",
   "metadata": {},
   "source": [
    "## Анализ A/B теста\n",
    "После проведения A/B-теста были получены результаты, которые описаны в файлах `/datasets/orders.csv` и `/datasets/visitors.csv`."
   ]
  },
  {
   "cell_type": "code",
   "execution_count": 69,
   "metadata": {},
   "outputs": [
    {
     "data": {
      "text/html": [
       "<div>\n",
       "<style scoped>\n",
       "    .dataframe tbody tr th:only-of-type {\n",
       "        vertical-align: middle;\n",
       "    }\n",
       "\n",
       "    .dataframe tbody tr th {\n",
       "        vertical-align: top;\n",
       "    }\n",
       "\n",
       "    .dataframe thead th {\n",
       "        text-align: right;\n",
       "    }\n",
       "</style>\n",
       "<table border=\"1\" class=\"dataframe\">\n",
       "  <thead>\n",
       "    <tr style=\"text-align: right;\">\n",
       "      <th></th>\n",
       "      <th>transactionId</th>\n",
       "      <th>visitorId</th>\n",
       "      <th>date</th>\n",
       "      <th>revenue</th>\n",
       "      <th>group</th>\n",
       "    </tr>\n",
       "  </thead>\n",
       "  <tbody>\n",
       "    <tr>\n",
       "      <th>0</th>\n",
       "      <td>3667963787</td>\n",
       "      <td>3312258926</td>\n",
       "      <td>2019-08-15</td>\n",
       "      <td>1650</td>\n",
       "      <td>B</td>\n",
       "    </tr>\n",
       "    <tr>\n",
       "      <th>1</th>\n",
       "      <td>2804400009</td>\n",
       "      <td>3642806036</td>\n",
       "      <td>2019-08-15</td>\n",
       "      <td>730</td>\n",
       "      <td>B</td>\n",
       "    </tr>\n",
       "    <tr>\n",
       "      <th>2</th>\n",
       "      <td>2961555356</td>\n",
       "      <td>4069496402</td>\n",
       "      <td>2019-08-15</td>\n",
       "      <td>400</td>\n",
       "      <td>A</td>\n",
       "    </tr>\n",
       "    <tr>\n",
       "      <th>3</th>\n",
       "      <td>3797467345</td>\n",
       "      <td>1196621759</td>\n",
       "      <td>2019-08-15</td>\n",
       "      <td>9759</td>\n",
       "      <td>B</td>\n",
       "    </tr>\n",
       "    <tr>\n",
       "      <th>4</th>\n",
       "      <td>2282983706</td>\n",
       "      <td>2322279887</td>\n",
       "      <td>2019-08-15</td>\n",
       "      <td>2308</td>\n",
       "      <td>B</td>\n",
       "    </tr>\n",
       "  </tbody>\n",
       "</table>\n",
       "</div>"
      ],
      "text/plain": [
       "   transactionId   visitorId        date  revenue group\n",
       "0  3667963787     3312258926  2019-08-15  1650     B   \n",
       "1  2804400009     3642806036  2019-08-15  730      B   \n",
       "2  2961555356     4069496402  2019-08-15  400      A   \n",
       "3  3797467345     1196621759  2019-08-15  9759     B   \n",
       "4  2282983706     2322279887  2019-08-15  2308     B   "
      ]
     },
     "execution_count": 69,
     "metadata": {},
     "output_type": "execute_result"
    }
   ],
   "source": [
    "orders = pd.read_csv('/datasets/orders.csv')\n",
    "orders.head()"
   ]
  },
  {
   "cell_type": "code",
   "execution_count": 70,
   "metadata": {},
   "outputs": [
    {
     "data": {
      "text/html": [
       "<div>\n",
       "<style scoped>\n",
       "    .dataframe tbody tr th:only-of-type {\n",
       "        vertical-align: middle;\n",
       "    }\n",
       "\n",
       "    .dataframe tbody tr th {\n",
       "        vertical-align: top;\n",
       "    }\n",
       "\n",
       "    .dataframe thead th {\n",
       "        text-align: right;\n",
       "    }\n",
       "</style>\n",
       "<table border=\"1\" class=\"dataframe\">\n",
       "  <thead>\n",
       "    <tr style=\"text-align: right;\">\n",
       "      <th></th>\n",
       "      <th>date</th>\n",
       "      <th>group</th>\n",
       "      <th>visitors</th>\n",
       "    </tr>\n",
       "  </thead>\n",
       "  <tbody>\n",
       "    <tr>\n",
       "      <th>0</th>\n",
       "      <td>2019-08-01</td>\n",
       "      <td>A</td>\n",
       "      <td>719</td>\n",
       "    </tr>\n",
       "    <tr>\n",
       "      <th>1</th>\n",
       "      <td>2019-08-02</td>\n",
       "      <td>A</td>\n",
       "      <td>619</td>\n",
       "    </tr>\n",
       "    <tr>\n",
       "      <th>2</th>\n",
       "      <td>2019-08-03</td>\n",
       "      <td>A</td>\n",
       "      <td>507</td>\n",
       "    </tr>\n",
       "    <tr>\n",
       "      <th>3</th>\n",
       "      <td>2019-08-04</td>\n",
       "      <td>A</td>\n",
       "      <td>717</td>\n",
       "    </tr>\n",
       "    <tr>\n",
       "      <th>4</th>\n",
       "      <td>2019-08-05</td>\n",
       "      <td>A</td>\n",
       "      <td>756</td>\n",
       "    </tr>\n",
       "  </tbody>\n",
       "</table>\n",
       "</div>"
      ],
      "text/plain": [
       "         date group  visitors\n",
       "0  2019-08-01  A     719     \n",
       "1  2019-08-02  A     619     \n",
       "2  2019-08-03  A     507     \n",
       "3  2019-08-04  A     717     \n",
       "4  2019-08-05  A     756     "
      ]
     },
     "execution_count": 70,
     "metadata": {},
     "output_type": "execute_result"
    }
   ],
   "source": [
    "visitors = pd.read_csv('/datasets/visitors.csv')\n",
    "visitors.head()"
   ]
  },
  {
   "cell_type": "code",
   "execution_count": 71,
   "metadata": {},
   "outputs": [
    {
     "name": "stdout",
     "output_type": "stream",
     "text": [
      "<class 'pandas.core.frame.DataFrame'>\n",
      "RangeIndex: 1197 entries, 0 to 1196\n",
      "Data columns (total 5 columns):\n",
      " #   Column         Non-Null Count  Dtype \n",
      "---  ------         --------------  ----- \n",
      " 0   transactionId  1197 non-null   int64 \n",
      " 1   visitorId      1197 non-null   int64 \n",
      " 2   date           1197 non-null   object\n",
      " 3   revenue        1197 non-null   int64 \n",
      " 4   group          1197 non-null   object\n",
      "dtypes: int64(3), object(2)\n",
      "memory usage: 46.9+ KB\n"
     ]
    }
   ],
   "source": [
    "orders.info()"
   ]
  },
  {
   "cell_type": "code",
   "execution_count": 72,
   "metadata": {},
   "outputs": [
    {
     "name": "stdout",
     "output_type": "stream",
     "text": [
      "<class 'pandas.core.frame.DataFrame'>\n",
      "RangeIndex: 62 entries, 0 to 61\n",
      "Data columns (total 3 columns):\n",
      " #   Column    Non-Null Count  Dtype \n",
      "---  ------    --------------  ----- \n",
      " 0   date      62 non-null     object\n",
      " 1   group     62 non-null     object\n",
      " 2   visitors  62 non-null     int64 \n",
      "dtypes: int64(1), object(2)\n",
      "memory usage: 1.6+ KB\n"
     ]
    }
   ],
   "source": [
    "visitors.info()"
   ]
  },
  {
   "cell_type": "code",
   "execution_count": 73,
   "metadata": {},
   "outputs": [
    {
     "data": {
      "text/plain": [
       "0"
      ]
     },
     "execution_count": 73,
     "metadata": {},
     "output_type": "execute_result"
    }
   ],
   "source": [
    "orders.duplicated().sum()"
   ]
  },
  {
   "cell_type": "code",
   "execution_count": 74,
   "metadata": {},
   "outputs": [
    {
     "data": {
      "text/plain": [
       "0"
      ]
     },
     "execution_count": 74,
     "metadata": {},
     "output_type": "execute_result"
    }
   ],
   "source": [
    "visitors.duplicated().sum()"
   ]
  },
  {
   "cell_type": "markdown",
   "metadata": {},
   "source": [
    "**Вывод:** Пропуски в данных и дубликаты отсутсвуют. Необходимо заменить тип столбцов с датой"
   ]
  },
  {
   "cell_type": "markdown",
   "metadata": {},
   "source": [
    "### Предобработка данных\n",
    "Преобразуем типы в столбцах с датами"
   ]
  },
  {
   "cell_type": "code",
   "execution_count": 75,
   "metadata": {},
   "outputs": [],
   "source": [
    "orders['date'] = pd.to_datetime(orders['date'])\n",
    "visitors['date'] = pd.to_datetime(visitors['date'])"
   ]
  },
  {
   "cell_type": "markdown",
   "metadata": {},
   "source": [
    "Проверим не пересекаются ли тестовые группы"
   ]
  },
  {
   "cell_type": "code",
   "execution_count": 76,
   "metadata": {},
   "outputs": [
    {
     "data": {
      "text/plain": [
       "58"
      ]
     },
     "execution_count": 76,
     "metadata": {},
     "output_type": "execute_result"
    }
   ],
   "source": [
    "a = set(orders[orders['group'] == \"A\"]['visitorId']) # множество id пользователей группы а\n",
    "b = set(orders[orders['group'] == \"B\"]['visitorId']) # множество id пользователей группы b\n",
    "a_and_b = a.intersection(b) # пересечение множеств id пользователей групп a и b\n",
    "len(a.intersection(b))"
   ]
  },
  {
   "cell_type": "markdown",
   "metadata": {},
   "source": [
    "58 человек вошли в обе группы, необходимо удалить их из датафрейма orders, и соответсвенно уменьшить количество пользователей в определенные даты в датафрейме visitors."
   ]
  },
  {
   "cell_type": "code",
   "execution_count": 77,
   "metadata": {},
   "outputs": [],
   "source": [
    "# создадим таблицу, где количество дублирующихся пользователей будет сгруппированно по дате и группе\n",
    "# что бы впоследствии уменьшить на соответсвующее количество пользователей в датафрейме visitors\n",
    "wrong_visitors = (orders.query('visitorId in @a_and_b')\n",
    "               .groupby(['date', 'group'], as_index=False)\n",
    "               .agg({'visitorId':'nunique'}).rename(columns={'visitorId':'wrong_visitors'})\n",
    "              )"
   ]
  },
  {
   "cell_type": "code",
   "execution_count": 78,
   "metadata": {},
   "outputs": [],
   "source": [
    "# удалим дублрующихся в обоих группах пользователей из orders\n",
    "orders = orders.query('visitorId not in @a_and_b')"
   ]
  },
  {
   "cell_type": "code",
   "execution_count": 79,
   "metadata": {},
   "outputs": [],
   "source": [
    "# удалим дублирующихся пользователей из visitors\n",
    "visitors = visitors.merge(wrong_visitors, how='left', on=['date', 'group']).fillna(0)\n",
    "visitors['visitors'] = (visitors['visitors'] - visitors['wrong_visitors']).astype('int')\n",
    "visitors = visitors[['date', 'group', 'visitors']]"
   ]
  },
  {
   "cell_type": "markdown",
   "metadata": {},
   "source": [
    "**Вывод:** В результате предобработки произведено преобразование типов. Из обоих таблиц удалены пользователи, состоящие в обоих тестируемых группах"
   ]
  },
  {
   "cell_type": "markdown",
   "metadata": {},
   "source": [
    "### Анализ куммулятивных метрик\n",
    "Чтобы построить графики, нужно собрать кумулятивные данные. Объявим датафрейм `cumulativeData` со столбцами: \n",
    "- `date` — дата;\n",
    "- `group` — группа A/B-теста (A или B);\n",
    "- `orders` — кумулятивное количество заказов на указанную дату в указанной группе;\n",
    "- `buyers` — кумулятивное количество пользователей, совершивших хотя бы один заказ, на указанную дату в указанной группе;\n",
    "- `revenue` — кумулятивная выручка на указанную дату в указанной группе (средний чек);\n",
    "- `visitors` — кумулятивное количество посетителей интернет-магазина на указанную дату в определённой группе."
   ]
  },
  {
   "cell_type": "code",
   "execution_count": 80,
   "metadata": {},
   "outputs": [
    {
     "data": {
      "text/html": [
       "<div>\n",
       "<style scoped>\n",
       "    .dataframe tbody tr th:only-of-type {\n",
       "        vertical-align: middle;\n",
       "    }\n",
       "\n",
       "    .dataframe tbody tr th {\n",
       "        vertical-align: top;\n",
       "    }\n",
       "\n",
       "    .dataframe thead th {\n",
       "        text-align: right;\n",
       "    }\n",
       "</style>\n",
       "<table border=\"1\" class=\"dataframe\">\n",
       "  <thead>\n",
       "    <tr style=\"text-align: right;\">\n",
       "      <th></th>\n",
       "      <th>date</th>\n",
       "      <th>group</th>\n",
       "      <th>orders</th>\n",
       "      <th>buyers</th>\n",
       "      <th>revenue</th>\n",
       "      <th>visitors</th>\n",
       "    </tr>\n",
       "  </thead>\n",
       "  <tbody>\n",
       "    <tr>\n",
       "      <th>0</th>\n",
       "      <td>2019-08-01</td>\n",
       "      <td>A</td>\n",
       "      <td>23</td>\n",
       "      <td>19</td>\n",
       "      <td>142779</td>\n",
       "      <td>718</td>\n",
       "    </tr>\n",
       "    <tr>\n",
       "      <th>1</th>\n",
       "      <td>2019-08-01</td>\n",
       "      <td>B</td>\n",
       "      <td>17</td>\n",
       "      <td>17</td>\n",
       "      <td>59758</td>\n",
       "      <td>710</td>\n",
       "    </tr>\n",
       "    <tr>\n",
       "      <th>2</th>\n",
       "      <td>2019-08-02</td>\n",
       "      <td>A</td>\n",
       "      <td>42</td>\n",
       "      <td>36</td>\n",
       "      <td>234381</td>\n",
       "      <td>1336</td>\n",
       "    </tr>\n",
       "    <tr>\n",
       "      <th>3</th>\n",
       "      <td>2019-08-02</td>\n",
       "      <td>B</td>\n",
       "      <td>40</td>\n",
       "      <td>39</td>\n",
       "      <td>221801</td>\n",
       "      <td>1290</td>\n",
       "    </tr>\n",
       "    <tr>\n",
       "      <th>4</th>\n",
       "      <td>2019-08-03</td>\n",
       "      <td>A</td>\n",
       "      <td>66</td>\n",
       "      <td>60</td>\n",
       "      <td>346854</td>\n",
       "      <td>1843</td>\n",
       "    </tr>\n",
       "  </tbody>\n",
       "</table>\n",
       "</div>"
      ],
      "text/plain": [
       "        date group  orders  buyers  revenue  visitors\n",
       "0 2019-08-01  A     23      19      142779   718     \n",
       "1 2019-08-01  B     17      17      59758    710     \n",
       "2 2019-08-02  A     42      36      234381   1336    \n",
       "3 2019-08-02  B     40      39      221801   1290    \n",
       "4 2019-08-03  A     66      60      346854   1843    "
      ]
     },
     "execution_count": 80,
     "metadata": {},
     "output_type": "execute_result"
    }
   ],
   "source": [
    "# создаем массив уникальных пар значений дат и групп теста\n",
    "datesGroups = orders[['date','group']].drop_duplicates() \n",
    "\n",
    "# получаем агрегированные кумулятивные по дням данные о заказах\n",
    "ordersAggregated = (datesGroups\n",
    "                    .apply(lambda x: orders[(orders['date'] <= x['date']) & (orders['group'] == x['group'])]\n",
    "                           .agg({'date':'max', \n",
    "                                 'group':'max', \n",
    "                                 'transactionId':'nunique', \n",
    "                                 'visitorId':'nunique', \n",
    "                                 'revenue':'sum'}), axis = 1)\n",
    "                    .sort_values(by=['date', 'group'])\n",
    "                   )\n",
    "\n",
    "# получаем агрегированные кумулятивные по дням данные о посетителях интернет-магазина\n",
    "visitorsAggregated = (datesGroups\n",
    "                      .apply(lambda x: visitors[(visitors['date'] <= x['date']) & (visitors['group'] == x['group'])]\n",
    "                             .agg({'date' : 'max', \n",
    "                                   'group' : 'max', \n",
    "                                   'visitors' : 'sum'}), axis=1)\n",
    "                      .sort_values(by=['date','group'])\n",
    "                     )\n",
    "\n",
    "# объединяем кумулятивные данные в одной таблице и присваиваем ее столбцам понятные названия\n",
    "cumulativeData = ordersAggregated.merge(visitorsAggregated, left_on=['date', 'group'], right_on=['date', 'group'])\n",
    "cumulativeData.columns = ['date', 'group', 'orders', 'buyers', 'revenue', 'visitors']\n",
    "\n",
    "cumulativeData.head()"
   ]
  },
  {
   "cell_type": "markdown",
   "metadata": {},
   "source": [
    "Построим графики ***кумулятивной выручки*** по дням и группам A/B-тестирования:"
   ]
  },
  {
   "cell_type": "code",
   "execution_count": 112,
   "metadata": {},
   "outputs": [
    {
     "data": {
      "image/png": "[encoded data removed]",
      "text/plain": [
       "<Figure size 720x360 with 1 Axes>"
      ]
     },
     "metadata": {
      "needs_background": "light"
     },
     "output_type": "display_data"
    }
   ],
   "source": [
    "\n",
    "\n",
    "# датафрейм с кумулятивным количеством заказов и кумулятивной выручкой по дням в группе А\n",
    "cumulativeRevenueA = cumulativeData[cumulativeData['group']=='A'][['date','revenue', 'orders']]\n",
    "\n",
    "# датафрейм с кумулятивным количеством заказов и кумулятивной выручкой по дням в группе B\n",
    "cumulativeRevenueB = cumulativeData[cumulativeData['group']=='B'][['date','revenue', 'orders']]\n",
    "\n",
    "plt.figure(figsize=(10, 5))\n",
    "\n",
    "# Строим график выручки группы А\n",
    "plt.plot(cumulativeRevenueA['date'], cumulativeRevenueA['revenue'], label='A')\n",
    "\n",
    "# Строим график выручки группы B\n",
    "plt.plot(cumulativeRevenueB['date'], cumulativeRevenueB['revenue'], label='B')\n",
    "\n",
    "plt.title('График кумулятивной выручки по дням')\n",
    "plt.xlabel('Даты')\n",
    "plt.ylabel('Куммулятивная выручка')\n",
    "plt.xticks(rotation=45)\n",
    "plt.legend();"
   ]
  },
  {
   "cell_type": "markdown",
   "metadata": {},
   "source": [
    "**Вывод:** Куммулятивная выручка группы A почти линейно растет. С середины второй недели кумулятивная выручка группы B резко увеличилась и остается стабильно выше, чем у группы А. Это может говорить о резком увелисении числа заказов в группе В или о появлении очень дорогих заказов в выбоке"
   ]
  },
  {
   "cell_type": "markdown",
   "metadata": {},
   "source": [
    "Построим график ***кумулятивного среднего чека*** по группам — разделим кумулятивную выручку на кумулятивное число заказов:\n"
   ]
  },
  {
   "cell_type": "code",
   "execution_count": 111,
   "metadata": {},
   "outputs": [
    {
     "data": {
      "image/png": "[encoded data removed]",
      "text/plain": [
       "<Figure size 720x360 with 1 Axes>"
      ]
     },
     "metadata": {
      "needs_background": "light"
     },
     "output_type": "display_data"
    }
   ],
   "source": [
    "plt.figure(figsize=(10, 5))\n",
    "plt.title('График кумулятивного среднего чека по дням')\n",
    "plt.plot(cumulativeRevenueA['date'], cumulativeRevenueA['revenue']/cumulativeRevenueA['orders'], label='A')\n",
    "plt.plot(cumulativeRevenueB['date'], cumulativeRevenueB['revenue']/cumulativeRevenueB['orders'], label='B')\n",
    "plt.xlabel('Даты')\n",
    "plt.ylabel('Куммулятивный средний чек')\n",
    "plt.xticks(rotation=45)\n",
    "plt.legend();"
   ]
  },
  {
   "cell_type": "markdown",
   "metadata": {},
   "source": [
    "**Вывод:** Средний чек группы A становится равномерным к концу эксперимента и устанавливается на уровне 7000. Средний чек группы В значительно скакнул вверх в середине второй недели. Это объясняет резкое увеличение общей выручки группы B - в выборке появились очень дорогие заказы. Но со временем средний чек группы B снижается "
   ]
  },
  {
   "cell_type": "markdown",
   "metadata": {},
   "source": [
    "Построим график ***относительного изменения кумулятивного среднего чека группы B к группе A***"
   ]
  },
  {
   "cell_type": "code",
   "execution_count": 110,
   "metadata": {},
   "outputs": [
    {
     "data": {
      "image/png": "[encoded data removed]",
      "text/plain": [
       "<Figure size 720x360 with 1 Axes>"
      ]
     },
     "metadata": {
      "needs_background": "light"
     },
     "output_type": "display_data"
    }
   ],
   "source": [
    "# собираем данные в одном датафрейме\n",
    "mergedCumulativeRevenue = cumulativeRevenueA.merge(cumulativeRevenueB, left_on='date', right_on='date', how='left', suffixes=['A', 'B'])\n",
    "\n",
    "plt.figure(figsize=(10, 5))\n",
    "plt.title('График относительного изменения кумулятивного среднего чека группы B к группе A')\n",
    "\n",
    "# cтроим отношение средних чеков\n",
    "plt.plot(mergedCumulativeRevenue['date'], (mergedCumulativeRevenue['revenueB']/mergedCumulativeRevenue['ordersB'])/(mergedCumulativeRevenue['revenueA']/mergedCumulativeRevenue['ordersA'])-1)\n",
    "plt.xlabel('Даты')\n",
    "plt.ylabel('Соотношение кумулятивных средних чеков')\n",
    "plt.xticks(rotation=45)\n",
    "# добавляем ось X\n",
    "plt.axhline(y=0, color='black', linestyle='--');"
   ]
  },
  {
   "cell_type": "markdown",
   "metadata": {},
   "source": [
    "**Вывод:** В нескольких точках график различия между сегментами резко «скачет». Где-то уж точно спрятались крупные заказы и выбросы! Найдём их позже."
   ]
  },
  {
   "cell_type": "markdown",
   "metadata": {},
   "source": [
    "Построим график **кумулятивного количества заказов** по группам"
   ]
  },
  {
   "cell_type": "code",
   "execution_count": 117,
   "metadata": {},
   "outputs": [
    {
     "data": {
      "image/png": "[encoded data removed]",
      "text/plain": [
       "<Figure size 720x360 with 1 Axes>"
      ]
     },
     "metadata": {
      "needs_background": "light"
     },
     "output_type": "display_data"
    }
   ],
   "source": [
    "# отделяем данные по группе A\n",
    "cumulativeDataA = cumulativeData[cumulativeData['group']=='A']\n",
    "\n",
    "# отделяем данные по группе B\n",
    "cumulativeDataB = cumulativeData[cumulativeData['group']=='B']\n",
    "\n",
    "# строим графики\n",
    "plt.figure(figsize=(10, 5))\n",
    "plt.title('График кумулятивного количества заказов по группам')\n",
    "plt.plot(cumulativeDataA['date'], cumulativeDataA['orders'], label='A')\n",
    "plt.plot(cumulativeDataB['date'], cumulativeDataB['orders'], label='B')\n",
    "plt.xlabel('Даты')\n",
    "plt.ylabel('Кумулятивное количество заказов')\n",
    "plt.xticks(rotation=45)\n",
    "plt.legend();"
   ]
  },
  {
   "cell_type": "markdown",
   "metadata": {},
   "source": [
    "**Вывод:** В конце первой недели группа B вырывается вперед по количеству заказов и держится стабильно выше группы A"
   ]
  },
  {
   "cell_type": "markdown",
   "metadata": {},
   "source": [
    "Построим график ***относительного изменения кумулятивной количества заказов группы B к группе A***"
   ]
  },
  {
   "cell_type": "code",
   "execution_count": 119,
   "metadata": {},
   "outputs": [
    {
     "data": {
      "image/png": "[encoded data removed]",
      "text/plain": [
       "<Figure size 720x360 with 1 Axes>"
      ]
     },
     "metadata": {
      "needs_background": "light"
     },
     "output_type": "display_data"
    }
   ],
   "source": [
    "mergedCumulativeOrders = cumulativeDataA[['date','orders']].merge(cumulativeDataB[['date','orders']], left_on='date', right_on='date', how='left', suffixes=['A', 'B'])\n",
    "\n",
    "plt.figure(figsize=(10, 5))\n",
    "plt.title('График относительного изменения кумулятивного количества заказов группы B к группе A')\n",
    "plt.plot(mergedCumulativeOrders['date'], mergedCumulativeOrders['ordersB']/mergedCumulativeOrders['ordersA']-1, label=\"Относительный прирост количества заказов группы B относительно группы A\")\n",
    "plt.xlabel('Даты')\n",
    "plt.ylabel('Соотношение куммулятивного количества заказов')\n",
    "plt.xticks(rotation=45)\n",
    "plt.legend()\n",
    "\n",
    "plt.axhline(y=0, color='black', linestyle='--')\n",
    "plt.axhline(y=0.15, color='grey', linestyle='--');"
   ]
  },
  {
   "cell_type": "markdown",
   "metadata": {},
   "source": [
    "**Вывод:** В начале теста группа B значительно проигрывала группе A, затем вырвалась вперёд и стабильно держится выше. В целом отношение количества заказов ещё не установилось, и сейчас делать какие-либо выводы по тесту нельзя. Впрочем, сперва стоит проанализировать аномалии, возможно, они изменят картину."
   ]
  },
  {
   "cell_type": "markdown",
   "metadata": {},
   "source": [
    "### Анализ аномальных значений"
   ]
  },
  {
   "cell_type": "markdown",
   "metadata": {},
   "source": [
    "Построим точечный ***график количества заказов по пользователям***"
   ]
  },
  {
   "cell_type": "code",
   "execution_count": 106,
   "metadata": {},
   "outputs": [
    {
     "data": {
      "image/png": "[encoded data removed]",
      "text/plain": [
       "<Figure size 432x288 with 1 Axes>"
      ]
     },
     "metadata": {
      "needs_background": "light"
     },
     "output_type": "display_data"
    }
   ],
   "source": [
    "ordersByUsers = (\n",
    "    orders.groupby('visitorId', as_index=False)\n",
    "    .agg({'transactionId': 'nunique'})\n",
    ")\n",
    "ordersByUsers.columns = ['userId', 'orders']\n",
    "plt.title('График количества заказов по пользователям')\n",
    "x_values = pd.Series(range(0,len(ordersByUsers)))\n",
    "plt.scatter(x_values, ordersByUsers['orders'])\n",
    "plt.xlabel('Пользователи')\n",
    "plt.ylabel('Количество заказов'); "
   ]
  },
  {
   "cell_type": "markdown",
   "metadata": {},
   "source": [
    "**Вывод:** Большинство покупателей заказывали только один раз. Однако не мало пользователей с 2-3 заказами. Их точная доля не ясна — непонятно, считать их аномалиями или нет."
   ]
  },
  {
   "cell_type": "markdown",
   "metadata": {},
   "source": [
    "Посчитаем ***95-й и 99-й перцентили количества заказов на пользователя***"
   ]
  },
  {
   "cell_type": "code",
   "execution_count": 87,
   "metadata": {},
   "outputs": [
    {
     "data": {
      "text/plain": [
       "array([1., 2.])"
      ]
     },
     "execution_count": 87,
     "metadata": {},
     "output_type": "execute_result"
    }
   ],
   "source": [
    "np.percentile(ordersByUsers['orders'], [95, 99])"
   ]
  },
  {
   "cell_type": "markdown",
   "metadata": {},
   "source": [
    "**Вывод:** Не более 1% пользователей оформляли больше чем два заказа. И 5% пользователей заказывали более одного раза. Разумно выбрать 2 заказа на одного пользователя за верхнюю границу числа заказов, и отсеять аномальных пользователей по ней."
   ]
  },
  {
   "cell_type": "markdown",
   "metadata": {},
   "source": [
    "Построим точечный ***график стоимостей заказов***"
   ]
  },
  {
   "cell_type": "code",
   "execution_count": 107,
   "metadata": {},
   "outputs": [
    {
     "data": {
      "image/png": "[encoded data removed]",
      "text/plain": [
       "<Figure size 432x288 with 1 Axes>"
      ]
     },
     "metadata": {
      "needs_background": "light"
     },
     "output_type": "display_data"
    }
   ],
   "source": [
    "plt.title('График стоимостей заказов')\n",
    "x_values = pd.Series(range(0,len(orders['revenue'])))\n",
    "plt.scatter(x_values, orders['revenue'])\n",
    "plt.xlabel('Пользователи')\n",
    "plt.ylabel('Стоимость заказа');"
   ]
  },
  {
   "cell_type": "markdown",
   "metadata": {},
   "source": [
    "На графике видны два заказа которые выбиваются из общей массы и делают график неинформативным, построим еще один график без выбросов"
   ]
  },
  {
   "cell_type": "code",
   "execution_count": 127,
   "metadata": {},
   "outputs": [
    {
     "data": {
      "image/png": "[encoded data removed]",
      "text/plain": [
       "<Figure size 432x288 with 1 Axes>"
      ]
     },
     "metadata": {
      "needs_background": "light"
     },
     "output_type": "display_data"
    }
   ],
   "source": [
    "plt.title('График стоимостей заказов')\n",
    "x_values = pd.Series(range(0,len(orders['revenue'])))\n",
    "plt.scatter(x_values, orders['revenue'])\n",
    "plt.ylim(0, 150000)\n",
    "plt.xlabel('Пользователи')\n",
    "plt.ylabel('Стоимость заказа');"
   ]
  },
  {
   "cell_type": "markdown",
   "metadata": {},
   "source": [
    "**Вывод:** По графику границу аномально дорогих заказов проходит в районе 60000. Но лучше определить точную границу расчитав перцентили"
   ]
  },
  {
   "cell_type": "markdown",
   "metadata": {},
   "source": [
    "Посчитаем ***95-й и 99-й перцентили стоимости заказов***"
   ]
  },
  {
   "cell_type": "code",
   "execution_count": 89,
   "metadata": {},
   "outputs": [
    {
     "data": {
      "text/plain": [
       "array([26785., 53904.])"
      ]
     },
     "execution_count": 89,
     "metadata": {},
     "output_type": "execute_result"
    }
   ],
   "source": [
    "np.percentile(orders['revenue'], [95, 99])"
   ]
  },
  {
   "cell_type": "markdown",
   "metadata": {},
   "source": [
    "**Вывод:** Не более 5% заказов дороже 26785 рублей и не более 1% дороже 53904 рублей. Выберем 53904 в качестве границы для определения аномальных заказов. Так мы уберем 1% пользователей в аномально дорогими заказами."
   ]
  },
  {
   "cell_type": "markdown",
   "metadata": {},
   "source": [
    "### Расчет статистической значимости"
   ]
  },
  {
   "cell_type": "markdown",
   "metadata": {},
   "source": [
    "Посчитаем статистическую значимость различий ***в среднем количестве*** заказов на пользователя между группами ***по «сырым» данным*** — без удаления аномальных пользователей.\\\n",
    "\\\n",
    "Сформулируем гипотезы:\\\n",
    "Нулевая: различий в среднем количестве заказов по \"сырым\" данным между группами нет.\\\n",
    "Альтернативная: различия в среднем между группами есть.\\\n",
    "Уровень критической значимости установим 0.05"
   ]
  },
  {
   "cell_type": "code",
   "execution_count": 133,
   "metadata": {},
   "outputs": [
    {
     "name": "stdout",
     "output_type": "stream",
     "text": [
      "p-value - 0.011\n",
      "Отвергаем нулевую гипотезу: различия в среднем количестве заказов между группами есть\n",
      "Отношение среднего количества заказов группы В к группе А - 0.160\n"
     ]
    }
   ],
   "source": [
    "# Создадим переменные ordersByUsersA и ordersByUsersB со столбцами ['userId', 'orders']. \n",
    "#В них для пользователей, которые заказывали хотя бы 1 раз, укажем число совершённых заказов.\n",
    "ordersByUsersA = (\n",
    "    orders[orders['group'] == 'A']\n",
    "    .groupby('visitorId', as_index=False)\n",
    "    .agg({'transactionId': pd.Series.nunique})\n",
    ")\n",
    "ordersByUsersA.columns = ['userId', 'orders']\n",
    "\n",
    "ordersByUsersB = (\n",
    "    orders[orders['group'] == 'B']\n",
    "    .groupby('visitorId', as_index=False)\n",
    "    .agg({'transactionId': pd.Series.nunique})\n",
    ")\n",
    "ordersByUsersB.columns = ['userId', 'orders']\n",
    "\n",
    "# Объявим переменные sampleA и sampleB, в которых пользователям из разных групп будет соответствовать количество заказов. \n",
    "# Тем, кто ничего не заказал, будут соответствовать нули. \n",
    "# Это нужно, чтобы подготовить выборки к проверке критерием Манна-Уитни.\n",
    "sampleA = pd.concat(\n",
    "    [\n",
    "        ordersByUsersA['orders'],\n",
    "        pd.Series(\n",
    "            0,\n",
    "            index=np.arange(\n",
    "                data['visitorsPerDateA'].sum() - len(ordersByUsersA['orders'])\n",
    "            ),\n",
    "            name='orders',\n",
    "        ),\n",
    "    ],\n",
    "    axis=0,\n",
    ")\n",
    "\n",
    "sampleB = pd.concat(\n",
    "    [\n",
    "        ordersByUsersB['orders'],\n",
    "        pd.Series(\n",
    "            0,\n",
    "            index=np.arange(\n",
    "                data['visitorsPerDateB'].sum() - len(ordersByUsersB['orders'])\n",
    "            ),\n",
    "            name='orders',\n",
    "        ),\n",
    "    ],\n",
    "    axis=0,\n",
    ")\n",
    "\n",
    "alpha = .05\n",
    "\n",
    "# Применим критерий и отформатируем p-value, округлив его до трёх знаков после запятой.\n",
    "p_value = stats.mannwhitneyu(sampleA, sampleB)[1]\n",
    "print('p-value -', \"{0:.3f}\".format(p_value))\n",
    "if p_value < alpha:\n",
    "    print('Отвергаем нулевую гипотезу: различия в среднем количестве заказов между группами есть')\n",
    "else:\n",
    "    print('Нулевую гипотезу не отвергаем: различий в среднем количестве заказов между группами нет')\n",
    "print('Отношение среднего количества заказов группы В к группе А -', \"{0:.3f}\".format(sampleB.mean() / sampleA.mean() - 1))"
   ]
  },
  {
   "cell_type": "markdown",
   "metadata": {},
   "source": [
    "**Вывод:** присутсвуют статистически значимые различия в среднем числе заказов между группами. Среднее количество заказов группы В на 16% больше."
   ]
  },
  {
   "cell_type": "markdown",
   "metadata": {},
   "source": [
    "Посчитаем статистическую значимость различий ***в среднем чеке*** заказа между группами ***по «сырым» данным***.\\\n",
    "\\\n",
    "Сформулируем гипотезы:\\\n",
    "Нулевая гипотеза: различий в среднем чеке по \"сырым\" данным между группами нет.\\\n",
    "Альтернативная гипотеза: различия в среднем чеке между группами есть.\\\n",
    "Уровень критической значимости установим 0.05"
   ]
  },
  {
   "cell_type": "code",
   "execution_count": 134,
   "metadata": {},
   "outputs": [
    {
     "name": "stdout",
     "output_type": "stream",
     "text": [
      "p-value - 0.829\n",
      "Нулевую гипотезу не отвергаем: различий в среднем чеке между группами нет\n",
      "Отношение среднего чека группы В к группе А - 0.287\n"
     ]
    }
   ],
   "source": [
    "# передадим критерию mannwhitneyu() данные о выручке с заказов\n",
    "p_value = stats.mannwhitneyu(orders[orders['group']=='A']['revenue'], \n",
    "                             orders[orders['group']=='B']['revenue'])[1]\n",
    "print('p-value -', \n",
    "      '{0:.3f}'.format(p_value)\n",
    "     )\n",
    "if p_value < alpha:\n",
    "    print('Отвергаем нулевую гипотезу: различия в среднем чеке между группами есть')\n",
    "else:\n",
    "    print('Нулевую гипотезу не отвергаем: различий в среднем чеке между группами нет')\n",
    "print('Отношение среднего чека группы В к группе А -', \n",
    "      '{0:.3f}'.format(orders[orders['group']=='B']['revenue'].mean()/orders[orders['group']=='A']['revenue'].mean()-1)\n",
    "     ) "
   ]
  },
  {
   "cell_type": "markdown",
   "metadata": {},
   "source": [
    "**Вывод:** статистически значимых различий в среднем числе заказов между группами нет, а наблюдаемое превышение среднего чека группы В на 28,7% не является значимым, получено случайно"
   ]
  },
  {
   "cell_type": "markdown",
   "metadata": {},
   "source": [
    "Теперь расчитаем эти же показатели, но уже по очищенным данным, удалив аномальных пользователей, а именно тех, кто совершил больше 2 покупок и тех кто совершил покупки более чем на 30000 за раз. Для начала сформируем список аномальных пользователей"
   ]
  },
  {
   "cell_type": "code",
   "execution_count": 135,
   "metadata": {},
   "outputs": [],
   "source": [
    "usersWithManyOrders = pd.concat(\n",
    "    [\n",
    "        ordersByUsersA[ordersByUsersA['orders'] > 2]['userId'],\n",
    "        ordersByUsersB[ordersByUsersB['orders'] > 2]['userId'],\n",
    "    ],\n",
    "    axis=0,\n",
    ")\n",
    "usersWithExpensiveOrders = orders[orders['revenue'] > 53904]['visitorId']\n",
    "abnormalUsers = (\n",
    "    pd.concat([usersWithManyOrders, usersWithExpensiveOrders], axis=0)\n",
    "    .drop_duplicates()\n",
    "    .sort_values()\n",
    ")"
   ]
  },
  {
   "cell_type": "markdown",
   "metadata": {},
   "source": [
    "Посчитаем статистическую значимость различий ***в среднем количестве*** заказов между группами теста ***по очищенным данным***. \n",
    "\n",
    "Сформулируем гипотезы:\\\n",
    "Нулевая: различий в среднем количестве заказов по \"очищенным\" данным между группами нет.\\\n",
    "Альтернативная: различия в среднем между группами есть.\\\n",
    "Уровень критической значимости установим 0.05"
   ]
  },
  {
   "cell_type": "code",
   "execution_count": 137,
   "metadata": {},
   "outputs": [
    {
     "name": "stdout",
     "output_type": "stream",
     "text": [
      "p-value - 0.007\n",
      "Отвергаем нулевую гипотезу: различия в среднем количестве заказов между группами есть\n",
      "Отношение среднего количества заказов группы В к группе А - 0.189\n"
     ]
    }
   ],
   "source": [
    "# подготовим выборки количества заказов по пользователям по группам теста\n",
    "sampleAFiltered = pd.concat(\n",
    "    [\n",
    "        ordersByUsersA[\n",
    "            np.logical_not(ordersByUsersA['userId'].isin(abnormalUsers))\n",
    "        ]['orders'],\n",
    "        pd.Series(\n",
    "            0,\n",
    "            index=np.arange(\n",
    "                data['visitorsPerDateA'].sum() - len(ordersByUsersA['orders'])\n",
    "            ),\n",
    "            name='orders',\n",
    "        ),\n",
    "    ],\n",
    "    axis=0,\n",
    ")\n",
    "\n",
    "sampleBFiltered = pd.concat(\n",
    "    [\n",
    "        ordersByUsersB[\n",
    "            np.logical_not(ordersByUsersB['userId'].isin(abnormalUsers))\n",
    "        ]['orders'],\n",
    "        pd.Series(\n",
    "            0,\n",
    "            index=np.arange(\n",
    "                data['visitorsPerDateB'].sum() - len(ordersByUsersB['orders'])\n",
    "            ),\n",
    "            name='orders',\n",
    "        ),\n",
    "    ],\n",
    "    axis=0,\n",
    ")\n",
    "\n",
    "# применим статистический критерий Манна-Уитни к полученным выборкам\n",
    "p_value = stats.mannwhitneyu(sampleAFiltered, sampleBFiltered)[1]\n",
    "print('p-value -', \n",
    "      '{0:.3f}'.format(p_value)\n",
    "     )\n",
    "if p_value < alpha:\n",
    "    print('Отвергаем нулевую гипотезу: различия в среднем количестве заказов между группами есть')\n",
    "else:\n",
    "    print('Нулевую гипотезу не отвергаем: различий в среднем количестве заказов между группами нет')\n",
    "print('Отношение среднего количества заказов группы В к группе А -', \n",
    "      '{0:.3f}'.format(sampleBFiltered.mean()/sampleAFiltered.mean()-1)\n",
    "     ) "
   ]
  },
  {
   "cell_type": "markdown",
   "metadata": {},
   "source": [
    "**Вывод:** аналогичный тому, что был получен по сырым данным. Разница среднего количества заказов между группами статистически значима. И составляет 19% в пользу B "
   ]
  },
  {
   "cell_type": "markdown",
   "metadata": {},
   "source": [
    "Посчитаем статистическую значимость различий ***в среднем чеке*** заказа между группами ***по «очищенным» данным***.\n",
    "\n",
    "Сформулируем гипотезы:\\\n",
    "Нулевая: различий в среднем чеке заказов по \"очищенным\" данным между группами нет.\\\n",
    "Альтернативная: различия в среднем чеке между группами есть.\\\n",
    "Уровень критической значимости установим 0.05"
   ]
  },
  {
   "cell_type": "code",
   "execution_count": 138,
   "metadata": {},
   "outputs": [
    {
     "name": "stdout",
     "output_type": "stream",
     "text": [
      "p-value - 0.788\n",
      "Нулевую гипотезу не отвергаем: различий в среднем чеке между группами нет\n",
      "Отношение среднего чека группы В к группе А - -0.032\n"
     ]
    }
   ],
   "source": [
    "p_value = stats.mannwhitneyu(\n",
    "              orders[\n",
    "                  np.logical_and(\n",
    "                      orders['group'] == 'A',\n",
    "                      np.logical_not(orders['visitorId'].isin(abnormalUsers)),\n",
    "                )\n",
    "            ]['revenue'],\n",
    "            orders[\n",
    "                np.logical_and(\n",
    "                    orders['group'] == 'B',\n",
    "                    np.logical_not(orders['visitorId'].isin(abnormalUsers)),\n",
    "                )\n",
    "            ]['revenue'],\n",
    "        )[1]\n",
    "\n",
    "print('p-value -', '{0:.3f}'.format(p_value))\n",
    "if p_value < alpha:\n",
    "    print('Отвергаем нулевую гипотезу: различия в среднем чеке между группами есть')\n",
    "else:\n",
    "    print('Нулевую гипотезу не отвергаем: различий в среднем чеке между группами нет')\n",
    "print('Отношение среднего чека группы В к группе А -', \n",
    "    \"{0:.3f}\".format(\n",
    "        orders[\n",
    "            np.logical_and(\n",
    "                orders['group'] == 'B',\n",
    "                np.logical_not(orders['visitorId'].isin(abnormalUsers)),\n",
    "            )\n",
    "        ]['revenue'].mean()\n",
    "        / orders[\n",
    "            np.logical_and(\n",
    "                orders['group'] == 'A',\n",
    "                np.logical_not(orders['visitorId'].isin(abnormalUsers)),\n",
    "            )\n",
    "        ]['revenue'].mean()\n",
    "        - 1\n",
    "    )\n",
    ") "
   ]
  },
  {
   "cell_type": "markdown",
   "metadata": {},
   "source": [
    "**Вывод:** статистически значимых различий в среднем чеке между группами по \"очищенным\" данным нет."
   ]
  },
  {
   "cell_type": "markdown",
   "metadata": {},
   "source": [
    "### Общий вывод\n",
    "- Различие среднего количеству заказов между группами статистически значимо как по \"сырым\", так и по \"очищенным\" данным. Среднее количество заказов группы B значительно выше (16% - по \"сырым\" данным, 19% - по \"очищенным\")\n",
    "- Различия между группами в среднем чеке нет, как по \"сырым\", так и по \"очищенным\" данным. \n",
    "- График различия количества заказов между группами сообщает, что результаты группы B начиная со второй недели значительно лучше группы А.\n",
    "- График различия среднего чека говорит о том, что результаты группы B выше чем у группы А.\n",
    "\n",
    "Исходя из выше изложенного, тест следует остановить, признать победу группы В."
   ]
  }
 ],
 "metadata": {
  "ExecuteTimeLog": [
   {
    "duration": 398,
    "start_time": "2022-11-22T12:20:55.052Z"
   },
   {
    "duration": 45,
    "start_time": "2022-11-23T11:00:34.194Z"
   },
   {
    "duration": 369,
    "start_time": "2022-11-23T11:00:38.162Z"
   },
   {
    "duration": 74,
    "start_time": "2022-11-23T11:00:39.870Z"
   },
   {
    "duration": 49,
    "start_time": "2022-11-23T16:47:29.594Z"
   },
   {
    "duration": 403,
    "start_time": "2022-11-23T16:47:39.560Z"
   },
   {
    "duration": 75,
    "start_time": "2022-11-23T16:47:39.965Z"
   },
   {
    "duration": 809,
    "start_time": "2022-11-23T16:47:40.043Z"
   },
   {
    "duration": 817,
    "start_time": "2022-11-23T16:47:50.798Z"
   },
   {
    "duration": 14,
    "start_time": "2022-11-23T16:48:07.524Z"
   },
   {
    "duration": 12,
    "start_time": "2022-11-23T16:48:21.043Z"
   },
   {
    "duration": 13,
    "start_time": "2022-11-23T16:55:07.410Z"
   },
   {
    "duration": 104,
    "start_time": "2022-11-23T17:08:45.937Z"
   },
   {
    "duration": 105,
    "start_time": "2022-11-23T17:09:06.060Z"
   },
   {
    "duration": 71,
    "start_time": "2022-11-23T17:09:17.844Z"
   },
   {
    "duration": 13,
    "start_time": "2022-11-23T17:11:11.814Z"
   },
   {
    "duration": 8,
    "start_time": "2022-11-23T17:14:57.145Z"
   },
   {
    "duration": 753,
    "start_time": "2022-11-23T17:19:08.896Z"
   },
   {
    "duration": 14,
    "start_time": "2022-11-23T17:19:19.435Z"
   },
   {
    "duration": 9,
    "start_time": "2022-11-23T17:22:17.966Z"
   },
   {
    "duration": 11,
    "start_time": "2022-11-23T17:22:58.097Z"
   },
   {
    "duration": 7,
    "start_time": "2022-11-23T17:23:18.726Z"
   },
   {
    "duration": 10,
    "start_time": "2022-11-23T17:23:27.954Z"
   },
   {
    "duration": 4,
    "start_time": "2022-11-23T17:23:40.380Z"
   },
   {
    "duration": 8,
    "start_time": "2022-11-23T17:23:56.466Z"
   },
   {
    "duration": 4,
    "start_time": "2022-11-23T17:24:25.925Z"
   },
   {
    "duration": 7,
    "start_time": "2022-11-23T17:24:37.166Z"
   },
   {
    "duration": 3,
    "start_time": "2022-11-23T17:24:51.256Z"
   },
   {
    "duration": 5,
    "start_time": "2022-11-23T17:25:47.606Z"
   },
   {
    "duration": 4,
    "start_time": "2022-11-23T17:25:55.175Z"
   },
   {
    "duration": 4,
    "start_time": "2022-11-23T17:30:42.876Z"
   },
   {
    "duration": 4,
    "start_time": "2022-11-23T17:30:50.945Z"
   },
   {
    "duration": 12,
    "start_time": "2022-11-23T17:32:11.656Z"
   },
   {
    "duration": 11,
    "start_time": "2022-11-23T17:32:19.008Z"
   },
   {
    "duration": 7,
    "start_time": "2022-11-23T17:32:44.175Z"
   },
   {
    "duration": 8,
    "start_time": "2022-11-23T17:32:52.367Z"
   },
   {
    "duration": 8,
    "start_time": "2022-11-23T17:32:55.526Z"
   },
   {
    "duration": 5,
    "start_time": "2022-11-23T17:36:19.120Z"
   },
   {
    "duration": 4,
    "start_time": "2022-11-23T17:36:30.798Z"
   },
   {
    "duration": 3,
    "start_time": "2022-11-23T17:40:13.530Z"
   },
   {
    "duration": 5,
    "start_time": "2022-11-23T17:41:08.048Z"
   },
   {
    "duration": 2,
    "start_time": "2022-11-23T17:41:21.746Z"
   },
   {
    "duration": 57,
    "start_time": "2022-11-23T17:41:21.750Z"
   },
   {
    "duration": 22,
    "start_time": "2022-11-23T17:41:21.809Z"
   },
   {
    "duration": 44,
    "start_time": "2022-11-23T17:41:21.834Z"
   },
   {
    "duration": 92,
    "start_time": "2022-11-23T17:41:21.880Z"
   },
   {
    "duration": 14,
    "start_time": "2022-11-23T17:41:21.974Z"
   },
   {
    "duration": 54,
    "start_time": "2022-11-23T17:41:21.990Z"
   },
   {
    "duration": 13,
    "start_time": "2022-11-23T17:41:22.046Z"
   },
   {
    "duration": 6,
    "start_time": "2022-11-23T17:41:22.062Z"
   },
   {
    "duration": 29,
    "start_time": "2022-11-23T17:41:22.070Z"
   },
   {
    "duration": 34,
    "start_time": "2022-11-23T17:41:22.101Z"
   },
   {
    "duration": 8,
    "start_time": "2022-11-23T17:41:22.139Z"
   },
   {
    "duration": 43,
    "start_time": "2022-11-23T17:41:22.148Z"
   },
   {
    "duration": 34,
    "start_time": "2022-11-23T17:41:22.194Z"
   },
   {
    "duration": 49,
    "start_time": "2022-11-23T17:41:22.229Z"
   },
   {
    "duration": 40,
    "start_time": "2022-11-23T17:41:22.280Z"
   },
   {
    "duration": 12,
    "start_time": "2022-11-23T17:41:31.084Z"
   },
   {
    "duration": 9,
    "start_time": "2022-11-23T17:41:44.124Z"
   },
   {
    "duration": 5,
    "start_time": "2022-11-23T17:41:58.055Z"
   },
   {
    "duration": 12,
    "start_time": "2022-11-23T17:42:09.738Z"
   },
   {
    "duration": 28,
    "start_time": "2022-11-23T17:43:09.035Z"
   },
   {
    "duration": 5,
    "start_time": "2022-11-23T17:43:18.741Z"
   },
   {
    "duration": 17,
    "start_time": "2022-11-23T17:43:27.125Z"
   },
   {
    "duration": 14,
    "start_time": "2022-11-23T17:44:23.741Z"
   },
   {
    "duration": 1067,
    "start_time": "2022-11-23T17:45:06.741Z"
   },
   {
    "duration": 11,
    "start_time": "2022-11-23T17:45:55.902Z"
   },
   {
    "duration": 11,
    "start_time": "2022-11-23T17:46:11.502Z"
   },
   {
    "duration": 7,
    "start_time": "2022-11-23T17:47:22.433Z"
   },
   {
    "duration": 16,
    "start_time": "2022-11-23T17:47:29.483Z"
   },
   {
    "duration": 12,
    "start_time": "2022-11-23T17:48:52.254Z"
   },
   {
    "duration": 18,
    "start_time": "2022-11-23T17:49:05.134Z"
   },
   {
    "duration": 20,
    "start_time": "2022-11-23T17:50:20.810Z"
   },
   {
    "duration": 84,
    "start_time": "2022-11-23T18:06:27.612Z"
   },
   {
    "duration": 72,
    "start_time": "2022-11-23T18:07:04.925Z"
   },
   {
    "duration": 56,
    "start_time": "2022-11-23T18:07:11.886Z"
   },
   {
    "duration": 84,
    "start_time": "2022-11-23T18:12:28.309Z"
   },
   {
    "duration": 91,
    "start_time": "2022-11-23T18:13:36.607Z"
   },
   {
    "duration": 89,
    "start_time": "2022-11-23T18:13:42.677Z"
   },
   {
    "duration": 83,
    "start_time": "2022-11-23T18:14:13.041Z"
   },
   {
    "duration": 72,
    "start_time": "2022-11-23T18:14:56.532Z"
   },
   {
    "duration": 80,
    "start_time": "2022-11-23T18:15:02.565Z"
   },
   {
    "duration": 77,
    "start_time": "2022-11-23T18:15:07.608Z"
   },
   {
    "duration": 70,
    "start_time": "2022-11-23T18:15:13.037Z"
   },
   {
    "duration": 8,
    "start_time": "2022-11-23T18:18:16.733Z"
   },
   {
    "duration": 73,
    "start_time": "2022-11-23T18:18:57.071Z"
   },
   {
    "duration": 39,
    "start_time": "2022-11-23T18:19:27.011Z"
   },
   {
    "duration": 11,
    "start_time": "2022-11-23T18:19:45.129Z"
   },
   {
    "duration": 11,
    "start_time": "2022-11-23T18:19:50.006Z"
   },
   {
    "duration": 12,
    "start_time": "2022-11-23T18:27:48.426Z"
   },
   {
    "duration": 14,
    "start_time": "2022-11-23T18:27:56.491Z"
   },
   {
    "duration": 6,
    "start_time": "2022-11-23T18:29:10.154Z"
   },
   {
    "duration": 7,
    "start_time": "2022-11-23T18:29:46.565Z"
   },
   {
    "duration": 21,
    "start_time": "2022-11-23T18:29:55.803Z"
   },
   {
    "duration": 11,
    "start_time": "2022-11-23T18:30:20.053Z"
   },
   {
    "duration": 8,
    "start_time": "2022-11-23T18:33:21.673Z"
   },
   {
    "duration": 8,
    "start_time": "2022-11-23T18:33:29.390Z"
   },
   {
    "duration": 7,
    "start_time": "2022-11-23T18:33:35.572Z"
   },
   {
    "duration": 5,
    "start_time": "2022-11-23T18:33:40.276Z"
   },
   {
    "duration": 6,
    "start_time": "2022-11-23T18:33:49.155Z"
   },
   {
    "duration": 6,
    "start_time": "2022-11-23T18:33:57.554Z"
   },
   {
    "duration": 8,
    "start_time": "2022-11-23T18:37:49.391Z"
   },
   {
    "duration": 7,
    "start_time": "2022-11-23T18:56:05.294Z"
   },
   {
    "duration": 14,
    "start_time": "2022-11-23T19:00:26.996Z"
   },
   {
    "duration": 3,
    "start_time": "2022-11-23T19:00:33.096Z"
   },
   {
    "duration": 35,
    "start_time": "2022-11-23T19:00:33.101Z"
   },
   {
    "duration": 12,
    "start_time": "2022-11-23T19:00:33.138Z"
   },
   {
    "duration": 16,
    "start_time": "2022-11-23T19:00:33.152Z"
   },
   {
    "duration": 50,
    "start_time": "2022-11-23T19:00:33.172Z"
   },
   {
    "duration": 24,
    "start_time": "2022-11-23T19:00:33.224Z"
   },
   {
    "duration": 11,
    "start_time": "2022-11-23T19:00:33.250Z"
   },
   {
    "duration": 10,
    "start_time": "2022-11-23T19:00:33.263Z"
   },
   {
    "duration": 12,
    "start_time": "2022-11-23T19:00:33.275Z"
   },
   {
    "duration": 7,
    "start_time": "2022-11-23T19:00:33.288Z"
   },
   {
    "duration": 22,
    "start_time": "2022-11-23T19:00:33.297Z"
   },
   {
    "duration": 18,
    "start_time": "2022-11-23T19:00:33.321Z"
   },
   {
    "duration": 27,
    "start_time": "2022-11-23T19:00:36.364Z"
   },
   {
    "duration": 11,
    "start_time": "2022-11-23T19:01:01.826Z"
   },
   {
    "duration": 5,
    "start_time": "2022-11-23T19:05:00.901Z"
   },
   {
    "duration": 14,
    "start_time": "2022-11-23T19:05:20.861Z"
   },
   {
    "duration": 22,
    "start_time": "2022-11-23T19:05:30.179Z"
   },
   {
    "duration": 3,
    "start_time": "2022-11-23T19:06:50.848Z"
   },
   {
    "duration": 16,
    "start_time": "2022-11-23T19:10:22.119Z"
   },
   {
    "duration": 6,
    "start_time": "2022-11-23T19:11:14.631Z"
   },
   {
    "duration": 11,
    "start_time": "2022-11-23T19:11:18.222Z"
   },
   {
    "duration": 16,
    "start_time": "2022-11-23T19:12:03.861Z"
   },
   {
    "duration": 3,
    "start_time": "2022-11-23T19:14:54.581Z"
   },
   {
    "duration": 35,
    "start_time": "2022-11-23T19:14:54.585Z"
   },
   {
    "duration": 10,
    "start_time": "2022-11-23T19:14:54.622Z"
   },
   {
    "duration": 13,
    "start_time": "2022-11-23T19:14:54.633Z"
   },
   {
    "duration": 45,
    "start_time": "2022-11-23T19:14:54.648Z"
   },
   {
    "duration": 20,
    "start_time": "2022-11-23T19:14:54.695Z"
   },
   {
    "duration": 11,
    "start_time": "2022-11-23T19:14:54.717Z"
   },
   {
    "duration": 11,
    "start_time": "2022-11-23T19:14:54.729Z"
   },
   {
    "duration": 5,
    "start_time": "2022-11-23T19:14:54.745Z"
   },
   {
    "duration": 5,
    "start_time": "2022-11-23T19:14:54.752Z"
   },
   {
    "duration": 7,
    "start_time": "2022-11-23T19:14:54.758Z"
   },
   {
    "duration": 9,
    "start_time": "2022-11-23T19:14:54.766Z"
   },
   {
    "duration": 20,
    "start_time": "2022-11-23T19:14:57.386Z"
   },
   {
    "duration": 11,
    "start_time": "2022-11-23T19:15:17.834Z"
   },
   {
    "duration": 5,
    "start_time": "2022-11-23T19:15:21.545Z"
   },
   {
    "duration": 16,
    "start_time": "2022-11-23T19:15:23.376Z"
   },
   {
    "duration": 16,
    "start_time": "2022-11-23T19:16:02.144Z"
   },
   {
    "duration": 12,
    "start_time": "2022-11-23T19:19:05.069Z"
   },
   {
    "duration": 5,
    "start_time": "2022-11-23T19:19:41.228Z"
   },
   {
    "duration": 10,
    "start_time": "2022-11-23T19:20:00.762Z"
   },
   {
    "duration": 8,
    "start_time": "2022-11-23T19:20:14.592Z"
   },
   {
    "duration": 6,
    "start_time": "2022-11-23T19:20:19.784Z"
   },
   {
    "duration": 7,
    "start_time": "2022-11-23T19:24:06.012Z"
   },
   {
    "duration": 6,
    "start_time": "2022-11-23T19:24:25.501Z"
   },
   {
    "duration": 11,
    "start_time": "2022-11-23T19:27:28.213Z"
   },
   {
    "duration": 3,
    "start_time": "2022-11-23T19:27:33.582Z"
   },
   {
    "duration": 37,
    "start_time": "2022-11-23T19:27:33.587Z"
   },
   {
    "duration": 12,
    "start_time": "2022-11-23T19:27:33.626Z"
   },
   {
    "duration": 13,
    "start_time": "2022-11-23T19:27:33.640Z"
   },
   {
    "duration": 45,
    "start_time": "2022-11-23T19:27:33.654Z"
   },
   {
    "duration": 21,
    "start_time": "2022-11-23T19:27:33.701Z"
   },
   {
    "duration": 11,
    "start_time": "2022-11-23T19:27:33.724Z"
   },
   {
    "duration": 12,
    "start_time": "2022-11-23T19:27:33.738Z"
   },
   {
    "duration": 7,
    "start_time": "2022-11-23T19:27:33.754Z"
   },
   {
    "duration": 6,
    "start_time": "2022-11-23T19:27:33.762Z"
   },
   {
    "duration": 7,
    "start_time": "2022-11-23T19:27:33.770Z"
   },
   {
    "duration": 38,
    "start_time": "2022-11-23T19:27:33.779Z"
   },
   {
    "duration": 12,
    "start_time": "2022-11-23T19:27:33.818Z"
   },
   {
    "duration": 8,
    "start_time": "2022-11-23T19:27:33.832Z"
   },
   {
    "duration": 10,
    "start_time": "2022-11-23T19:27:36.213Z"
   },
   {
    "duration": 3,
    "start_time": "2022-11-23T19:27:47.764Z"
   },
   {
    "duration": 36,
    "start_time": "2022-11-23T19:27:47.768Z"
   },
   {
    "duration": 11,
    "start_time": "2022-11-23T19:27:47.806Z"
   },
   {
    "duration": 15,
    "start_time": "2022-11-23T19:27:47.818Z"
   },
   {
    "duration": 64,
    "start_time": "2022-11-23T19:27:47.835Z"
   },
   {
    "duration": 19,
    "start_time": "2022-11-23T19:27:47.901Z"
   },
   {
    "duration": 10,
    "start_time": "2022-11-23T19:27:47.921Z"
   },
   {
    "duration": 11,
    "start_time": "2022-11-23T19:27:47.932Z"
   },
   {
    "duration": 7,
    "start_time": "2022-11-23T19:27:47.945Z"
   },
   {
    "duration": 4,
    "start_time": "2022-11-23T19:27:47.954Z"
   },
   {
    "duration": 8,
    "start_time": "2022-11-23T19:27:47.960Z"
   },
   {
    "duration": 8,
    "start_time": "2022-11-23T19:27:47.969Z"
   },
   {
    "duration": 34,
    "start_time": "2022-11-23T19:27:47.979Z"
   },
   {
    "duration": 5,
    "start_time": "2022-11-23T19:27:48.015Z"
   },
   {
    "duration": 16,
    "start_time": "2022-11-23T19:27:48.021Z"
   },
   {
    "duration": 7,
    "start_time": "2022-11-23T19:27:48.039Z"
   },
   {
    "duration": 13,
    "start_time": "2022-11-23T19:28:52.920Z"
   },
   {
    "duration": 3,
    "start_time": "2022-11-23T19:29:22.378Z"
   },
   {
    "duration": 38,
    "start_time": "2022-11-23T19:29:22.383Z"
   },
   {
    "duration": 12,
    "start_time": "2022-11-23T19:29:22.424Z"
   },
   {
    "duration": 17,
    "start_time": "2022-11-23T19:29:22.438Z"
   },
   {
    "duration": 45,
    "start_time": "2022-11-23T19:29:22.458Z"
   },
   {
    "duration": 20,
    "start_time": "2022-11-23T19:29:22.505Z"
   },
   {
    "duration": 10,
    "start_time": "2022-11-23T19:29:22.527Z"
   },
   {
    "duration": 14,
    "start_time": "2022-11-23T19:29:22.538Z"
   },
   {
    "duration": 12,
    "start_time": "2022-11-23T19:29:22.554Z"
   },
   {
    "duration": 5,
    "start_time": "2022-11-23T19:29:22.568Z"
   },
   {
    "duration": 11,
    "start_time": "2022-11-23T19:29:22.575Z"
   },
   {
    "duration": 27,
    "start_time": "2022-11-23T19:29:22.587Z"
   },
   {
    "duration": 12,
    "start_time": "2022-11-23T19:29:22.616Z"
   },
   {
    "duration": 10,
    "start_time": "2022-11-23T19:29:22.629Z"
   },
   {
    "duration": 22,
    "start_time": "2022-11-23T19:29:22.640Z"
   },
   {
    "duration": 3,
    "start_time": "2022-11-23T19:29:31.461Z"
   },
   {
    "duration": 37,
    "start_time": "2022-11-23T19:29:31.466Z"
   },
   {
    "duration": 10,
    "start_time": "2022-11-23T19:29:31.505Z"
   },
   {
    "duration": 16,
    "start_time": "2022-11-23T19:29:31.517Z"
   },
   {
    "duration": 49,
    "start_time": "2022-11-23T19:29:31.536Z"
   },
   {
    "duration": 20,
    "start_time": "2022-11-23T19:29:31.587Z"
   },
   {
    "duration": 11,
    "start_time": "2022-11-23T19:29:31.609Z"
   },
   {
    "duration": 12,
    "start_time": "2022-11-23T19:29:31.621Z"
   },
   {
    "duration": 5,
    "start_time": "2022-11-23T19:29:31.636Z"
   },
   {
    "duration": 4,
    "start_time": "2022-11-23T19:29:31.643Z"
   },
   {
    "duration": 7,
    "start_time": "2022-11-23T19:29:31.649Z"
   },
   {
    "duration": 10,
    "start_time": "2022-11-23T19:29:31.657Z"
   },
   {
    "duration": 11,
    "start_time": "2022-11-23T19:29:31.669Z"
   },
   {
    "duration": 36,
    "start_time": "2022-11-23T19:29:31.681Z"
   },
   {
    "duration": 12,
    "start_time": "2022-11-23T19:29:31.719Z"
   },
   {
    "duration": 20,
    "start_time": "2022-11-23T19:29:44.911Z"
   },
   {
    "duration": 80,
    "start_time": "2022-11-24T10:46:19.299Z"
   },
   {
    "duration": 4,
    "start_time": "2022-11-24T10:47:26.414Z"
   },
   {
    "duration": 59,
    "start_time": "2022-11-24T10:50:24.177Z"
   },
   {
    "duration": 452,
    "start_time": "2022-11-24T10:50:31.060Z"
   },
   {
    "duration": 80,
    "start_time": "2022-11-24T10:50:31.514Z"
   },
   {
    "duration": 14,
    "start_time": "2022-11-24T10:50:31.596Z"
   },
   {
    "duration": 19,
    "start_time": "2022-11-24T10:50:31.612Z"
   },
   {
    "duration": 87,
    "start_time": "2022-11-24T10:50:31.633Z"
   },
   {
    "duration": 60,
    "start_time": "2022-11-24T10:50:31.721Z"
   },
   {
    "duration": 11,
    "start_time": "2022-11-24T10:50:31.783Z"
   },
   {
    "duration": 43,
    "start_time": "2022-11-24T10:50:31.796Z"
   },
   {
    "duration": 40,
    "start_time": "2022-11-24T10:50:31.841Z"
   },
   {
    "duration": 15,
    "start_time": "2022-11-24T10:50:31.882Z"
   },
   {
    "duration": 13,
    "start_time": "2022-11-24T10:50:31.899Z"
   },
   {
    "duration": 21,
    "start_time": "2022-11-24T10:50:31.913Z"
   },
   {
    "duration": 25,
    "start_time": "2022-11-24T10:50:31.935Z"
   },
   {
    "duration": 28,
    "start_time": "2022-11-24T10:50:31.962Z"
   },
   {
    "duration": 15,
    "start_time": "2022-11-24T10:50:31.992Z"
   },
   {
    "duration": 64,
    "start_time": "2022-11-24T10:50:32.010Z"
   },
   {
    "duration": 16,
    "start_time": "2022-11-24T10:51:40.507Z"
   },
   {
    "duration": 160,
    "start_time": "2022-11-24T10:56:30.227Z"
   },
   {
    "duration": 277,
    "start_time": "2022-11-24T10:59:16.219Z"
   },
   {
    "duration": 277,
    "start_time": "2022-11-24T10:59:31.405Z"
   },
   {
    "duration": 300,
    "start_time": "2022-11-24T11:01:46.952Z"
   },
   {
    "duration": 621,
    "start_time": "2022-11-24T11:03:05.239Z"
   },
   {
    "duration": 190,
    "start_time": "2022-11-24T11:03:11.356Z"
   },
   {
    "duration": 361,
    "start_time": "2022-11-24T11:09:13.737Z"
   },
   {
    "duration": 197,
    "start_time": "2022-11-24T11:09:41.779Z"
   },
   {
    "duration": 191,
    "start_time": "2022-11-24T11:11:08.191Z"
   },
   {
    "duration": 189,
    "start_time": "2022-11-24T11:15:07.572Z"
   },
   {
    "duration": 330,
    "start_time": "2022-11-24T11:32:40.717Z"
   },
   {
    "duration": 21,
    "start_time": "2022-11-24T11:33:16.417Z"
   },
   {
    "duration": 294,
    "start_time": "2022-11-24T11:33:24.742Z"
   },
   {
    "duration": 216,
    "start_time": "2022-11-24T11:54:46.819Z"
   },
   {
    "duration": 193,
    "start_time": "2022-11-24T11:55:15.037Z"
   },
   {
    "duration": 206,
    "start_time": "2022-11-24T11:55:49.847Z"
   },
   {
    "duration": 204,
    "start_time": "2022-11-24T12:07:39.687Z"
   },
   {
    "duration": 231,
    "start_time": "2022-11-24T12:07:52.487Z"
   },
   {
    "duration": 387,
    "start_time": "2022-11-24T12:11:03.147Z"
   },
   {
    "duration": 350,
    "start_time": "2022-11-24T12:11:44.095Z"
   },
   {
    "duration": 9,
    "start_time": "2022-11-24T12:20:16.046Z"
   },
   {
    "duration": 145,
    "start_time": "2022-11-24T12:20:40.320Z"
   },
   {
    "duration": 141,
    "start_time": "2022-11-24T12:30:34.768Z"
   },
   {
    "duration": 5,
    "start_time": "2022-11-24T12:36:09.386Z"
   },
   {
    "duration": 122,
    "start_time": "2022-11-24T12:44:56.140Z"
   },
   {
    "duration": 129,
    "start_time": "2022-11-24T12:45:12.602Z"
   },
   {
    "duration": 5,
    "start_time": "2022-11-24T12:51:21.465Z"
   },
   {
    "duration": 118,
    "start_time": "2022-11-24T13:08:01.224Z"
   },
   {
    "duration": 268,
    "start_time": "2022-11-24T13:10:25.710Z"
   },
   {
    "duration": 129,
    "start_time": "2022-11-24T13:21:39.926Z"
   },
   {
    "duration": 646,
    "start_time": "2022-11-24T13:22:45.800Z"
   },
   {
    "duration": 148,
    "start_time": "2022-11-24T14:10:21.362Z"
   },
   {
    "duration": 131,
    "start_time": "2022-11-24T14:10:31.885Z"
   },
   {
    "duration": 152,
    "start_time": "2022-11-24T14:10:37.047Z"
   },
   {
    "duration": 73,
    "start_time": "2022-11-24T14:34:50.118Z"
   },
   {
    "duration": 10,
    "start_time": "2022-11-24T14:36:35.400Z"
   },
   {
    "duration": 15,
    "start_time": "2022-11-24T14:38:33.423Z"
   },
   {
    "duration": 1138,
    "start_time": "2022-11-24T14:47:36.121Z"
   },
   {
    "duration": 1102,
    "start_time": "2022-11-24T14:48:17.453Z"
   },
   {
    "duration": 8,
    "start_time": "2022-11-24T14:49:37.421Z"
   },
   {
    "duration": 26,
    "start_time": "2022-11-24T14:53:12.496Z"
   },
   {
    "duration": 67,
    "start_time": "2022-11-24T14:57:47.484Z"
   },
   {
    "duration": 26,
    "start_time": "2022-11-24T15:00:35.456Z"
   },
   {
    "duration": 1165,
    "start_time": "2022-11-24T15:02:37.958Z"
   },
   {
    "duration": 15,
    "start_time": "2022-11-24T15:03:16.038Z"
   },
   {
    "duration": 432,
    "start_time": "2022-11-25T16:22:04.201Z"
   },
   {
    "duration": 87,
    "start_time": "2022-11-25T16:22:04.636Z"
   },
   {
    "duration": 13,
    "start_time": "2022-11-25T16:22:04.726Z"
   },
   {
    "duration": 14,
    "start_time": "2022-11-25T16:22:04.742Z"
   },
   {
    "duration": 79,
    "start_time": "2022-11-25T16:22:04.758Z"
   },
   {
    "duration": 65,
    "start_time": "2022-11-25T16:22:04.839Z"
   },
   {
    "duration": 12,
    "start_time": "2022-11-25T16:22:04.906Z"
   },
   {
    "duration": 14,
    "start_time": "2022-11-25T16:22:04.920Z"
   },
   {
    "duration": 8,
    "start_time": "2022-11-25T16:22:04.936Z"
   },
   {
    "duration": 6,
    "start_time": "2022-11-25T16:22:04.946Z"
   },
   {
    "duration": 10,
    "start_time": "2022-11-25T16:22:04.954Z"
   },
   {
    "duration": 11,
    "start_time": "2022-11-25T16:22:04.966Z"
   },
   {
    "duration": 16,
    "start_time": "2022-11-25T16:22:04.979Z"
   },
   {
    "duration": 5,
    "start_time": "2022-11-25T16:22:04.997Z"
   },
   {
    "duration": 17,
    "start_time": "2022-11-25T16:22:05.004Z"
   },
   {
    "duration": 323,
    "start_time": "2022-11-25T16:22:05.024Z"
   },
   {
    "duration": 535,
    "start_time": "2022-11-25T16:22:05.349Z"
   },
   {
    "duration": 209,
    "start_time": "2022-11-25T16:22:05.886Z"
   },
   {
    "duration": 281,
    "start_time": "2022-11-25T16:22:06.097Z"
   },
   {
    "duration": 279,
    "start_time": "2022-11-25T16:22:06.380Z"
   },
   {
    "duration": 340,
    "start_time": "2022-11-25T16:22:06.661Z"
   },
   {
    "duration": 152,
    "start_time": "2022-11-25T16:22:07.003Z"
   },
   {
    "duration": 5,
    "start_time": "2022-11-25T16:22:07.157Z"
   },
   {
    "duration": 148,
    "start_time": "2022-11-25T16:22:07.163Z"
   },
   {
    "duration": 5,
    "start_time": "2022-11-25T16:22:07.313Z"
   },
   {
    "duration": 241,
    "start_time": "2022-11-25T16:22:07.320Z"
   },
   {
    "duration": 542,
    "start_time": "2022-11-25T16:22:07.563Z"
   },
   {
    "duration": 12,
    "start_time": "2022-11-25T16:22:08.108Z"
   },
   {
    "duration": 17,
    "start_time": "2022-11-25T16:22:08.121Z"
   },
   {
    "duration": 37,
    "start_time": "2022-11-25T16:22:08.151Z"
   },
   {
    "duration": 15,
    "start_time": "2022-11-25T16:22:08.190Z"
   },
   {
    "duration": 402,
    "start_time": "2022-11-25T16:22:25.572Z"
   },
   {
    "duration": 38,
    "start_time": "2022-11-25T16:22:25.976Z"
   },
   {
    "duration": 14,
    "start_time": "2022-11-25T16:22:26.016Z"
   },
   {
    "duration": 17,
    "start_time": "2022-11-25T16:22:26.032Z"
   },
   {
    "duration": 48,
    "start_time": "2022-11-25T16:22:26.051Z"
   },
   {
    "duration": 22,
    "start_time": "2022-11-25T16:22:26.100Z"
   },
   {
    "duration": 12,
    "start_time": "2022-11-25T16:22:26.123Z"
   },
   {
    "duration": 27,
    "start_time": "2022-11-25T16:22:26.137Z"
   },
   {
    "duration": 26,
    "start_time": "2022-11-25T16:22:26.166Z"
   },
   {
    "duration": 23,
    "start_time": "2022-11-25T16:22:26.198Z"
   },
   {
    "duration": 21,
    "start_time": "2022-11-25T16:22:26.223Z"
   },
   {
    "duration": 16,
    "start_time": "2022-11-25T16:22:26.246Z"
   },
   {
    "duration": 15,
    "start_time": "2022-11-25T16:22:26.264Z"
   },
   {
    "duration": 5,
    "start_time": "2022-11-25T16:22:26.281Z"
   },
   {
    "duration": 18,
    "start_time": "2022-11-25T16:22:26.288Z"
   },
   {
    "duration": 305,
    "start_time": "2022-11-25T16:22:26.308Z"
   },
   {
    "duration": 599,
    "start_time": "2022-11-25T16:22:26.616Z"
   },
   {
    "duration": 220,
    "start_time": "2022-11-25T16:22:27.218Z"
   },
   {
    "duration": 314,
    "start_time": "2022-11-25T16:22:27.440Z"
   },
   {
    "duration": 263,
    "start_time": "2022-11-25T16:22:27.756Z"
   },
   {
    "duration": 358,
    "start_time": "2022-11-25T16:22:28.021Z"
   },
   {
    "duration": 170,
    "start_time": "2022-11-25T16:22:28.382Z"
   },
   {
    "duration": 6,
    "start_time": "2022-11-25T16:22:28.554Z"
   },
   {
    "duration": 170,
    "start_time": "2022-11-25T16:22:28.562Z"
   },
   {
    "duration": 17,
    "start_time": "2022-11-25T16:22:28.733Z"
   },
   {
    "duration": 255,
    "start_time": "2022-11-25T16:22:28.753Z"
   },
   {
    "duration": 608,
    "start_time": "2022-11-25T16:22:29.010Z"
   },
   {
    "duration": 12,
    "start_time": "2022-11-25T16:22:29.622Z"
   },
   {
    "duration": 23,
    "start_time": "2022-11-25T16:22:29.637Z"
   },
   {
    "duration": 39,
    "start_time": "2022-11-25T16:22:29.662Z"
   },
   {
    "duration": 20,
    "start_time": "2022-11-25T16:22:29.703Z"
   },
   {
    "duration": 46,
    "start_time": "2022-11-25T16:53:14.640Z"
   },
   {
    "duration": 236,
    "start_time": "2022-11-25T16:53:43.984Z"
   },
   {
    "duration": 16,
    "start_time": "2022-11-25T16:54:05.488Z"
   },
   {
    "duration": 1935,
    "start_time": "2022-11-25T16:54:50.209Z"
   },
   {
    "duration": 1495,
    "start_time": "2022-11-25T16:54:59.759Z"
   },
   {
    "duration": 49,
    "start_time": "2022-11-25T16:55:22.210Z"
   },
   {
    "duration": 51,
    "start_time": "2022-11-25T16:55:27.280Z"
   },
   {
    "duration": 414,
    "start_time": "2022-11-25T17:04:03.875Z"
   },
   {
    "duration": 75,
    "start_time": "2022-11-25T17:04:06.669Z"
   },
   {
    "duration": 51,
    "start_time": "2022-11-25T17:04:32.816Z"
   },
   {
    "duration": 14,
    "start_time": "2022-11-25T17:05:01.114Z"
   },
   {
    "duration": 12,
    "start_time": "2022-11-25T17:05:36.282Z"
   },
   {
    "duration": 62,
    "start_time": "2022-11-25T17:06:36.185Z"
   },
   {
    "duration": 13,
    "start_time": "2022-11-25T17:07:21.175Z"
   },
   {
    "duration": 2,
    "start_time": "2022-11-25T17:09:12.168Z"
   },
   {
    "duration": 40,
    "start_time": "2022-11-25T17:09:12.173Z"
   },
   {
    "duration": 11,
    "start_time": "2022-11-25T17:09:12.215Z"
   },
   {
    "duration": 19,
    "start_time": "2022-11-25T17:09:12.228Z"
   },
   {
    "duration": 93,
    "start_time": "2022-11-25T17:09:12.249Z"
   },
   {
    "duration": 59,
    "start_time": "2022-11-25T17:09:12.344Z"
   },
   {
    "duration": 13,
    "start_time": "2022-11-25T17:09:12.405Z"
   },
   {
    "duration": 12,
    "start_time": "2022-11-25T17:09:12.420Z"
   },
   {
    "duration": 13,
    "start_time": "2022-11-25T17:09:12.434Z"
   },
   {
    "duration": 13,
    "start_time": "2022-11-25T17:09:12.449Z"
   },
   {
    "duration": 9,
    "start_time": "2022-11-25T17:09:12.463Z"
   },
   {
    "duration": 23,
    "start_time": "2022-11-25T17:09:12.474Z"
   },
   {
    "duration": 13,
    "start_time": "2022-11-25T17:09:12.500Z"
   },
   {
    "duration": 12,
    "start_time": "2022-11-25T17:09:12.515Z"
   },
   {
    "duration": 12,
    "start_time": "2022-11-25T17:09:12.528Z"
   },
   {
    "duration": 285,
    "start_time": "2022-11-25T17:09:12.541Z"
   },
   {
    "duration": 684,
    "start_time": "2022-11-25T17:09:12.828Z"
   },
   {
    "duration": 200,
    "start_time": "2022-11-25T17:09:13.514Z"
   },
   {
    "duration": 329,
    "start_time": "2022-11-25T17:09:13.716Z"
   },
   {
    "duration": 261,
    "start_time": "2022-11-25T17:09:14.047Z"
   },
   {
    "duration": 315,
    "start_time": "2022-11-25T17:09:14.310Z"
   },
   {
    "duration": 157,
    "start_time": "2022-11-25T17:09:14.627Z"
   },
   {
    "duration": 13,
    "start_time": "2022-11-25T17:09:14.787Z"
   },
   {
    "duration": 140,
    "start_time": "2022-11-25T17:09:14.802Z"
   },
   {
    "duration": 5,
    "start_time": "2022-11-25T17:09:14.944Z"
   },
   {
    "duration": 246,
    "start_time": "2022-11-25T17:09:14.951Z"
   },
   {
    "duration": 549,
    "start_time": "2022-11-25T17:09:15.199Z"
   },
   {
    "duration": 11,
    "start_time": "2022-11-25T17:09:15.750Z"
   },
   {
    "duration": 33,
    "start_time": "2022-11-25T17:09:15.763Z"
   },
   {
    "duration": 38,
    "start_time": "2022-11-25T17:09:15.798Z"
   },
   {
    "duration": 16,
    "start_time": "2022-11-25T17:09:15.838Z"
   },
   {
    "duration": 3,
    "start_time": "2022-11-25T17:18:03.404Z"
   },
   {
    "duration": 39,
    "start_time": "2022-11-25T17:18:03.410Z"
   },
   {
    "duration": 12,
    "start_time": "2022-11-25T17:18:03.450Z"
   },
   {
    "duration": 21,
    "start_time": "2022-11-25T17:18:03.464Z"
   },
   {
    "duration": 46,
    "start_time": "2022-11-25T17:18:03.488Z"
   },
   {
    "duration": 21,
    "start_time": "2022-11-25T17:18:03.536Z"
   },
   {
    "duration": 10,
    "start_time": "2022-11-25T17:18:03.559Z"
   },
   {
    "duration": 20,
    "start_time": "2022-11-25T17:18:03.571Z"
   },
   {
    "duration": 10,
    "start_time": "2022-11-25T17:18:03.593Z"
   },
   {
    "duration": 6,
    "start_time": "2022-11-25T17:18:03.604Z"
   },
   {
    "duration": 8,
    "start_time": "2022-11-25T17:18:03.612Z"
   },
   {
    "duration": 12,
    "start_time": "2022-11-25T17:18:03.622Z"
   },
   {
    "duration": 19,
    "start_time": "2022-11-25T17:18:03.635Z"
   },
   {
    "duration": 5,
    "start_time": "2022-11-25T17:18:03.657Z"
   },
   {
    "duration": 32,
    "start_time": "2022-11-25T17:18:03.664Z"
   },
   {
    "duration": 310,
    "start_time": "2022-11-25T17:18:03.699Z"
   },
   {
    "duration": 280,
    "start_time": "2022-11-25T17:18:04.010Z"
   },
   {
    "duration": 208,
    "start_time": "2022-11-25T17:18:04.296Z"
   },
   {
    "duration": 298,
    "start_time": "2022-11-25T17:18:04.506Z"
   },
   {
    "duration": 232,
    "start_time": "2022-11-25T17:18:04.806Z"
   },
   {
    "duration": 318,
    "start_time": "2022-11-25T17:18:05.040Z"
   },
   {
    "duration": 160,
    "start_time": "2022-11-25T17:18:05.360Z"
   },
   {
    "duration": 5,
    "start_time": "2022-11-25T17:18:05.522Z"
   },
   {
    "duration": 141,
    "start_time": "2022-11-25T17:18:05.529Z"
   },
   {
    "duration": 5,
    "start_time": "2022-11-25T17:18:05.672Z"
   },
   {
    "duration": 61,
    "start_time": "2022-11-25T17:18:05.679Z"
   },
   {
    "duration": 0,
    "start_time": "2022-11-25T17:18:05.741Z"
   },
   {
    "duration": 0,
    "start_time": "2022-11-25T17:18:05.743Z"
   },
   {
    "duration": 0,
    "start_time": "2022-11-25T17:18:05.744Z"
   },
   {
    "duration": 0,
    "start_time": "2022-11-25T17:18:05.745Z"
   },
   {
    "duration": 0,
    "start_time": "2022-11-25T17:18:05.746Z"
   },
   {
    "duration": 3,
    "start_time": "2022-11-25T17:18:40.303Z"
   },
   {
    "duration": 40,
    "start_time": "2022-11-25T17:18:40.308Z"
   },
   {
    "duration": 11,
    "start_time": "2022-11-25T17:18:40.350Z"
   },
   {
    "duration": 13,
    "start_time": "2022-11-25T17:18:40.362Z"
   },
   {
    "duration": 52,
    "start_time": "2022-11-25T17:18:40.377Z"
   },
   {
    "duration": 20,
    "start_time": "2022-11-25T17:18:40.431Z"
   },
   {
    "duration": 10,
    "start_time": "2022-11-25T17:18:40.452Z"
   },
   {
    "duration": 11,
    "start_time": "2022-11-25T17:18:40.463Z"
   },
   {
    "duration": 7,
    "start_time": "2022-11-25T17:18:40.475Z"
   },
   {
    "duration": 5,
    "start_time": "2022-11-25T17:18:40.483Z"
   },
   {
    "duration": 8,
    "start_time": "2022-11-25T17:18:40.491Z"
   },
   {
    "duration": 9,
    "start_time": "2022-11-25T17:18:40.500Z"
   },
   {
    "duration": 15,
    "start_time": "2022-11-25T17:18:40.510Z"
   },
   {
    "duration": 9,
    "start_time": "2022-11-25T17:18:40.526Z"
   },
   {
    "duration": 12,
    "start_time": "2022-11-25T17:18:40.536Z"
   },
   {
    "duration": 256,
    "start_time": "2022-11-25T17:18:40.550Z"
   },
   {
    "duration": 198,
    "start_time": "2022-11-25T17:18:40.807Z"
   },
   {
    "duration": 204,
    "start_time": "2022-11-25T17:18:41.007Z"
   },
   {
    "duration": 271,
    "start_time": "2022-11-25T17:18:41.212Z"
   },
   {
    "duration": 213,
    "start_time": "2022-11-25T17:18:41.484Z"
   },
   {
    "duration": 405,
    "start_time": "2022-11-25T17:18:41.699Z"
   },
   {
    "duration": 149,
    "start_time": "2022-11-25T17:18:42.106Z"
   },
   {
    "duration": 5,
    "start_time": "2022-11-25T17:18:42.257Z"
   },
   {
    "duration": 138,
    "start_time": "2022-11-25T17:18:42.263Z"
   },
   {
    "duration": 5,
    "start_time": "2022-11-25T17:18:42.402Z"
   },
   {
    "duration": 7,
    "start_time": "2022-11-25T17:18:42.408Z"
   },
   {
    "duration": 153,
    "start_time": "2022-11-25T17:18:42.417Z"
   },
   {
    "duration": 10,
    "start_time": "2022-11-25T17:18:42.572Z"
   },
   {
    "duration": 8,
    "start_time": "2022-11-25T17:18:42.597Z"
   },
   {
    "duration": 26,
    "start_time": "2022-11-25T17:18:42.607Z"
   },
   {
    "duration": 14,
    "start_time": "2022-11-25T17:18:42.635Z"
   },
   {
    "duration": 197,
    "start_time": "2022-11-25T17:27:40.423Z"
   },
   {
    "duration": 283,
    "start_time": "2022-11-25T17:29:07.064Z"
   },
   {
    "duration": 217,
    "start_time": "2022-11-25T17:29:22.779Z"
   },
   {
    "duration": 209,
    "start_time": "2022-11-25T17:30:26.614Z"
   },
   {
    "duration": 324,
    "start_time": "2022-11-25T17:31:39.275Z"
   },
   {
    "duration": 310,
    "start_time": "2022-11-25T17:31:59.705Z"
   },
   {
    "duration": 205,
    "start_time": "2022-11-25T17:32:51.186Z"
   },
   {
    "duration": 343,
    "start_time": "2022-11-25T17:33:19.580Z"
   },
   {
    "duration": 394,
    "start_time": "2022-11-25T17:33:28.140Z"
   },
   {
    "duration": 317,
    "start_time": "2022-11-25T17:33:50.082Z"
   },
   {
    "duration": 144,
    "start_time": "2022-11-25T17:35:03.241Z"
   },
   {
    "duration": 164,
    "start_time": "2022-11-25T17:36:26.167Z"
   },
   {
    "duration": 225,
    "start_time": "2022-11-25T17:37:15.728Z"
   },
   {
    "duration": 348,
    "start_time": "2022-11-25T17:37:19.975Z"
   },
   {
    "duration": 300,
    "start_time": "2022-11-25T17:37:31.656Z"
   },
   {
    "duration": 211,
    "start_time": "2022-11-25T17:37:39.774Z"
   },
   {
    "duration": 211,
    "start_time": "2022-11-25T17:37:51.868Z"
   },
   {
    "duration": 57,
    "start_time": "2022-11-25T17:40:13.885Z"
   },
   {
    "duration": 214,
    "start_time": "2022-11-25T17:43:02.850Z"
   },
   {
    "duration": 205,
    "start_time": "2022-11-25T17:44:10.032Z"
   },
   {
    "duration": 287,
    "start_time": "2022-11-25T17:45:11.372Z"
   },
   {
    "duration": 202,
    "start_time": "2022-11-25T17:45:23.110Z"
   },
   {
    "duration": 911,
    "start_time": "2022-11-25T17:51:15.797Z"
   },
   {
    "duration": 314,
    "start_time": "2022-11-25T17:51:42.314Z"
   },
   {
    "duration": 52,
    "start_time": "2022-11-25T17:55:37.687Z"
   },
   {
    "duration": 3,
    "start_time": "2022-11-25T17:56:43.642Z"
   },
   {
    "duration": 3,
    "start_time": "2022-11-25T17:58:08.189Z"
   },
   {
    "duration": 50,
    "start_time": "2022-11-25T17:59:08.106Z"
   },
   {
    "duration": 61,
    "start_time": "2022-11-25T18:00:35.318Z"
   },
   {
    "duration": 138,
    "start_time": "2022-11-25T18:01:44.613Z"
   },
   {
    "duration": 137,
    "start_time": "2022-11-25T18:01:58.717Z"
   },
   {
    "duration": 147,
    "start_time": "2022-11-25T18:02:24.644Z"
   },
   {
    "duration": 173,
    "start_time": "2022-11-25T18:12:38.576Z"
   },
   {
    "duration": 154,
    "start_time": "2022-11-25T18:12:48.588Z"
   },
   {
    "duration": 193,
    "start_time": "2022-11-25T18:13:16.215Z"
   },
   {
    "duration": 157,
    "start_time": "2022-11-25T18:13:19.045Z"
   },
   {
    "duration": 168,
    "start_time": "2022-11-25T18:13:31.852Z"
   },
   {
    "duration": 148,
    "start_time": "2022-11-25T18:13:52.536Z"
   },
   {
    "duration": 11,
    "start_time": "2022-11-25T18:19:31.840Z"
   },
   {
    "duration": 9,
    "start_time": "2022-11-25T18:22:14.080Z"
   },
   {
    "duration": 29,
    "start_time": "2022-11-25T18:22:20.242Z"
   },
   {
    "duration": 28,
    "start_time": "2022-11-25T18:28:24.161Z"
   },
   {
    "duration": 14,
    "start_time": "2022-11-25T18:31:40.727Z"
   },
   {
    "duration": 55,
    "start_time": "2022-11-25T18:33:05.815Z"
   }
  ],
  "kernelspec": {
   "display_name": "Python 3 (ipykernel)",
   "language": "python",
   "name": "python3"
  },
  "language_info": {
   "codemirror_mode": {
    "name": "ipython",
    "version": 3
   },
   "file_extension": ".py",
   "mimetype": "text/x-python",
   "name": "python",
   "nbconvert_exporter": "python",
   "pygments_lexer": "ipython3",
   "version": "3.9.12"
  },
  "toc": {
   "base_numbering": 1,
   "nav_menu": {},
   "number_sections": false,
   "sideBar": true,
   "skip_h1_title": true,
   "title_cell": "Table of Contents",
   "title_sidebar": "Contents",
   "toc_cell": false,
   "toc_position": {
    "height": "calc(100% - 180px)",
    "left": "10px",
    "top": "150px",
    "width": "242px"
   },
   "toc_section_display": true,
   "toc_window_display": false
  }
 },
 "nbformat": 4,
 "nbformat_minor": 2
}
