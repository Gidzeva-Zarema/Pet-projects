{
 "cells": [
  {
   "cell_type": "markdown",
   "id": "667ef2f4",
   "metadata": {},
   "source": [
    "# Исследование надёжности заёмщиков"
   ]
  },
  {
   "cell_type": "markdown",
   "id": "a127c6e0",
   "metadata": {},
   "source": [
    "## Описание проекта"
   ]
  },
  {
   "cell_type": "markdown",
   "id": "a0f38456",
   "metadata": {},
   "source": [
    "Заказчик — кредитный отдел банка. **Нужно разобраться, влияет ли семейное положение и количество детей клиента на факт погашения кредита в срок**.Входные данные от банка — статистика о платёжеспособности клиентов.\\\n",
    "Результаты исследования будут учтены при построении модели кредитного скоринга — специальной системы, которая оценивает способность потенциального заёмщика вернуть кредит банку."
   ]
  },
  {
   "cell_type": "markdown",
   "id": "724aaf45",
   "metadata": {},
   "source": [
    "## Описание данных"
   ]
  },
  {
   "cell_type": "markdown",
   "id": "1b146323",
   "metadata": {},
   "source": [
    "- `children` — количество детей в семье\n",
    "- `days_employed` — общий трудовой стаж в днях\n",
    "- `dob_years` — возраст клиента в годах\n",
    "- `education` — уровень образования клиента\n",
    "- `education_id` — идентификатор уровня образования\n",
    "- `family_status` — семейное положение\n",
    "- `family_status_id` — идентификатор семейного положения\n",
    "- `gender` — пол клиента\n",
    "- `income_type` — тип занятости\n",
    "- `debt` — имел ли задолженность по возврату кредитов\n",
    "- `total_income` — ежемесячный доход\n",
    "- `purpose` — цель получения кредита"
   ]
  },
  {
   "cell_type": "markdown",
   "id": "4348e193",
   "metadata": {},
   "source": [
    "## Оглавление"
   ]
  },
  {
   "cell_type": "code",
   "execution_count": null,
   "id": "9abf7736",
   "metadata": {},
   "outputs": [],
   "source": []
  },
  {
   "cell_type": "markdown",
   "id": "e75ae84a",
   "metadata": {},
   "source": [
    "## 1. Знакомство с данными"
   ]
  },
  {
   "cell_type": "code",
   "execution_count": 322,
   "id": "67d58999",
   "metadata": {},
   "outputs": [],
   "source": [
    "import pandas as pd\n",
    "import seaborn as sb"
   ]
  },
  {
   "cell_type": "code",
   "execution_count": 323,
   "id": "33db9109",
   "metadata": {},
   "outputs": [
    {
     "data": {
      "text/html": [
       "<div>\n",
       "<style scoped>\n",
       "    .dataframe tbody tr th:only-of-type {\n",
       "        vertical-align: middle;\n",
       "    }\n",
       "\n",
       "    .dataframe tbody tr th {\n",
       "        vertical-align: top;\n",
       "    }\n",
       "\n",
       "    .dataframe thead th {\n",
       "        text-align: right;\n",
       "    }\n",
       "</style>\n",
       "<table border=\"1\" class=\"dataframe\">\n",
       "  <thead>\n",
       "    <tr style=\"text-align: right;\">\n",
       "      <th></th>\n",
       "      <th>children</th>\n",
       "      <th>days_employed</th>\n",
       "      <th>dob_years</th>\n",
       "      <th>education</th>\n",
       "      <th>education_id</th>\n",
       "      <th>family_status</th>\n",
       "      <th>family_status_id</th>\n",
       "      <th>gender</th>\n",
       "      <th>income_type</th>\n",
       "      <th>debt</th>\n",
       "      <th>total_income</th>\n",
       "      <th>purpose</th>\n",
       "    </tr>\n",
       "  </thead>\n",
       "  <tbody>\n",
       "    <tr>\n",
       "      <th>0</th>\n",
       "      <td>1</td>\n",
       "      <td>-8437.673028</td>\n",
       "      <td>42</td>\n",
       "      <td>высшее</td>\n",
       "      <td>0</td>\n",
       "      <td>женат / замужем</td>\n",
       "      <td>0</td>\n",
       "      <td>F</td>\n",
       "      <td>сотрудник</td>\n",
       "      <td>0</td>\n",
       "      <td>253875.639453</td>\n",
       "      <td>покупка жилья</td>\n",
       "    </tr>\n",
       "    <tr>\n",
       "      <th>1</th>\n",
       "      <td>1</td>\n",
       "      <td>-4024.803754</td>\n",
       "      <td>36</td>\n",
       "      <td>среднее</td>\n",
       "      <td>1</td>\n",
       "      <td>женат / замужем</td>\n",
       "      <td>0</td>\n",
       "      <td>F</td>\n",
       "      <td>сотрудник</td>\n",
       "      <td>0</td>\n",
       "      <td>112080.014102</td>\n",
       "      <td>приобретение автомобиля</td>\n",
       "    </tr>\n",
       "    <tr>\n",
       "      <th>2</th>\n",
       "      <td>0</td>\n",
       "      <td>-5623.422610</td>\n",
       "      <td>33</td>\n",
       "      <td>Среднее</td>\n",
       "      <td>1</td>\n",
       "      <td>женат / замужем</td>\n",
       "      <td>0</td>\n",
       "      <td>M</td>\n",
       "      <td>сотрудник</td>\n",
       "      <td>0</td>\n",
       "      <td>145885.952297</td>\n",
       "      <td>покупка жилья</td>\n",
       "    </tr>\n",
       "    <tr>\n",
       "      <th>3</th>\n",
       "      <td>3</td>\n",
       "      <td>-4124.747207</td>\n",
       "      <td>32</td>\n",
       "      <td>среднее</td>\n",
       "      <td>1</td>\n",
       "      <td>женат / замужем</td>\n",
       "      <td>0</td>\n",
       "      <td>M</td>\n",
       "      <td>сотрудник</td>\n",
       "      <td>0</td>\n",
       "      <td>267628.550329</td>\n",
       "      <td>дополнительное образование</td>\n",
       "    </tr>\n",
       "    <tr>\n",
       "      <th>4</th>\n",
       "      <td>0</td>\n",
       "      <td>340266.072047</td>\n",
       "      <td>53</td>\n",
       "      <td>среднее</td>\n",
       "      <td>1</td>\n",
       "      <td>гражданский брак</td>\n",
       "      <td>1</td>\n",
       "      <td>F</td>\n",
       "      <td>пенсионер</td>\n",
       "      <td>0</td>\n",
       "      <td>158616.077870</td>\n",
       "      <td>сыграть свадьбу</td>\n",
       "    </tr>\n",
       "    <tr>\n",
       "      <th>5</th>\n",
       "      <td>0</td>\n",
       "      <td>-926.185831</td>\n",
       "      <td>27</td>\n",
       "      <td>высшее</td>\n",
       "      <td>0</td>\n",
       "      <td>гражданский брак</td>\n",
       "      <td>1</td>\n",
       "      <td>M</td>\n",
       "      <td>компаньон</td>\n",
       "      <td>0</td>\n",
       "      <td>255763.565419</td>\n",
       "      <td>покупка жилья</td>\n",
       "    </tr>\n",
       "    <tr>\n",
       "      <th>6</th>\n",
       "      <td>0</td>\n",
       "      <td>-2879.202052</td>\n",
       "      <td>43</td>\n",
       "      <td>высшее</td>\n",
       "      <td>0</td>\n",
       "      <td>женат / замужем</td>\n",
       "      <td>0</td>\n",
       "      <td>F</td>\n",
       "      <td>компаньон</td>\n",
       "      <td>0</td>\n",
       "      <td>240525.971920</td>\n",
       "      <td>операции с жильем</td>\n",
       "    </tr>\n",
       "    <tr>\n",
       "      <th>7</th>\n",
       "      <td>0</td>\n",
       "      <td>-152.779569</td>\n",
       "      <td>50</td>\n",
       "      <td>СРЕДНЕЕ</td>\n",
       "      <td>1</td>\n",
       "      <td>женат / замужем</td>\n",
       "      <td>0</td>\n",
       "      <td>M</td>\n",
       "      <td>сотрудник</td>\n",
       "      <td>0</td>\n",
       "      <td>135823.934197</td>\n",
       "      <td>образование</td>\n",
       "    </tr>\n",
       "    <tr>\n",
       "      <th>8</th>\n",
       "      <td>2</td>\n",
       "      <td>-6929.865299</td>\n",
       "      <td>35</td>\n",
       "      <td>ВЫСШЕЕ</td>\n",
       "      <td>0</td>\n",
       "      <td>гражданский брак</td>\n",
       "      <td>1</td>\n",
       "      <td>F</td>\n",
       "      <td>сотрудник</td>\n",
       "      <td>0</td>\n",
       "      <td>95856.832424</td>\n",
       "      <td>на проведение свадьбы</td>\n",
       "    </tr>\n",
       "    <tr>\n",
       "      <th>9</th>\n",
       "      <td>0</td>\n",
       "      <td>-2188.756445</td>\n",
       "      <td>41</td>\n",
       "      <td>среднее</td>\n",
       "      <td>1</td>\n",
       "      <td>женат / замужем</td>\n",
       "      <td>0</td>\n",
       "      <td>M</td>\n",
       "      <td>сотрудник</td>\n",
       "      <td>0</td>\n",
       "      <td>144425.938277</td>\n",
       "      <td>покупка жилья для семьи</td>\n",
       "    </tr>\n",
       "    <tr>\n",
       "      <th>10</th>\n",
       "      <td>2</td>\n",
       "      <td>-4171.483647</td>\n",
       "      <td>36</td>\n",
       "      <td>высшее</td>\n",
       "      <td>0</td>\n",
       "      <td>женат / замужем</td>\n",
       "      <td>0</td>\n",
       "      <td>M</td>\n",
       "      <td>компаньон</td>\n",
       "      <td>0</td>\n",
       "      <td>113943.491460</td>\n",
       "      <td>покупка недвижимости</td>\n",
       "    </tr>\n",
       "    <tr>\n",
       "      <th>11</th>\n",
       "      <td>0</td>\n",
       "      <td>-792.701887</td>\n",
       "      <td>40</td>\n",
       "      <td>среднее</td>\n",
       "      <td>1</td>\n",
       "      <td>женат / замужем</td>\n",
       "      <td>0</td>\n",
       "      <td>F</td>\n",
       "      <td>сотрудник</td>\n",
       "      <td>0</td>\n",
       "      <td>77069.234271</td>\n",
       "      <td>покупка коммерческой недвижимости</td>\n",
       "    </tr>\n",
       "    <tr>\n",
       "      <th>12</th>\n",
       "      <td>0</td>\n",
       "      <td>NaN</td>\n",
       "      <td>65</td>\n",
       "      <td>среднее</td>\n",
       "      <td>1</td>\n",
       "      <td>гражданский брак</td>\n",
       "      <td>1</td>\n",
       "      <td>M</td>\n",
       "      <td>пенсионер</td>\n",
       "      <td>0</td>\n",
       "      <td>NaN</td>\n",
       "      <td>сыграть свадьбу</td>\n",
       "    </tr>\n",
       "    <tr>\n",
       "      <th>13</th>\n",
       "      <td>0</td>\n",
       "      <td>-1846.641941</td>\n",
       "      <td>54</td>\n",
       "      <td>неоконченное высшее</td>\n",
       "      <td>2</td>\n",
       "      <td>женат / замужем</td>\n",
       "      <td>0</td>\n",
       "      <td>F</td>\n",
       "      <td>сотрудник</td>\n",
       "      <td>0</td>\n",
       "      <td>130458.228857</td>\n",
       "      <td>приобретение автомобиля</td>\n",
       "    </tr>\n",
       "    <tr>\n",
       "      <th>14</th>\n",
       "      <td>0</td>\n",
       "      <td>-1844.956182</td>\n",
       "      <td>56</td>\n",
       "      <td>высшее</td>\n",
       "      <td>0</td>\n",
       "      <td>гражданский брак</td>\n",
       "      <td>1</td>\n",
       "      <td>F</td>\n",
       "      <td>компаньон</td>\n",
       "      <td>1</td>\n",
       "      <td>165127.911772</td>\n",
       "      <td>покупка жилой недвижимости</td>\n",
       "    </tr>\n",
       "    <tr>\n",
       "      <th>15</th>\n",
       "      <td>1</td>\n",
       "      <td>-972.364419</td>\n",
       "      <td>26</td>\n",
       "      <td>среднее</td>\n",
       "      <td>1</td>\n",
       "      <td>женат / замужем</td>\n",
       "      <td>0</td>\n",
       "      <td>F</td>\n",
       "      <td>сотрудник</td>\n",
       "      <td>0</td>\n",
       "      <td>116820.904450</td>\n",
       "      <td>строительство собственной недвижимости</td>\n",
       "    </tr>\n",
       "    <tr>\n",
       "      <th>16</th>\n",
       "      <td>0</td>\n",
       "      <td>-1719.934226</td>\n",
       "      <td>35</td>\n",
       "      <td>среднее</td>\n",
       "      <td>1</td>\n",
       "      <td>женат / замужем</td>\n",
       "      <td>0</td>\n",
       "      <td>F</td>\n",
       "      <td>сотрудник</td>\n",
       "      <td>0</td>\n",
       "      <td>289202.704229</td>\n",
       "      <td>недвижимость</td>\n",
       "    </tr>\n",
       "    <tr>\n",
       "      <th>17</th>\n",
       "      <td>0</td>\n",
       "      <td>-2369.999720</td>\n",
       "      <td>33</td>\n",
       "      <td>высшее</td>\n",
       "      <td>0</td>\n",
       "      <td>гражданский брак</td>\n",
       "      <td>1</td>\n",
       "      <td>M</td>\n",
       "      <td>сотрудник</td>\n",
       "      <td>0</td>\n",
       "      <td>90410.586745</td>\n",
       "      <td>строительство недвижимости</td>\n",
       "    </tr>\n",
       "    <tr>\n",
       "      <th>18</th>\n",
       "      <td>0</td>\n",
       "      <td>400281.136913</td>\n",
       "      <td>53</td>\n",
       "      <td>среднее</td>\n",
       "      <td>1</td>\n",
       "      <td>вдовец / вдова</td>\n",
       "      <td>2</td>\n",
       "      <td>F</td>\n",
       "      <td>пенсионер</td>\n",
       "      <td>0</td>\n",
       "      <td>56823.777243</td>\n",
       "      <td>на покупку подержанного автомобиля</td>\n",
       "    </tr>\n",
       "    <tr>\n",
       "      <th>19</th>\n",
       "      <td>0</td>\n",
       "      <td>-10038.818549</td>\n",
       "      <td>48</td>\n",
       "      <td>СРЕДНЕЕ</td>\n",
       "      <td>1</td>\n",
       "      <td>в разводе</td>\n",
       "      <td>3</td>\n",
       "      <td>F</td>\n",
       "      <td>сотрудник</td>\n",
       "      <td>0</td>\n",
       "      <td>242831.107982</td>\n",
       "      <td>на покупку своего автомобиля</td>\n",
       "    </tr>\n",
       "  </tbody>\n",
       "</table>\n",
       "</div>"
      ],
      "text/plain": [
       "    children  days_employed  dob_years            education  education_id  \\\n",
       "0          1   -8437.673028         42               высшее             0   \n",
       "1          1   -4024.803754         36              среднее             1   \n",
       "2          0   -5623.422610         33              Среднее             1   \n",
       "3          3   -4124.747207         32              среднее             1   \n",
       "4          0  340266.072047         53              среднее             1   \n",
       "5          0    -926.185831         27               высшее             0   \n",
       "6          0   -2879.202052         43               высшее             0   \n",
       "7          0    -152.779569         50              СРЕДНЕЕ             1   \n",
       "8          2   -6929.865299         35               ВЫСШЕЕ             0   \n",
       "9          0   -2188.756445         41              среднее             1   \n",
       "10         2   -4171.483647         36               высшее             0   \n",
       "11         0    -792.701887         40              среднее             1   \n",
       "12         0            NaN         65              среднее             1   \n",
       "13         0   -1846.641941         54  неоконченное высшее             2   \n",
       "14         0   -1844.956182         56               высшее             0   \n",
       "15         1    -972.364419         26              среднее             1   \n",
       "16         0   -1719.934226         35              среднее             1   \n",
       "17         0   -2369.999720         33               высшее             0   \n",
       "18         0  400281.136913         53              среднее             1   \n",
       "19         0  -10038.818549         48              СРЕДНЕЕ             1   \n",
       "\n",
       "       family_status  family_status_id gender income_type  debt  \\\n",
       "0    женат / замужем                 0      F   сотрудник     0   \n",
       "1    женат / замужем                 0      F   сотрудник     0   \n",
       "2    женат / замужем                 0      M   сотрудник     0   \n",
       "3    женат / замужем                 0      M   сотрудник     0   \n",
       "4   гражданский брак                 1      F   пенсионер     0   \n",
       "5   гражданский брак                 1      M   компаньон     0   \n",
       "6    женат / замужем                 0      F   компаньон     0   \n",
       "7    женат / замужем                 0      M   сотрудник     0   \n",
       "8   гражданский брак                 1      F   сотрудник     0   \n",
       "9    женат / замужем                 0      M   сотрудник     0   \n",
       "10   женат / замужем                 0      M   компаньон     0   \n",
       "11   женат / замужем                 0      F   сотрудник     0   \n",
       "12  гражданский брак                 1      M   пенсионер     0   \n",
       "13   женат / замужем                 0      F   сотрудник     0   \n",
       "14  гражданский брак                 1      F   компаньон     1   \n",
       "15   женат / замужем                 0      F   сотрудник     0   \n",
       "16   женат / замужем                 0      F   сотрудник     0   \n",
       "17  гражданский брак                 1      M   сотрудник     0   \n",
       "18    вдовец / вдова                 2      F   пенсионер     0   \n",
       "19         в разводе                 3      F   сотрудник     0   \n",
       "\n",
       "     total_income                                 purpose  \n",
       "0   253875.639453                           покупка жилья  \n",
       "1   112080.014102                 приобретение автомобиля  \n",
       "2   145885.952297                           покупка жилья  \n",
       "3   267628.550329              дополнительное образование  \n",
       "4   158616.077870                         сыграть свадьбу  \n",
       "5   255763.565419                           покупка жилья  \n",
       "6   240525.971920                       операции с жильем  \n",
       "7   135823.934197                             образование  \n",
       "8    95856.832424                   на проведение свадьбы  \n",
       "9   144425.938277                 покупка жилья для семьи  \n",
       "10  113943.491460                    покупка недвижимости  \n",
       "11   77069.234271       покупка коммерческой недвижимости  \n",
       "12            NaN                         сыграть свадьбу  \n",
       "13  130458.228857                 приобретение автомобиля  \n",
       "14  165127.911772              покупка жилой недвижимости  \n",
       "15  116820.904450  строительство собственной недвижимости  \n",
       "16  289202.704229                            недвижимость  \n",
       "17   90410.586745              строительство недвижимости  \n",
       "18   56823.777243      на покупку подержанного автомобиля  \n",
       "19  242831.107982            на покупку своего автомобиля  "
      ]
     },
     "execution_count": 323,
     "metadata": {},
     "output_type": "execute_result"
    }
   ],
   "source": [
    "data = pd.read_csv('data.csv')\n",
    "data.head(20)"
   ]
  },
  {
   "cell_type": "code",
   "execution_count": 324,
   "id": "9eb8f5d8",
   "metadata": {},
   "outputs": [
    {
     "name": "stdout",
     "output_type": "stream",
     "text": [
      "<class 'pandas.core.frame.DataFrame'>\n",
      "RangeIndex: 21525 entries, 0 to 21524\n",
      "Data columns (total 12 columns):\n",
      " #   Column            Non-Null Count  Dtype  \n",
      "---  ------            --------------  -----  \n",
      " 0   children          21525 non-null  int64  \n",
      " 1   days_employed     19351 non-null  float64\n",
      " 2   dob_years         21525 non-null  int64  \n",
      " 3   education         21525 non-null  object \n",
      " 4   education_id      21525 non-null  int64  \n",
      " 5   family_status     21525 non-null  object \n",
      " 6   family_status_id  21525 non-null  int64  \n",
      " 7   gender            21525 non-null  object \n",
      " 8   income_type       21525 non-null  object \n",
      " 9   debt              21525 non-null  int64  \n",
      " 10  total_income      19351 non-null  float64\n",
      " 11  purpose           21525 non-null  object \n",
      "dtypes: float64(2), int64(5), object(5)\n",
      "memory usage: 2.0+ MB\n"
     ]
    }
   ],
   "source": [
    "data.info()"
   ]
  },
  {
   "cell_type": "markdown",
   "id": "c0b95b45",
   "metadata": {},
   "source": [
    "**Выводы**\n",
    "- В таблице имеются пропуски в столбцах `days_employed` и `total_income`, при том в одной строке. Поэтому можно предположить, что эти пропуски не случайные. Например, заемщик не предоставил справку 2-НДФЛ или имеются проблемы при ее загрузке в систему банка.\n",
    "- В столбце `days_employed` - стаж в днях - все значения не целые, a так же присутсвуют отрицательные значения\n",
    "- В столбцах `education` и `purpose` присутствуют неявные дубликаты"
   ]
  },
  {
   "cell_type": "markdown",
   "id": "cf9d03b5",
   "metadata": {},
   "source": [
    "## 2. Предобработка данных"
   ]
  },
  {
   "cell_type": "markdown",
   "id": "cdbd6c46",
   "metadata": {},
   "source": [
    "### Удаление пропусков"
   ]
  },
  {
   "cell_type": "markdown",
   "id": "258b0b19",
   "metadata": {},
   "source": [
    "В двух столбцах есть пропущенные значения. Со столбцом `days_employed` разберемся на этапе обработки аномальных значений. Другой столбец с пропущенными значениями — `total_income` — хранит данные о доходах. На сумму дохода сильнее всего влияет тип занятости, поэтому заполнить пропуски в этом столбце нужно медианным значением по каждому типу из столбца `income_type`. Заполнение пропусков медианным значение - оптимальное решение для столбцов с зарплатой и опытом работы, так как разброс в данных слишком большой и присутсвтуют выбросы. Среднее не даст объективной оценки."
   ]
  },
  {
   "cell_type": "code",
   "execution_count": 325,
   "id": "71127cae",
   "metadata": {},
   "outputs": [],
   "source": [
    "for t in data['income_type'].unique():\n",
    "    data.loc[(data['income_type'] == t) & (data['total_income'].isna()), 'total_income'] = \\\n",
    "    data.loc[(data['income_type'] == t), 'total_income'].median()"
   ]
  },
  {
   "cell_type": "markdown",
   "id": "840375c8",
   "metadata": {},
   "source": [
    "### Обработка аномальных значений"
   ]
  },
  {
   "cell_type": "markdown",
   "id": "1984715c",
   "metadata": {},
   "source": [
    "**Столбец `days_employed`**"
   ]
  },
  {
   "cell_type": "markdown",
   "id": "1b467240",
   "metadata": {},
   "source": [
    "Заменим все отрицательные значения в столбце `days_employed` положительными с помощью метода `abs()`."
   ]
  },
  {
   "cell_type": "code",
   "execution_count": 326,
   "id": "0f9129f8",
   "metadata": {},
   "outputs": [],
   "source": [
    "data['days_employed'] = data['days_employed'].abs()"
   ]
  },
  {
   "cell_type": "markdown",
   "id": "58c59111",
   "metadata": {},
   "source": [
    "Для каждого типа занятости выведите медианное значение трудового стажа `days_employed` в днях."
   ]
  },
  {
   "cell_type": "code",
   "execution_count": 327,
   "id": "20ce0cd6",
   "metadata": {},
   "outputs": [
    {
     "data": {
      "text/plain": [
       "income_type\n",
       "безработный        366413.652744\n",
       "в декрете            3296.759962\n",
       "госслужащий          2689.368353\n",
       "компаньон            1547.382223\n",
       "пенсионер          365213.306266\n",
       "предприниматель       520.848083\n",
       "сотрудник            1574.202821\n",
       "студент               578.751554\n",
       "Name: days_employed, dtype: float64"
      ]
     },
     "execution_count": 327,
     "metadata": {},
     "output_type": "execute_result"
    }
   ],
   "source": [
    "data.groupby('income_type')['days_employed'].agg('median')"
   ]
  },
  {
   "cell_type": "markdown",
   "id": "cdeb654f",
   "metadata": {},
   "source": [
    "У двух типов (безработные и пенсионеры) получатся аномально большие значения. Исправить такие значения сложно, поэтому оставьте их как есть. Тем более этот столбец не понадобится вам для исследования. Теперь можно заполнить пропуски медианными значениями для каждого типа занятости `income_type`."
   ]
  },
  {
   "cell_type": "code",
   "execution_count": 328,
   "id": "f983647e",
   "metadata": {},
   "outputs": [],
   "source": [
    "for t in data['income_type'].unique():\n",
    "    data.loc[(data['income_type'] == t) & (data['days_employed'].isna()), 'days_employed'] = \\\n",
    "    data.loc[(data['income_type'] == t), 'days_employed'].median()"
   ]
  },
  {
   "cell_type": "markdown",
   "id": "2d52c5c1",
   "metadata": {},
   "source": [
    "Убедимся, что все пропуски заполнены"
   ]
  },
  {
   "cell_type": "code",
   "execution_count": 329,
   "id": "97449c9d",
   "metadata": {},
   "outputs": [
    {
     "data": {
      "text/plain": [
       "children            0\n",
       "days_employed       0\n",
       "dob_years           0\n",
       "education           0\n",
       "education_id        0\n",
       "family_status       0\n",
       "family_status_id    0\n",
       "gender              0\n",
       "income_type         0\n",
       "debt                0\n",
       "total_income        0\n",
       "purpose             0\n",
       "dtype: int64"
      ]
     },
     "execution_count": 329,
     "metadata": {},
     "output_type": "execute_result"
    }
   ],
   "source": [
    "data.isna().sum()"
   ]
  },
  {
   "cell_type": "markdown",
   "id": "a4e78a91",
   "metadata": {},
   "source": [
    "**Столбец `children`**"
   ]
  },
  {
   "cell_type": "code",
   "execution_count": 330,
   "id": "cf3e6d34",
   "metadata": {},
   "outputs": [
    {
     "data": {
      "text/plain": [
       "array([ 1,  0,  3,  2, -1,  4, 20,  5], dtype=int64)"
      ]
     },
     "execution_count": 330,
     "metadata": {},
     "output_type": "execute_result"
    }
   ],
   "source": [
    "data['children'].unique()"
   ]
  },
  {
   "cell_type": "markdown",
   "id": "94ca9e73",
   "metadata": {},
   "source": [
    "В столбце children есть два аномальных значения (-1, 20). Удалим строки, в которых встречаются такие аномальные значения"
   ]
  },
  {
   "cell_type": "code",
   "execution_count": 331,
   "id": "a364f075",
   "metadata": {},
   "outputs": [
    {
     "data": {
      "text/plain": [
       "array([1, 0, 3, 2, 4, 5], dtype=int64)"
      ]
     },
     "execution_count": 331,
     "metadata": {},
     "output_type": "execute_result"
    }
   ],
   "source": [
    "data = data[(data['children'] != -1) & (data['children'] != 20)]\n",
    "data['children'].unique()"
   ]
  },
  {
   "cell_type": "markdown",
   "id": "75a6147a",
   "metadata": {},
   "source": [
    "**Столбец `gender`**"
   ]
  },
  {
   "cell_type": "code",
   "execution_count": 332,
   "id": "82a5365d",
   "metadata": {},
   "outputs": [
    {
     "data": {
      "text/plain": [
       "F      14154\n",
       "M       7247\n",
       "XNA        1\n",
       "Name: gender, dtype: int64"
      ]
     },
     "execution_count": 332,
     "metadata": {},
     "output_type": "execute_result"
    }
   ],
   "source": [
    "data['gender'].value_counts()"
   ]
  },
  {
   "cell_type": "markdown",
   "id": "a07355ab",
   "metadata": {},
   "source": [
    "Значение XNA является артефактом. Выделять эту единственную строку в отдельную категорию будет не корректно, поэтому избавимся от нее"
   ]
  },
  {
   "cell_type": "code",
   "execution_count": 333,
   "id": "3fc2239e",
   "metadata": {},
   "outputs": [
    {
     "data": {
      "text/plain": [
       "array(['F', 'M'], dtype=object)"
      ]
     },
     "execution_count": 333,
     "metadata": {},
     "output_type": "execute_result"
    }
   ],
   "source": [
    "data = data[data['gender'] != 'XNA']\n",
    "data['gender'].unique()"
   ]
  },
  {
   "cell_type": "markdown",
   "id": "0d31310c",
   "metadata": {},
   "source": [
    "**Столбец `dob_years`**"
   ]
  },
  {
   "cell_type": "code",
   "execution_count": 334,
   "id": "8e5d4e2b",
   "metadata": {},
   "outputs": [
    {
     "data": {
      "text/plain": [
       "array([42, 36, 33, 32, 53, 27, 43, 50, 35, 41, 40, 65, 54, 56, 26, 48, 24,\n",
       "       21, 57, 67, 28, 63, 62, 47, 34, 68, 25, 31, 30, 20, 49, 37, 45, 61,\n",
       "       64, 44, 52, 46, 23, 38, 39, 51,  0, 59, 29, 60, 55, 58, 71, 22, 73,\n",
       "       66, 69, 19, 72, 70, 74, 75], dtype=int64)"
      ]
     },
     "execution_count": 334,
     "metadata": {},
     "output_type": "execute_result"
    }
   ],
   "source": [
    "data['dob_years'].unique()"
   ]
  },
  {
   "cell_type": "markdown",
   "id": "73fddb98",
   "metadata": {},
   "source": [
    "Подозрение вызывает значение 0. Таким образом скорее всего были заполнены пропуски в данном столбце. Заполним их медианными значениями для каждого типа занятости `income_type`, так как в зависимоти от того пенсионер это или студент и стоит рассчитывать средний возраст."
   ]
  },
  {
   "cell_type": "code",
   "execution_count": 335,
   "id": "1551c4a2",
   "metadata": {},
   "outputs": [],
   "source": [
    "for t in data['income_type'].unique():\n",
    "    data.loc[(data['income_type'] == t) & (data['dob_years'] == 0), 'dob_years'] = \\\n",
    "    data.loc[(data['income_type'] == t), 'dob_years'].mean()"
   ]
  },
  {
   "cell_type": "code",
   "execution_count": 336,
   "id": "af6c8880",
   "metadata": {},
   "outputs": [
    {
     "data": {
      "text/plain": [
       "array([42, 36, 33, 32, 53, 27, 43, 50, 35, 41, 40, 65, 54, 56, 26, 48, 24,\n",
       "       21, 57, 67, 28, 63, 62, 47, 34, 68, 25, 31, 30, 20, 49, 37, 45, 61,\n",
       "       64, 44, 52, 46, 23, 38, 39, 51, 59, 29, 60, 55, 58, 71, 22, 73, 66,\n",
       "       69, 19, 72, 70, 74, 75])"
      ]
     },
     "execution_count": 336,
     "metadata": {},
     "output_type": "execute_result"
    }
   ],
   "source": [
    "data['dob_years'] = data['dob_years'].astype('int') # вернем столбец к типу int\n",
    "data['dob_years'].unique()"
   ]
  },
  {
   "cell_type": "markdown",
   "id": "3e44ca81",
   "metadata": {},
   "source": [
    "### Изменение типов данных"
   ]
  },
  {
   "cell_type": "markdown",
   "id": "7c5bcb96",
   "metadata": {},
   "source": [
    "Заменим вещественный тип данных в столбце `total_income` на целочисленный с помощью метода `astype()`"
   ]
  },
  {
   "cell_type": "code",
   "execution_count": 337,
   "id": "0cbd4330",
   "metadata": {},
   "outputs": [],
   "source": [
    "data['total_income'] = data['total_income'].astype(int)"
   ]
  },
  {
   "cell_type": "markdown",
   "id": "a67b2931",
   "metadata": {},
   "source": [
    "### Обработка дубликатов"
   ]
  },
  {
   "cell_type": "markdown",
   "id": "52a8bdd9",
   "metadata": {},
   "source": [
    "Обработаем неявные дубликаты в столбце education. В этом столбце есть одни и те же значения, но записанные по-разному: с использованием заглавных и строчных букв. Приведем их к нижнему регистру. Проверим остальные столбцы."
   ]
  },
  {
   "cell_type": "code",
   "execution_count": 338,
   "id": "70932e4b",
   "metadata": {},
   "outputs": [],
   "source": [
    "data['education'] = data['education'].str.lower() # приведение к нижнему регистру"
   ]
  },
  {
   "cell_type": "code",
   "execution_count": 339,
   "id": "e96da0d8",
   "metadata": {},
   "outputs": [
    {
     "data": {
      "text/plain": [
       "71"
      ]
     },
     "execution_count": 339,
     "metadata": {},
     "output_type": "execute_result"
    }
   ],
   "source": [
    "data.duplicated().sum()"
   ]
  },
  {
   "cell_type": "markdown",
   "id": "5f786aca",
   "metadata": {},
   "source": [
    "После изменения регистра в датафрэйме присутсвует 71 строка дубликатов. Избавимся от них"
   ]
  },
  {
   "cell_type": "code",
   "execution_count": 340,
   "id": "006ccf46",
   "metadata": {},
   "outputs": [],
   "source": [
    "data = data.drop_duplicates()"
   ]
  },
  {
   "cell_type": "markdown",
   "id": "7709a7f7",
   "metadata": {},
   "source": [
    "### Категоризация данных"
   ]
  },
  {
   "cell_type": "markdown",
   "id": "891141f9",
   "metadata": {},
   "source": [
    "На основании диапазонов, указанных ниже, создадим в датафрейме столбец `total_income_category` с категориями:\n",
    "- до 50000 — 'D';\n",
    "- 50001–100000 — 'C';\n",
    "- 100001–150000 — 'B';\n",
    "- 150001 и выше — 'A'."
   ]
  },
  {
   "cell_type": "code",
   "execution_count": 341,
   "id": "4821966f",
   "metadata": {},
   "outputs": [],
   "source": [
    "def categorize_income(income):\n",
    "    try:\n",
    "        if 0 <= income <= 50000:\n",
    "            return 'E'\n",
    "        elif 50001 <= income <= 100000:\n",
    "            return 'D'\n",
    "        elif 100001 <= income <= 150000:\n",
    "            return 'C'\n",
    "        elif 150001 <= income <= 250000:\n",
    "            return 'B'\n",
    "        elif income >= 250001:\n",
    "            return 'A'\n",
    "    except:\n",
    "        pass"
   ]
  },
  {
   "cell_type": "code",
   "execution_count": 342,
   "id": "dfe8f9ff",
   "metadata": {},
   "outputs": [],
   "source": [
    "data['total_income_category'] = data['total_income'].apply(categorize_income)"
   ]
  },
  {
   "cell_type": "markdown",
   "id": "a812451b",
   "metadata": {},
   "source": [
    "Выведим на экран перечень уникальных целей взятия кредита из столбца `purpose`."
   ]
  },
  {
   "cell_type": "code",
   "execution_count": 343,
   "id": "9f3fb02a",
   "metadata": {},
   "outputs": [
    {
     "data": {
      "text/plain": [
       "array(['покупка жилья', 'приобретение автомобиля',\n",
       "       'дополнительное образование', 'сыграть свадьбу',\n",
       "       'операции с жильем', 'образование', 'на проведение свадьбы',\n",
       "       'покупка жилья для семьи', 'покупка недвижимости',\n",
       "       'покупка коммерческой недвижимости', 'покупка жилой недвижимости',\n",
       "       'строительство собственной недвижимости', 'недвижимость',\n",
       "       'строительство недвижимости', 'на покупку подержанного автомобиля',\n",
       "       'на покупку своего автомобиля',\n",
       "       'операции с коммерческой недвижимостью',\n",
       "       'строительство жилой недвижимости', 'жилье',\n",
       "       'операции со своей недвижимостью', 'автомобили',\n",
       "       'заняться образованием', 'сделка с подержанным автомобилем',\n",
       "       'получение образования', 'автомобиль', 'свадьба',\n",
       "       'получение дополнительного образования', 'покупка своего жилья',\n",
       "       'операции с недвижимостью', 'получение высшего образования',\n",
       "       'свой автомобиль', 'сделка с автомобилем',\n",
       "       'профильное образование', 'высшее образование',\n",
       "       'покупка жилья для сдачи', 'на покупку автомобиля', 'ремонт жилью',\n",
       "       'заняться высшим образованием'], dtype=object)"
      ]
     },
     "execution_count": 343,
     "metadata": {},
     "output_type": "execute_result"
    }
   ],
   "source": [
    "data['purpose'].unique()"
   ]
  },
  {
   "cell_type": "markdown",
   "id": "720d6f84",
   "metadata": {},
   "source": [
    "Создадим функцию, которая на основании данных из столбца `purpose` сформирует новый столбец `purpose_category`, в который войдут следующие категории:\n",
    "\n",
    "- 'операции с автомобилем',\n",
    "- 'операции с недвижимостью',\n",
    "- 'проведение свадьбы',\n",
    "- 'получение образования'."
   ]
  },
  {
   "cell_type": "code",
   "execution_count": 344,
   "id": "62938431",
   "metadata": {},
   "outputs": [],
   "source": [
    "def categorize_purpose(row):\n",
    "    try:\n",
    "        if 'автом' in row:\n",
    "            return 'операции с автомобилем'\n",
    "        elif 'жил' in row or 'недвиж' in row:\n",
    "            return 'операции с недвижимостью'\n",
    "        elif 'свад' in row:\n",
    "            return 'проведение свадьбы'\n",
    "        elif 'образов' in row:\n",
    "            return 'получение образования'\n",
    "    except:\n",
    "        return 'нет категории'"
   ]
  },
  {
   "cell_type": "code",
   "execution_count": 345,
   "id": "af2e495b",
   "metadata": {},
   "outputs": [],
   "source": [
    "data['purpose_category'] = data['purpose'].apply(categorize_purpose)"
   ]
  },
  {
   "cell_type": "markdown",
   "id": "4fc583a1",
   "metadata": {},
   "source": [
    "**В результате предобработки:**\n",
    "- избавились от аномальных значений в столбцах `days_employed`, `children` и `gender`,\n",
    "- заполнены пропуски в столбцах `days_employed` и `total_income` медианным значением по каждому типу из столбца `income_type`,\n",
    "- заполнены нули в столбцах `dob_days` средним значением по каждому типу из столбца `income_type`,\n",
    "- изменен вещественный тип данных в столбце `total_income` на целочисленный,\n",
    "- удалены дубликаты в столбце `education`,\n",
    "- добавлены новые с толбцы с категориями на основании столбцов `total_income` и `purpose`."
   ]
  },
  {
   "cell_type": "markdown",
   "id": "1cd2c3ad",
   "metadata": {},
   "source": [
    "## 3. Исследовательский анализ данных"
   ]
  },
  {
   "cell_type": "markdown",
   "id": "ad54ff12",
   "metadata": {},
   "source": [
    "**Есть ли зависимость между количеством детей и возвратом кредита в срок?**"
   ]
  },
  {
   "cell_type": "code",
   "execution_count": 346,
   "id": "ac567a69",
   "metadata": {},
   "outputs": [
    {
     "data": {
      "text/plain": [
       "0    14090\n",
       "1     4808\n",
       "2     2052\n",
       "3      330\n",
       "4       41\n",
       "5        9\n",
       "Name: children, dtype: int64"
      ]
     },
     "execution_count": 346,
     "metadata": {},
     "output_type": "execute_result"
    }
   ],
   "source": [
    "data['children'].value_counts()"
   ]
  },
  {
   "cell_type": "markdown",
   "id": "1a6d8413",
   "metadata": {},
   "source": [
    "Больше половины выборки - бездетные. А количество тех, кто имеет 3, 4 и 5 детей и вовсе меньше 2% от всей выборки, что не сопостовимо мало, поэтому анализ каждой из них поотдельности не принесет достоверных результатов. Поэтому целесообразнее разбить на группы: бездетные, один ребенок и многодетные."
   ]
  },
  {
   "cell_type": "code",
   "execution_count": 347,
   "id": "387edc97",
   "metadata": {},
   "outputs": [],
   "source": [
    "def categorize_children(c): # функция которая присвоит категорию в зависимости от количества детей\n",
    "    if c == 0:\n",
    "        return 'бездетный'\n",
    "    if c == 1:\n",
    "        return 'один ребенок'\n",
    "    return 'многодетные'"
   ]
  },
  {
   "cell_type": "code",
   "execution_count": 348,
   "id": "6d482558",
   "metadata": {},
   "outputs": [
    {
     "data": {
      "image/png": "[encoded data removed]",
      "text/plain": [
       "<Figure size 432x288 with 1 Axes>"
      ]
     },
     "metadata": {
      "needs_background": "light"
     },
     "output_type": "display_data"
    }
   ],
   "source": [
    "data['children_category'] = data['children'].apply(categorize_children) #добавим новый столбец с категорией\n",
    "debt_by_children = data.groupby('children_category')['debt'].mean()#считаем долю не вернувших кредит в срок по группам\n",
    "sb.barplot(x=debt_by_children, y=debt_by_children.keys());#строим по полученным данным диаграмму"
   ]
  },
  {
   "cell_type": "markdown",
   "id": "08f44c22",
   "metadata": {},
   "source": [
    "**Вывод:** Зависимость между количеством детей и возврата кредита в срок не прослеживается. Но очевидна зависимость между наличием детей и возвратом кредита в срок: бездетные реже имеют просрочки по кредиту."
   ]
  },
  {
   "cell_type": "markdown",
   "id": "13c292d9",
   "metadata": {},
   "source": [
    "**Есть ли зависимость между семейным положением и возвратом кредита в срок?**"
   ]
  },
  {
   "cell_type": "code",
   "execution_count": 349,
   "id": "5915eeab",
   "metadata": {},
   "outputs": [
    {
     "data": {
      "text/plain": [
       "женат / замужем          12261\n",
       "гражданский брак          4133\n",
       "Не женат / не замужем     2796\n",
       "в разводе                 1189\n",
       "вдовец / вдова             951\n",
       "Name: family_status, dtype: int64"
      ]
     },
     "execution_count": 349,
     "metadata": {},
     "output_type": "execute_result"
    }
   ],
   "source": [
    "data['family_status'].value_counts()"
   ]
  },
  {
   "cell_type": "code",
   "execution_count": 350,
   "id": "201550eb",
   "metadata": {},
   "outputs": [
    {
     "data": {
      "image/png": "[encoded data removed]",
      "text/plain": [
       "<Figure size 432x288 with 1 Axes>"
      ]
     },
     "metadata": {
      "needs_background": "light"
     },
     "output_type": "display_data"
    }
   ],
   "source": [
    "debt_by_family_st = data.groupby('family_status')['debt'].mean() #считаем долю задолжников в группах по семейному положению\n",
    "sb.barplot(x=debt_by_family_st, y=debt_by_family_st.keys()); #строим по полученным данным диаграмму"
   ]
  },
  {
   "cell_type": "markdown",
   "id": "e97e6e76",
   "metadata": {},
   "source": [
    "**Вывод:** По графику можно заметить, что задолжники чаще встречаются среди тех, кто не состоит\\не состоял в официальном браке, т.е. не женат/не замужем или состоят в гражданском браке (больше 9% имеют задолженности по кредиту). Есть предположение, что наиболее надежные заемщики вдовцы\\вдовы, но возможно это свзяно с тем что статистики по ним меньше чем по всемостальным группам. Утверждать, что есть зависимость между семейным положением и возвратом кредита в срок нельзя. "
   ]
  },
  {
   "cell_type": "markdown",
   "id": "bc260966",
   "metadata": {},
   "source": [
    "**Есть ли зависимость между уровнем дохода и возвратом кредита в срок?**"
   ]
  },
  {
   "cell_type": "code",
   "execution_count": 351,
   "id": "5b2e6dd4",
   "metadata": {},
   "outputs": [
    {
     "data": {
      "text/plain": [
       "C    7110\n",
       "B    6979\n",
       "D    4073\n",
       "A    2797\n",
       "E     371\n",
       "Name: total_income_category, dtype: int64"
      ]
     },
     "execution_count": 351,
     "metadata": {},
     "output_type": "execute_result"
    }
   ],
   "source": [
    "data['total_income_category'].value_counts()"
   ]
  },
  {
   "cell_type": "code",
   "execution_count": 352,
   "id": "a9455475",
   "metadata": {},
   "outputs": [
    {
     "data": {
      "image/png": "[encoded data removed]",
      "text/plain": [
       "<Figure size 432x288 with 1 Axes>"
      ]
     },
     "metadata": {
      "needs_background": "light"
     },
     "output_type": "display_data"
    }
   ],
   "source": [
    "debt_by_total_income = data.groupby('total_income_category')['debt'].mean() #считаем долю задолжников в группах по доходу\n",
    "sb.barplot(x=debt_by_total_income.keys(), y=debt_by_total_income); # строим диаграмму"
   ]
  },
  {
   "cell_type": "markdown",
   "id": "c43a0a4c",
   "metadata": {},
   "source": [
    "**Вывод:** Зависимости между уровнем дохода и возвратом кредита в срок нет. Наиболее надажные заемщики (как ни странно) с доходом менее 50 тыс.р. Самый высокий процент (почти 9%) должников в группе с доходом 100 - 150 тыс.р."
   ]
  },
  {
   "cell_type": "markdown",
   "id": "2001b8de",
   "metadata": {},
   "source": [
    "**Как разные цели кредита влияют на его возврат в срок?**"
   ]
  },
  {
   "cell_type": "code",
   "execution_count": 353,
   "id": "1900c5f5",
   "metadata": {},
   "outputs": [
    {
     "data": {
      "text/plain": [
       "операции с недвижимостью    10750\n",
       "операции с автомобилем       4279\n",
       "получение образования        3988\n",
       "проведение свадьбы           2313\n",
       "Name: purpose_category, dtype: int64"
      ]
     },
     "execution_count": 353,
     "metadata": {},
     "output_type": "execute_result"
    }
   ],
   "source": [
    "data['purpose_category'].value_counts()"
   ]
  },
  {
   "cell_type": "code",
   "execution_count": 354,
   "id": "6f253f98",
   "metadata": {},
   "outputs": [
    {
     "data": {
      "image/png": "[encoded data removed]",
      "text/plain": [
       "<Figure size 432x288 with 1 Axes>"
      ]
     },
     "metadata": {
      "needs_background": "light"
     },
     "output_type": "display_data"
    }
   ],
   "source": [
    "debt_by_purpose_category = data.groupby('purpose_category')['debt'].mean() #считаем долю задолжников в группах по целям\n",
    "sb.barplot(x=debt_by_purpose_category, y=debt_by_purpose_category.keys()); # строим диаграмму"
   ]
  },
  {
   "cell_type": "markdown",
   "id": "389736f4",
   "metadata": {},
   "source": [
    "**Вывод:** Задолжники чаще встречаются среди тех кто взял кредит на автомобиль или обучение."
   ]
  },
  {
   "cell_type": "markdown",
   "id": "2126e9cb",
   "metadata": {},
   "source": [
    "**Как возраст заемщика влияет на его возврат в срок?**"
   ]
  },
  {
   "cell_type": "markdown",
   "id": "d65c60c6",
   "metadata": {},
   "source": [
    "Разобьем всех заемщиков на группы по возрасту:\n",
    "- до 35 лет\n",
    "- от 35 до 50\n",
    "- от 50"
   ]
  },
  {
   "cell_type": "code",
   "execution_count": 355,
   "id": "7711dc66",
   "metadata": {},
   "outputs": [],
   "source": [
    "def years_categorize(years): \n",
    "    if years <= 35:\n",
    "        return 'до 35'\n",
    "    if 36 <= years <= 50:\n",
    "        return 'от 35 до 50'\n",
    "    return 'старше 50'"
   ]
  },
  {
   "cell_type": "code",
   "execution_count": 356,
   "id": "26f32269",
   "metadata": {},
   "outputs": [],
   "source": [
    "data['years_category'] = data['dob_years'].apply(years_categorize)"
   ]
  },
  {
   "cell_type": "code",
   "execution_count": 357,
   "id": "23848597",
   "metadata": {},
   "outputs": [
    {
     "data": {
      "text/plain": [
       "от 35 до 50    8153\n",
       "старше 50      6634\n",
       "до 35          6543\n",
       "Name: years_category, dtype: int64"
      ]
     },
     "execution_count": 357,
     "metadata": {},
     "output_type": "execute_result"
    }
   ],
   "source": [
    "data['years_category'].value_counts()"
   ]
  },
  {
   "cell_type": "code",
   "execution_count": 358,
   "id": "12f65815",
   "metadata": {},
   "outputs": [
    {
     "data": {
      "image/png": "[encoded data removed]",
      "text/plain": [
       "<Figure size 432x288 with 1 Axes>"
      ]
     },
     "metadata": {
      "needs_background": "light"
     },
     "output_type": "display_data"
    }
   ],
   "source": [
    "debt_by_years = data.groupby('years_category')['debt'].mean() \n",
    "sb.barplot(x=debt_by_years, y=debt_by_years.keys()); # строим диаграмму"
   ]
  },
  {
   "cell_type": "code",
   "execution_count": 359,
   "id": "59129b87",
   "metadata": {},
   "outputs": [
    {
     "data": {
      "image/png": "[encoded data removed]",
      "text/plain": [
       "<Figure size 432x288 with 1 Axes>"
      ]
     },
     "metadata": {
      "needs_background": "light"
     },
     "output_type": "display_data"
    }
   ],
   "source": [
    "debt = data.groupby('dob_years')['debt'].mean()\n",
    "sb.lineplot(data=debt);"
   ]
  },
  {
   "cell_type": "markdown",
   "id": "7840eebd",
   "metadata": {},
   "source": [
    "Нисходящая тенденция оцевидна. Прослеживается четкая зависимость чем старше человек, тем ниже вероятность того, что у него будут просрочки по кредиту."
   ]
  },
  {
   "cell_type": "markdown",
   "id": "88124720",
   "metadata": {},
   "source": [
    "**Вывод:** Присутсвует зависимость между возрастом заемщика и возвратом кредита в срок. Чем младше человек, тем выше вероятность, что он не вернет кредит в срок."
   ]
  },
  {
   "cell_type": "markdown",
   "id": "cf16401d",
   "metadata": {},
   "source": [
    "Теперь посмотрим какой процент задолжников в группах сразу по двум критериям, которые как установлено влияют на возврат кредита в срок - возраст и цель."
   ]
  },
  {
   "cell_type": "code",
   "execution_count": 360,
   "id": "25b020bd",
   "metadata": {},
   "outputs": [
    {
     "data": {
      "text/html": [
       "<div>\n",
       "<style scoped>\n",
       "    .dataframe tbody tr th:only-of-type {\n",
       "        vertical-align: middle;\n",
       "    }\n",
       "\n",
       "    .dataframe tbody tr th {\n",
       "        vertical-align: top;\n",
       "    }\n",
       "\n",
       "    .dataframe thead tr th {\n",
       "        text-align: left;\n",
       "    }\n",
       "</style>\n",
       "<table border=\"1\" class=\"dataframe\">\n",
       "  <thead>\n",
       "    <tr>\n",
       "      <th></th>\n",
       "      <th>years_category</th>\n",
       "      <th>purpose_category</th>\n",
       "      <th colspan=\"2\" halign=\"left\">debt</th>\n",
       "    </tr>\n",
       "    <tr>\n",
       "      <th></th>\n",
       "      <th></th>\n",
       "      <th></th>\n",
       "      <th>mean</th>\n",
       "      <th>count</th>\n",
       "    </tr>\n",
       "  </thead>\n",
       "  <tbody>\n",
       "    <tr>\n",
       "      <th>2</th>\n",
       "      <td>до 35</td>\n",
       "      <td>получение образования</td>\n",
       "      <td>0.128351</td>\n",
       "      <td>1231</td>\n",
       "    </tr>\n",
       "    <tr>\n",
       "      <th>0</th>\n",
       "      <td>до 35</td>\n",
       "      <td>операции с автомобилем</td>\n",
       "      <td>0.126860</td>\n",
       "      <td>1277</td>\n",
       "    </tr>\n",
       "    <tr>\n",
       "      <th>1</th>\n",
       "      <td>до 35</td>\n",
       "      <td>операции с недвижимостью</td>\n",
       "      <td>0.093297</td>\n",
       "      <td>3312</td>\n",
       "    </tr>\n",
       "    <tr>\n",
       "      <th>4</th>\n",
       "      <td>от 35 до 50</td>\n",
       "      <td>операции с автомобилем</td>\n",
       "      <td>0.091296</td>\n",
       "      <td>1643</td>\n",
       "    </tr>\n",
       "    <tr>\n",
       "      <th>3</th>\n",
       "      <td>до 35</td>\n",
       "      <td>проведение свадьбы</td>\n",
       "      <td>0.091286</td>\n",
       "      <td>723</td>\n",
       "    </tr>\n",
       "    <tr>\n",
       "      <th>6</th>\n",
       "      <td>от 35 до 50</td>\n",
       "      <td>получение образования</td>\n",
       "      <td>0.086635</td>\n",
       "      <td>1489</td>\n",
       "    </tr>\n",
       "    <tr>\n",
       "      <th>7</th>\n",
       "      <td>от 35 до 50</td>\n",
       "      <td>проведение свадьбы</td>\n",
       "      <td>0.086108</td>\n",
       "      <td>871</td>\n",
       "    </tr>\n",
       "    <tr>\n",
       "      <th>5</th>\n",
       "      <td>от 35 до 50</td>\n",
       "      <td>операции с недвижимостью</td>\n",
       "      <td>0.072771</td>\n",
       "      <td>4150</td>\n",
       "    </tr>\n",
       "    <tr>\n",
       "      <th>8</th>\n",
       "      <td>старше 50</td>\n",
       "      <td>операции с автомобилем</td>\n",
       "      <td>0.064753</td>\n",
       "      <td>1359</td>\n",
       "    </tr>\n",
       "    <tr>\n",
       "      <th>10</th>\n",
       "      <td>старше 50</td>\n",
       "      <td>получение образования</td>\n",
       "      <td>0.064669</td>\n",
       "      <td>1268</td>\n",
       "    </tr>\n",
       "  </tbody>\n",
       "</table>\n",
       "</div>"
      ],
      "text/plain": [
       "   years_category          purpose_category      debt      \n",
       "                                                 mean count\n",
       "2           до 35     получение образования  0.128351  1231\n",
       "0           до 35    операции с автомобилем  0.126860  1277\n",
       "1           до 35  операции с недвижимостью  0.093297  3312\n",
       "4     от 35 до 50    операции с автомобилем  0.091296  1643\n",
       "3           до 35        проведение свадьбы  0.091286   723\n",
       "6     от 35 до 50     получение образования  0.086635  1489\n",
       "7     от 35 до 50        проведение свадьбы  0.086108   871\n",
       "5     от 35 до 50  операции с недвижимостью  0.072771  4150\n",
       "8       старше 50    операции с автомобилем  0.064753  1359\n",
       "10      старше 50     получение образования  0.064669  1268"
      ]
     },
     "execution_count": 360,
     "metadata": {},
     "output_type": "execute_result"
    }
   ],
   "source": [
    "data.groupby(['years_category', 'purpose_category'])\\\n",
    ".agg({'debt':['mean', 'count']}).reset_index().sort_values(by=('debt','mean'), ascending=False)[:10]"
   ]
  },
  {
   "cell_type": "markdown",
   "id": "c5a04102",
   "metadata": {},
   "source": [
    "**Вывод:** Вот тут четко прослеживается, что самый восокий процент должников среди молодых людей, которые берут кредит на автомобиль и образование. Каждый восьмой имеет задолженность по кредиту."
   ]
  },
  {
   "cell_type": "markdown",
   "id": "7ae4892c",
   "metadata": {},
   "source": [
    "## 4. Общий вывод"
   ]
  },
  {
   "cell_type": "markdown",
   "id": "8bd1ba90",
   "metadata": {},
   "source": [
    "В процессе анализа было исследовано влияние следующих критериев на возврат кредита в срок:\n",
    "- **Количество детей**. Зависимость между количеством детей и возврата кредита в срок не прослеживается. Но очевидна зависимость между наличием детей и возвратом кредита в срок: бездетные реже имеют просрочки по кредиту.\n",
    "- **Семейное положение**. Задолжники чаще встречаются среди тех, кто не состоит\\не состоял в официальном браке, т.е. не женат/не замужем или состоят в гражданском браке (больше 9% имеют задолженности по кредиту). Есть предположение, что наиболее надежные заемщики вдовцы\\вдовы, но возможно это свзяно с тем что статистики по ним меньше чем по всемостальным группам. Утверждать, что есть зависимость между семейным положением и возвратом кредита в срок нельзя. \n",
    "- **Уровень дохода**. Зависимости между уровнем дохода и возвратом кредита в срок не выявлено. Наиболее надажные заемщики (как ни странно) с доходом менее 50 тыс.р. Самый высокий процент (почти 9%) должников в группе с доходом 100 - 150 тыс.р.\n",
    "- **Цель кредита**. Задолжники чаще встречаются среди тех кто взял кредит на автомобиль или обучение.\n",
    "- **Возраст заемщика**. Присутсвует зависимость между возрастом заемщика и возвратом кредита в срок. Чем младше человек, тем выше вероятность, что он не вернет кредит в срок.\n",
    "\n",
    "**Группа риска - молодые люди , которые берут кредит на автомобиль или оброзование.**"
   ]
  }
 ],
 "metadata": {
  "kernelspec": {
   "display_name": "Python 3 (ipykernel)",
   "language": "python",
   "name": "python3"
  },
  "language_info": {
   "codemirror_mode": {
    "name": "ipython",
    "version": 3
   },
   "file_extension": ".py",
   "mimetype": "text/x-python",
   "name": "python",
   "nbconvert_exporter": "python",
   "pygments_lexer": "ipython3",
   "version": "3.9.12"
  }
 },
 "nbformat": 4,
 "nbformat_minor": 5
}
