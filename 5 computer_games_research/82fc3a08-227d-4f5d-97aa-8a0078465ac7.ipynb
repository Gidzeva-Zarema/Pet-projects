{
 "cells": [
  {
   "cell_type": "markdown",
   "metadata": {},
   "source": [
    "# Исследование данных о продажах игр\n",
    "Из открытых источников доступны исторические данные о продажах игр, оценки пользователей и экспертов, жанры и платформы. Необходимо выявить определяющие успешность игры закономерности. Это позволит сделать ставку на потенциально популярный продукт и спланировать рекламные кампании. "
   ]
  },
  {
   "cell_type": "markdown",
   "metadata": {},
   "source": [
    "## Описание данных\n",
    "Name — название игры\\\n",
    "Platform — платформа\\\n",
    "Year_of_Release — год выпуска\\\n",
    "Genre — жанр игры\\\n",
    "NA_sales — продажи в Северной Америке (миллионы проданных копий)\\\n",
    "EU_sales — продажи в Европе (миллионы проданных копий)\\\n",
    "JP_sales — продажи в Японии (миллионы проданных копий)\\\n",
    "Other_sales — продажи в других странах (миллионы проданных копий)\\\n",
    "Critic_Score — оценка критиков (максимум 100)\\\n",
    "User_Score — оценка пользователей (максимум 10)\\\n",
    "Rating — рейтинг от организации ESRB (англ. Entertainment Software Rating Board). Эта ассоциация определяет рейтинг компьютерных игр и присваивает им подходящую возрастную категорию."
   ]
  },
  {
   "cell_type": "markdown",
   "metadata": {},
   "source": [
    "## Шаг 1. Знакомство с данными"
   ]
  },
  {
   "cell_type": "code",
   "execution_count": 97,
   "metadata": {},
   "outputs": [],
   "source": [
    "import pandas as pd\n",
    "import numpy as np\n",
    "import matplotlib.pyplot as plt\n",
    "import seaborn as sns\n",
    "from scipy import stats as st"
   ]
  },
  {
   "cell_type": "code",
   "execution_count": 98,
   "metadata": {},
   "outputs": [
    {
     "data": {
      "text/html": [
       "<div>\n",
       "<style scoped>\n",
       "    .dataframe tbody tr th:only-of-type {\n",
       "        vertical-align: middle;\n",
       "    }\n",
       "\n",
       "    .dataframe tbody tr th {\n",
       "        vertical-align: top;\n",
       "    }\n",
       "\n",
       "    .dataframe thead th {\n",
       "        text-align: right;\n",
       "    }\n",
       "</style>\n",
       "<table border=\"1\" class=\"dataframe\">\n",
       "  <thead>\n",
       "    <tr style=\"text-align: right;\">\n",
       "      <th></th>\n",
       "      <th>Name</th>\n",
       "      <th>Platform</th>\n",
       "      <th>Year_of_Release</th>\n",
       "      <th>Genre</th>\n",
       "      <th>NA_sales</th>\n",
       "      <th>EU_sales</th>\n",
       "      <th>JP_sales</th>\n",
       "      <th>Other_sales</th>\n",
       "      <th>Critic_Score</th>\n",
       "      <th>User_Score</th>\n",
       "      <th>Rating</th>\n",
       "    </tr>\n",
       "  </thead>\n",
       "  <tbody>\n",
       "    <tr>\n",
       "      <th>0</th>\n",
       "      <td>Wii Sports</td>\n",
       "      <td>Wii</td>\n",
       "      <td>2006.0</td>\n",
       "      <td>Sports</td>\n",
       "      <td>41.36</td>\n",
       "      <td>28.96</td>\n",
       "      <td>3.77</td>\n",
       "      <td>8.45</td>\n",
       "      <td>76.0</td>\n",
       "      <td>8</td>\n",
       "      <td>E</td>\n",
       "    </tr>\n",
       "    <tr>\n",
       "      <th>1</th>\n",
       "      <td>Super Mario Bros.</td>\n",
       "      <td>NES</td>\n",
       "      <td>1985.0</td>\n",
       "      <td>Platform</td>\n",
       "      <td>29.08</td>\n",
       "      <td>3.58</td>\n",
       "      <td>6.81</td>\n",
       "      <td>0.77</td>\n",
       "      <td>NaN</td>\n",
       "      <td>NaN</td>\n",
       "      <td>NaN</td>\n",
       "    </tr>\n",
       "    <tr>\n",
       "      <th>2</th>\n",
       "      <td>Mario Kart Wii</td>\n",
       "      <td>Wii</td>\n",
       "      <td>2008.0</td>\n",
       "      <td>Racing</td>\n",
       "      <td>15.68</td>\n",
       "      <td>12.76</td>\n",
       "      <td>3.79</td>\n",
       "      <td>3.29</td>\n",
       "      <td>82.0</td>\n",
       "      <td>8.3</td>\n",
       "      <td>E</td>\n",
       "    </tr>\n",
       "    <tr>\n",
       "      <th>3</th>\n",
       "      <td>Wii Sports Resort</td>\n",
       "      <td>Wii</td>\n",
       "      <td>2009.0</td>\n",
       "      <td>Sports</td>\n",
       "      <td>15.61</td>\n",
       "      <td>10.93</td>\n",
       "      <td>3.28</td>\n",
       "      <td>2.95</td>\n",
       "      <td>80.0</td>\n",
       "      <td>8</td>\n",
       "      <td>E</td>\n",
       "    </tr>\n",
       "    <tr>\n",
       "      <th>4</th>\n",
       "      <td>Pokemon Red/Pokemon Blue</td>\n",
       "      <td>GB</td>\n",
       "      <td>1996.0</td>\n",
       "      <td>Role-Playing</td>\n",
       "      <td>11.27</td>\n",
       "      <td>8.89</td>\n",
       "      <td>10.22</td>\n",
       "      <td>1.00</td>\n",
       "      <td>NaN</td>\n",
       "      <td>NaN</td>\n",
       "      <td>NaN</td>\n",
       "    </tr>\n",
       "  </tbody>\n",
       "</table>\n",
       "</div>"
      ],
      "text/plain": [
       "                       Name Platform  Year_of_Release         Genre  NA_sales  \\\n",
       "0                Wii Sports      Wii           2006.0        Sports     41.36   \n",
       "1         Super Mario Bros.      NES           1985.0      Platform     29.08   \n",
       "2            Mario Kart Wii      Wii           2008.0        Racing     15.68   \n",
       "3         Wii Sports Resort      Wii           2009.0        Sports     15.61   \n",
       "4  Pokemon Red/Pokemon Blue       GB           1996.0  Role-Playing     11.27   \n",
       "\n",
       "   EU_sales  JP_sales  Other_sales  Critic_Score User_Score Rating  \n",
       "0     28.96      3.77         8.45          76.0          8      E  \n",
       "1      3.58      6.81         0.77           NaN        NaN    NaN  \n",
       "2     12.76      3.79         3.29          82.0        8.3      E  \n",
       "3     10.93      3.28         2.95          80.0          8      E  \n",
       "4      8.89     10.22         1.00           NaN        NaN    NaN  "
      ]
     },
     "execution_count": 98,
     "metadata": {},
     "output_type": "execute_result"
    }
   ],
   "source": [
    "data = pd.read_csv('/datasets/games.csv')\n",
    "old_data = data\n",
    "data.head()"
   ]
  },
  {
   "cell_type": "code",
   "execution_count": 99,
   "metadata": {},
   "outputs": [
    {
     "name": "stdout",
     "output_type": "stream",
     "text": [
      "<class 'pandas.core.frame.DataFrame'>\n",
      "RangeIndex: 16715 entries, 0 to 16714\n",
      "Data columns (total 11 columns):\n",
      " #   Column           Non-Null Count  Dtype  \n",
      "---  ------           --------------  -----  \n",
      " 0   Name             16713 non-null  object \n",
      " 1   Platform         16715 non-null  object \n",
      " 2   Year_of_Release  16446 non-null  float64\n",
      " 3   Genre            16713 non-null  object \n",
      " 4   NA_sales         16715 non-null  float64\n",
      " 5   EU_sales         16715 non-null  float64\n",
      " 6   JP_sales         16715 non-null  float64\n",
      " 7   Other_sales      16715 non-null  float64\n",
      " 8   Critic_Score     8137 non-null   float64\n",
      " 9   User_Score       10014 non-null  object \n",
      " 10  Rating           9949 non-null   object \n",
      "dtypes: float64(6), object(5)\n",
      "memory usage: 1.4+ MB\n"
     ]
    }
   ],
   "source": [
    "data.info()"
   ]
  },
  {
   "cell_type": "markdown",
   "metadata": {},
   "source": [
    "В столбцах Name, Year_of_Release, Genre, Critic_Score, User_Score, Rating присутсвуют пропуски. У столбцов Year_of_Release и User_Score установлены не верные типы данных. Исправим это на этапе предобработки."
   ]
  },
  {
   "cell_type": "code",
   "execution_count": 100,
   "metadata": {},
   "outputs": [
    {
     "data": {
      "image/png": "[encoded data removed]",
      "text/plain": [
       "<Figure size 1080x1440 with 6 Axes>"
      ]
     },
     "metadata": {
      "needs_background": "light"
     },
     "output_type": "display_data"
    }
   ],
   "source": [
    "data.hist(figsize=(15, 20));"
   ]
  },
  {
   "cell_type": "markdown",
   "metadata": {},
   "source": [
    "В столбцах с продажами очевидно присутсвуют выбросы."
   ]
  },
  {
   "cell_type": "code",
   "execution_count": 101,
   "metadata": {},
   "outputs": [
    {
     "data": {
      "text/plain": [
       "0"
      ]
     },
     "execution_count": 101,
     "metadata": {},
     "output_type": "execute_result"
    }
   ],
   "source": [
    "data.duplicated().sum()"
   ]
  },
  {
   "cell_type": "markdown",
   "metadata": {},
   "source": [
    "Явные дубликаты отсутствуют"
   ]
  },
  {
   "cell_type": "markdown",
   "metadata": {},
   "source": [
    "## Шаг 2. Предобработка данных"
   ]
  },
  {
   "cell_type": "markdown",
   "metadata": {},
   "source": [
    "### Приведение названий столбцов к змеиному регистру"
   ]
  },
  {
   "cell_type": "code",
   "execution_count": 102,
   "metadata": {},
   "outputs": [
    {
     "data": {
      "text/html": [
       "<div>\n",
       "<style scoped>\n",
       "    .dataframe tbody tr th:only-of-type {\n",
       "        vertical-align: middle;\n",
       "    }\n",
       "\n",
       "    .dataframe tbody tr th {\n",
       "        vertical-align: top;\n",
       "    }\n",
       "\n",
       "    .dataframe thead th {\n",
       "        text-align: right;\n",
       "    }\n",
       "</style>\n",
       "<table border=\"1\" class=\"dataframe\">\n",
       "  <thead>\n",
       "    <tr style=\"text-align: right;\">\n",
       "      <th></th>\n",
       "      <th>name</th>\n",
       "      <th>platform</th>\n",
       "      <th>year_of_release</th>\n",
       "      <th>genre</th>\n",
       "      <th>na_sales</th>\n",
       "      <th>eu_sales</th>\n",
       "      <th>jp_sales</th>\n",
       "      <th>other_sales</th>\n",
       "      <th>critic_score</th>\n",
       "      <th>user_score</th>\n",
       "      <th>rating</th>\n",
       "    </tr>\n",
       "  </thead>\n",
       "  <tbody>\n",
       "    <tr>\n",
       "      <th>0</th>\n",
       "      <td>Wii Sports</td>\n",
       "      <td>Wii</td>\n",
       "      <td>2006.0</td>\n",
       "      <td>Sports</td>\n",
       "      <td>41.36</td>\n",
       "      <td>28.96</td>\n",
       "      <td>3.77</td>\n",
       "      <td>8.45</td>\n",
       "      <td>76.0</td>\n",
       "      <td>8</td>\n",
       "      <td>E</td>\n",
       "    </tr>\n",
       "    <tr>\n",
       "      <th>1</th>\n",
       "      <td>Super Mario Bros.</td>\n",
       "      <td>NES</td>\n",
       "      <td>1985.0</td>\n",
       "      <td>Platform</td>\n",
       "      <td>29.08</td>\n",
       "      <td>3.58</td>\n",
       "      <td>6.81</td>\n",
       "      <td>0.77</td>\n",
       "      <td>NaN</td>\n",
       "      <td>NaN</td>\n",
       "      <td>NaN</td>\n",
       "    </tr>\n",
       "    <tr>\n",
       "      <th>2</th>\n",
       "      <td>Mario Kart Wii</td>\n",
       "      <td>Wii</td>\n",
       "      <td>2008.0</td>\n",
       "      <td>Racing</td>\n",
       "      <td>15.68</td>\n",
       "      <td>12.76</td>\n",
       "      <td>3.79</td>\n",
       "      <td>3.29</td>\n",
       "      <td>82.0</td>\n",
       "      <td>8.3</td>\n",
       "      <td>E</td>\n",
       "    </tr>\n",
       "    <tr>\n",
       "      <th>3</th>\n",
       "      <td>Wii Sports Resort</td>\n",
       "      <td>Wii</td>\n",
       "      <td>2009.0</td>\n",
       "      <td>Sports</td>\n",
       "      <td>15.61</td>\n",
       "      <td>10.93</td>\n",
       "      <td>3.28</td>\n",
       "      <td>2.95</td>\n",
       "      <td>80.0</td>\n",
       "      <td>8</td>\n",
       "      <td>E</td>\n",
       "    </tr>\n",
       "    <tr>\n",
       "      <th>4</th>\n",
       "      <td>Pokemon Red/Pokemon Blue</td>\n",
       "      <td>GB</td>\n",
       "      <td>1996.0</td>\n",
       "      <td>Role-Playing</td>\n",
       "      <td>11.27</td>\n",
       "      <td>8.89</td>\n",
       "      <td>10.22</td>\n",
       "      <td>1.00</td>\n",
       "      <td>NaN</td>\n",
       "      <td>NaN</td>\n",
       "      <td>NaN</td>\n",
       "    </tr>\n",
       "  </tbody>\n",
       "</table>\n",
       "</div>"
      ],
      "text/plain": [
       "                       name platform  year_of_release         genre  na_sales  \\\n",
       "0                Wii Sports      Wii           2006.0        Sports     41.36   \n",
       "1         Super Mario Bros.      NES           1985.0      Platform     29.08   \n",
       "2            Mario Kart Wii      Wii           2008.0        Racing     15.68   \n",
       "3         Wii Sports Resort      Wii           2009.0        Sports     15.61   \n",
       "4  Pokemon Red/Pokemon Blue       GB           1996.0  Role-Playing     11.27   \n",
       "\n",
       "   eu_sales  jp_sales  other_sales  critic_score user_score rating  \n",
       "0     28.96      3.77         8.45          76.0          8      E  \n",
       "1      3.58      6.81         0.77           NaN        NaN    NaN  \n",
       "2     12.76      3.79         3.29          82.0        8.3      E  \n",
       "3     10.93      3.28         2.95          80.0          8      E  \n",
       "4      8.89     10.22         1.00           NaN        NaN    NaN  "
      ]
     },
     "execution_count": 102,
     "metadata": {},
     "output_type": "execute_result"
    }
   ],
   "source": [
    "columns = data.columns # вытащим названия столбцов\n",
    "new_columns = {} # подготовим словарь для новых названий столбцов\n",
    "for column in columns: # в цикле пройдем по всем столбцам\n",
    "    new_columns[column] = column.lower() # и добавим в словарь пары старое название - новое название в змеином регистре  \n",
    "data = data.rename(columns=new_columns) # переименуем столбцы\n",
    "data.head()"
   ]
  },
  {
   "cell_type": "markdown",
   "metadata": {},
   "source": [
    "### Преобразование типов данных"
   ]
  },
  {
   "cell_type": "markdown",
   "metadata": {},
   "source": [
    "Выполним следующие преобразования:\n",
    "1. year_of_release приведем к целочисленному типу\n",
    "2. user_score приведем к вещественному типу"
   ]
  },
  {
   "cell_type": "code",
   "execution_count": 103,
   "metadata": {},
   "outputs": [
    {
     "data": {
      "text/plain": [
       "array([2006., 1985., 2008., 2009., 1996., 1989., 1984., 2005., 1999.,\n",
       "       2007., 2010., 2013., 2004., 1990., 1988., 2002., 2001., 2011.,\n",
       "       1998., 2015., 2012., 2014., 1992., 1997., 1993., 1994., 1982.,\n",
       "       2016., 2003., 1986., 2000.,   nan, 1995., 1991., 1981., 1987.,\n",
       "       1980., 1983.])"
      ]
     },
     "execution_count": 103,
     "metadata": {},
     "output_type": "execute_result"
    }
   ],
   "source": [
    "data['year_of_release'].unique() # посмотрим какие значения встречаются столбце year_of_release"
   ]
  },
  {
   "cell_type": "markdown",
   "metadata": {},
   "source": [
    "Вещественных чисел нет, но присутсвуют пропуски, которые помешают при замене типа на целочисленный. Так как в дальнейшем необходимо будет рассматривать данные в разрезе по годам, то строки с отсутвующей информацие о годе выпуска будут бесполезны. Избавимся от них."
   ]
  },
  {
   "cell_type": "code",
   "execution_count": 104,
   "metadata": {
    "scrolled": true
   },
   "outputs": [
    {
     "data": {
      "text/plain": [
       "0.01609332934489979"
      ]
     },
     "execution_count": 104,
     "metadata": {},
     "output_type": "execute_result"
    }
   ],
   "source": [
    "data.query('year_of_release.isna()').shape[0] / data.shape[0] #посмотрим какой % состовляют пропуски"
   ]
  },
  {
   "cell_type": "code",
   "execution_count": 105,
   "metadata": {
    "scrolled": true
   },
   "outputs": [
    {
     "data": {
      "text/plain": [
       "array([2006, 1985, 2008, 2009, 1996, 1989, 1984, 2005, 1999, 2007, 2010,\n",
       "       2013, 2004, 1990, 1988, 2002, 2001, 2011, 1998, 2015, 2012, 2014,\n",
       "       1992, 1997, 1993, 1994, 1982, 2016, 2003, 1986, 2000, 1995, 1991,\n",
       "       1981, 1987, 1980, 1983])"
      ]
     },
     "execution_count": 105,
     "metadata": {},
     "output_type": "execute_result"
    }
   ],
   "source": [
    "data = data.query('not year_of_release.isna()')\n",
    "data['year_of_release'] = data['year_of_release'].astype('int')\n",
    "data['year_of_release'].unique()"
   ]
  },
  {
   "cell_type": "code",
   "execution_count": 106,
   "metadata": {},
   "outputs": [
    {
     "data": {
      "text/plain": [
       "array(['8', nan, '8.3', '8.5', '6.6', '8.4', '8.6', '7.7', '6.3', '7.4',\n",
       "       '8.2', '9', '7.9', '8.1', '8.7', '7.1', '3.4', '5.3', '4.8', '3.2',\n",
       "       '8.9', '6.4', '7.8', '7.5', '2.6', '7.2', '9.2', '7', '7.3', '4.3',\n",
       "       '7.6', '5.7', '5', '9.1', '6.5', 'tbd', '8.8', '6.9', '9.4', '6.8',\n",
       "       '6.1', '6.7', '5.4', '4', '4.9', '4.5', '9.3', '6.2', '4.2', '6',\n",
       "       '3.7', '4.1', '5.8', '5.6', '5.5', '4.4', '4.6', '5.9', '3.9',\n",
       "       '3.1', '2.9', '5.2', '3.3', '4.7', '5.1', '3.5', '2.5', '1.9', '3',\n",
       "       '2.7', '2.2', '2', '9.5', '2.1', '3.6', '2.8', '1.8', '3.8', '0',\n",
       "       '1.6', '9.6', '2.4', '1.7', '1.1', '0.3', '1.5', '0.7', '1.2',\n",
       "       '2.3', '0.5', '1.3', '0.2', '0.6', '1.4', '0.9', '1', '9.7'],\n",
       "      dtype=object)"
      ]
     },
     "execution_count": 106,
     "metadata": {},
     "output_type": "execute_result"
    }
   ],
   "source": [
    "data['user_score'].unique() # посмотрим какие значения встречаются в столбце user_score"
   ]
  },
  {
   "cell_type": "markdown",
   "metadata": {},
   "source": [
    "В столбце присутсвуют пропуски, но так как будем преобразовывать в вещественный тип они не должны помешать. А вот значение tbd помешает. Аббревеатура TBD в игровой лексике означает \"будет определено\", то есть на данный момент не известно, поэтому заменим эти значения на NaN. И изменим тип столбца."
   ]
  },
  {
   "cell_type": "code",
   "execution_count": 107,
   "metadata": {},
   "outputs": [
    {
     "data": {
      "text/plain": [
       "array([8. , nan, 8.3, 8.5, 6.6, 8.4, 8.6, 7.7, 6.3, 7.4, 8.2, 9. , 7.9,\n",
       "       8.1, 8.7, 7.1, 3.4, 5.3, 4.8, 3.2, 8.9, 6.4, 7.8, 7.5, 2.6, 7.2,\n",
       "       9.2, 7. , 7.3, 4.3, 7.6, 5.7, 5. , 9.1, 6.5, 8.8, 6.9, 9.4, 6.8,\n",
       "       6.1, 6.7, 5.4, 4. , 4.9, 4.5, 9.3, 6.2, 4.2, 6. , 3.7, 4.1, 5.8,\n",
       "       5.6, 5.5, 4.4, 4.6, 5.9, 3.9, 3.1, 2.9, 5.2, 3.3, 4.7, 5.1, 3.5,\n",
       "       2.5, 1.9, 3. , 2.7, 2.2, 2. , 9.5, 2.1, 3.6, 2.8, 1.8, 3.8, 0. ,\n",
       "       1.6, 9.6, 2.4, 1.7, 1.1, 0.3, 1.5, 0.7, 1.2, 2.3, 0.5, 1.3, 0.2,\n",
       "       0.6, 1.4, 0.9, 1. , 9.7])"
      ]
     },
     "execution_count": 107,
     "metadata": {},
     "output_type": "execute_result"
    }
   ],
   "source": [
    "data['user_score'] = data['user_score'].replace('tbd', np.nan)\n",
    "data['user_score'] = data['user_score'].astype('float')\n",
    "data['user_score'].unique()"
   ]
  },
  {
   "cell_type": "markdown",
   "metadata": {},
   "source": [
    "### Работа с пропусками"
   ]
  },
  {
   "cell_type": "code",
   "execution_count": 108,
   "metadata": {},
   "outputs": [
    {
     "name": "stdout",
     "output_type": "stream",
     "text": [
      "<class 'pandas.core.frame.DataFrame'>\n",
      "Int64Index: 16446 entries, 0 to 16714\n",
      "Data columns (total 11 columns):\n",
      " #   Column           Non-Null Count  Dtype  \n",
      "---  ------           --------------  -----  \n",
      " 0   name             16444 non-null  object \n",
      " 1   platform         16446 non-null  object \n",
      " 2   year_of_release  16446 non-null  int64  \n",
      " 3   genre            16444 non-null  object \n",
      " 4   na_sales         16446 non-null  float64\n",
      " 5   eu_sales         16446 non-null  float64\n",
      " 6   jp_sales         16446 non-null  float64\n",
      " 7   other_sales      16446 non-null  float64\n",
      " 8   critic_score     7983 non-null   float64\n",
      " 9   user_score       7463 non-null   float64\n",
      " 10  rating           9768 non-null   object \n",
      "dtypes: float64(6), int64(1), object(4)\n",
      "memory usage: 1.5+ MB\n"
     ]
    }
   ],
   "source": [
    "data.info()"
   ]
  },
  {
   "cell_type": "markdown",
   "metadata": {},
   "source": [
    "Пропуски в name, заполнить мы не можем, но так как ключевые показатели платформа и года пропусков не имеют, оставим эти пропуски не тронутыми. Пропуски в столбцах с оценками тоже оставим нетронутыми, так как можем исказить данные. Пропуски в столбах genre и rating зашлушим unknown"
   ]
  },
  {
   "cell_type": "code",
   "execution_count": 109,
   "metadata": {},
   "outputs": [
    {
     "name": "stdout",
     "output_type": "stream",
     "text": [
      "<class 'pandas.core.frame.DataFrame'>\n",
      "Int64Index: 16446 entries, 0 to 16714\n",
      "Data columns (total 11 columns):\n",
      " #   Column           Non-Null Count  Dtype  \n",
      "---  ------           --------------  -----  \n",
      " 0   name             16444 non-null  object \n",
      " 1   platform         16446 non-null  object \n",
      " 2   year_of_release  16446 non-null  int64  \n",
      " 3   genre            16446 non-null  object \n",
      " 4   na_sales         16446 non-null  float64\n",
      " 5   eu_sales         16446 non-null  float64\n",
      " 6   jp_sales         16446 non-null  float64\n",
      " 7   other_sales      16446 non-null  float64\n",
      " 8   critic_score     7983 non-null   float64\n",
      " 9   user_score       7463 non-null   float64\n",
      " 10  rating           16446 non-null  object \n",
      "dtypes: float64(6), int64(1), object(4)\n",
      "memory usage: 1.5+ MB\n"
     ]
    }
   ],
   "source": [
    "data['genre'].fillna('unknown', inplace=True)\n",
    "data['rating'].fillna('unknown', inplace=True)\n",
    "data.info()"
   ]
  },
  {
   "cell_type": "markdown",
   "metadata": {},
   "source": [
    "### Добавление нового столбца"
   ]
  },
  {
   "cell_type": "markdown",
   "metadata": {},
   "source": [
    "Посчитаем суммарные продажи во всех регионах и запишем их в отдельный столбец total_sales"
   ]
  },
  {
   "cell_type": "code",
   "execution_count": 110,
   "metadata": {},
   "outputs": [
    {
     "data": {
      "text/html": [
       "<div>\n",
       "<style scoped>\n",
       "    .dataframe tbody tr th:only-of-type {\n",
       "        vertical-align: middle;\n",
       "    }\n",
       "\n",
       "    .dataframe tbody tr th {\n",
       "        vertical-align: top;\n",
       "    }\n",
       "\n",
       "    .dataframe thead th {\n",
       "        text-align: right;\n",
       "    }\n",
       "</style>\n",
       "<table border=\"1\" class=\"dataframe\">\n",
       "  <thead>\n",
       "    <tr style=\"text-align: right;\">\n",
       "      <th></th>\n",
       "      <th>name</th>\n",
       "      <th>platform</th>\n",
       "      <th>year_of_release</th>\n",
       "      <th>genre</th>\n",
       "      <th>na_sales</th>\n",
       "      <th>eu_sales</th>\n",
       "      <th>jp_sales</th>\n",
       "      <th>other_sales</th>\n",
       "      <th>critic_score</th>\n",
       "      <th>user_score</th>\n",
       "      <th>rating</th>\n",
       "      <th>total_sales</th>\n",
       "    </tr>\n",
       "  </thead>\n",
       "  <tbody>\n",
       "    <tr>\n",
       "      <th>0</th>\n",
       "      <td>Wii Sports</td>\n",
       "      <td>Wii</td>\n",
       "      <td>2006</td>\n",
       "      <td>Sports</td>\n",
       "      <td>41.36</td>\n",
       "      <td>28.96</td>\n",
       "      <td>3.77</td>\n",
       "      <td>8.45</td>\n",
       "      <td>76.0</td>\n",
       "      <td>8.0</td>\n",
       "      <td>E</td>\n",
       "      <td>82.54</td>\n",
       "    </tr>\n",
       "    <tr>\n",
       "      <th>1</th>\n",
       "      <td>Super Mario Bros.</td>\n",
       "      <td>NES</td>\n",
       "      <td>1985</td>\n",
       "      <td>Platform</td>\n",
       "      <td>29.08</td>\n",
       "      <td>3.58</td>\n",
       "      <td>6.81</td>\n",
       "      <td>0.77</td>\n",
       "      <td>NaN</td>\n",
       "      <td>NaN</td>\n",
       "      <td>unknown</td>\n",
       "      <td>40.24</td>\n",
       "    </tr>\n",
       "    <tr>\n",
       "      <th>2</th>\n",
       "      <td>Mario Kart Wii</td>\n",
       "      <td>Wii</td>\n",
       "      <td>2008</td>\n",
       "      <td>Racing</td>\n",
       "      <td>15.68</td>\n",
       "      <td>12.76</td>\n",
       "      <td>3.79</td>\n",
       "      <td>3.29</td>\n",
       "      <td>82.0</td>\n",
       "      <td>8.3</td>\n",
       "      <td>E</td>\n",
       "      <td>35.52</td>\n",
       "    </tr>\n",
       "    <tr>\n",
       "      <th>3</th>\n",
       "      <td>Wii Sports Resort</td>\n",
       "      <td>Wii</td>\n",
       "      <td>2009</td>\n",
       "      <td>Sports</td>\n",
       "      <td>15.61</td>\n",
       "      <td>10.93</td>\n",
       "      <td>3.28</td>\n",
       "      <td>2.95</td>\n",
       "      <td>80.0</td>\n",
       "      <td>8.0</td>\n",
       "      <td>E</td>\n",
       "      <td>32.77</td>\n",
       "    </tr>\n",
       "    <tr>\n",
       "      <th>4</th>\n",
       "      <td>Pokemon Red/Pokemon Blue</td>\n",
       "      <td>GB</td>\n",
       "      <td>1996</td>\n",
       "      <td>Role-Playing</td>\n",
       "      <td>11.27</td>\n",
       "      <td>8.89</td>\n",
       "      <td>10.22</td>\n",
       "      <td>1.00</td>\n",
       "      <td>NaN</td>\n",
       "      <td>NaN</td>\n",
       "      <td>unknown</td>\n",
       "      <td>31.38</td>\n",
       "    </tr>\n",
       "  </tbody>\n",
       "</table>\n",
       "</div>"
      ],
      "text/plain": [
       "                       name platform  year_of_release         genre  na_sales  \\\n",
       "0                Wii Sports      Wii             2006        Sports     41.36   \n",
       "1         Super Mario Bros.      NES             1985      Platform     29.08   \n",
       "2            Mario Kart Wii      Wii             2008        Racing     15.68   \n",
       "3         Wii Sports Resort      Wii             2009        Sports     15.61   \n",
       "4  Pokemon Red/Pokemon Blue       GB             1996  Role-Playing     11.27   \n",
       "\n",
       "   eu_sales  jp_sales  other_sales  critic_score  user_score   rating  \\\n",
       "0     28.96      3.77         8.45          76.0         8.0        E   \n",
       "1      3.58      6.81         0.77           NaN         NaN  unknown   \n",
       "2     12.76      3.79         3.29          82.0         8.3        E   \n",
       "3     10.93      3.28         2.95          80.0         8.0        E   \n",
       "4      8.89     10.22         1.00           NaN         NaN  unknown   \n",
       "\n",
       "   total_sales  \n",
       "0        82.54  \n",
       "1        40.24  \n",
       "2        35.52  \n",
       "3        32.77  \n",
       "4        31.38  "
      ]
     },
     "execution_count": 110,
     "metadata": {},
     "output_type": "execute_result"
    }
   ],
   "source": [
    "data['total_sales'] = data['na_sales'] + data['eu_sales'] + data['jp_sales'] + data['other_sales']\n",
    "data.head()"
   ]
  },
  {
   "cell_type": "markdown",
   "metadata": {},
   "source": [
    "## Шаг 3. Исследовательский анализ"
   ]
  },
  {
   "cell_type": "markdown",
   "metadata": {},
   "source": [
    "### 1. Посмотрим, сколько игр выпускалось в разные годы."
   ]
  },
  {
   "cell_type": "code",
   "execution_count": 111,
   "metadata": {},
   "outputs": [
    {
     "data": {
      "image/png": "[encoded data removed]",
      "text/plain": [
       "<Figure size 432x288 with 1 Axes>"
      ]
     },
     "metadata": {
      "needs_background": "light"
     },
     "output_type": "display_data"
    }
   ],
   "source": [
    "plt.title('Распределение количества игр по годам релиза');\n",
    "data.groupby('year_of_release')['year_of_release'].count().plot(style='-o', grid=True, xlabel='Годы', ylabel='Количество игр');"
   ]
  },
  {
   "cell_type": "markdown",
   "metadata": {},
   "source": [
    "С 1980 по 1993 год наблюдается стабильно малое количество выпускаемых игр, индустрия только зарождается, рост числа выпускаемых игр начинается с 1994 вплоть до 2008 - 2009 года, которые являются пиковыми. Спад с 2010 года очевидно связан с мировым кризисом 2008 - 2009 года, во время которого многим игровым компаниям пришлось закрыть часть студий и уволить персонал."
   ]
  },
  {
   "cell_type": "markdown",
   "metadata": {},
   "source": [
    "### 2. Посмотрим, как менялись продажи по платформам. "
   ]
  },
  {
   "cell_type": "markdown",
   "metadata": {},
   "source": [
    "Выберем платформы с наибольшими суммарными продажами и построим распределение по годам."
   ]
  },
  {
   "cell_type": "code",
   "execution_count": 112,
   "metadata": {},
   "outputs": [
    {
     "data": {
      "image/png": "[encoded data removed]",
      "text/plain": [
       "<Figure size 432x288 with 1 Axes>"
      ]
     },
     "metadata": {
      "needs_background": "light"
     },
     "output_type": "display_data"
    }
   ],
   "source": [
    "data.pivot_table(index=['platform'], values='total_sales', aggfunc='sum').plot(kind='bar');"
   ]
  },
  {
   "cell_type": "markdown",
   "metadata": {},
   "source": [
    "Наиболее популярными популярными будем считать 6 платформ c самым большим количеством продаж."
   ]
  },
  {
   "cell_type": "code",
   "execution_count": 113,
   "metadata": {
    "scrolled": true
   },
   "outputs": [
    {
     "data": {
      "image/png": "[encoded data removed]",
      "text/plain": [
       "<Figure size 432x288 with 1 Axes>"
      ]
     },
     "metadata": {
      "needs_background": "light"
     },
     "output_type": "display_data"
    },
    {
     "data": {
      "image/png": "[encoded data removed]",
      "text/plain": [
       "<Figure size 432x288 with 1 Axes>"
      ]
     },
     "metadata": {
      "needs_background": "light"
     },
     "output_type": "display_data"
    },
    {
     "data": {
      "image/png": "[encoded data removed]",
      "text/plain": [
       "<Figure size 432x288 with 1 Axes>"
      ]
     },
     "metadata": {
      "needs_background": "light"
     },
     "output_type": "display_data"
    },
    {
     "data": {
      "image/png": "[encoded data removed]",
      "text/plain": [
       "<Figure size 432x288 with 1 Axes>"
      ]
     },
     "metadata": {
      "needs_background": "light"
     },
     "output_type": "display_data"
    },
    {
     "data": {
      "image/png": "[encoded data removed]",
      "text/plain": [
       "<Figure size 432x288 with 1 Axes>"
      ]
     },
     "metadata": {
      "needs_background": "light"
     },
     "output_type": "display_data"
    },
    {
     "data": {
      "image/png": "[encoded data removed]",
      "text/plain": [
       "<Figure size 432x288 with 1 Axes>"
      ]
     },
     "metadata": {
      "needs_background": "light"
     },
     "output_type": "display_data"
    }
   ],
   "source": [
    "top6 = data.pivot_table(index=['platform'], values='total_sales', aggfunc='sum') \\\n",
    ".sort_values(by='total_sales', ascending=False)[:6]\n",
    "\n",
    "for platform in top6.index:\n",
    "    df = data.query('platform == @platform')\n",
    "    plt.title(f'Количество продаж {platform} по годам')\n",
    "    sns.barplot(\n",
    "        data = df,\n",
    "        x = df['year_of_release'], \n",
    "        y = df['total_sales'],\n",
    "        ci = None\n",
    "    )\n",
    "    plt.show()"
   ]
  },
  {
   "cell_type": "markdown",
   "metadata": {},
   "source": [
    "Судя по графикам можно сделать вывод что средний срок жизни равен 10 годам. При этом среди 6 популярных 3 уже закрылись в 2003, 2011 и 2013 году соответсвенно. "
   ]
  },
  {
   "cell_type": "markdown",
   "metadata": {},
   "source": [
    "### 3. Определим актуальный период "
   ]
  },
  {
   "cell_type": "markdown",
   "metadata": {},
   "source": [
    "Актуальный период, на мой взгляд, это тот период, при котором живы все компании, на которые мы будем делать прогноз на 2017 год. Из предыдуших пунктов можно заметить, что в 2013 году закончила работу компания DS которая являлась одной из наиболее популярных компаний. Поэтому, актуальный период возьмем с 2014 по 2016. Тем более что в эти годы наблюдается подъем после долгого спада (кризис 2008-2009 года). "
   ]
  },
  {
   "cell_type": "code",
   "execution_count": 114,
   "metadata": {},
   "outputs": [],
   "source": [
    "actual_data = data.query('2014 <= year_of_release')"
   ]
  },
  {
   "cell_type": "markdown",
   "metadata": {},
   "source": [
    "В дальнейшей работе не будем учитывать данные за предыдущие годы."
   ]
  },
  {
   "cell_type": "markdown",
   "metadata": {},
   "source": [
    "### 4. Какие платформы лидируют по продажам, растут или падают?"
   ]
  },
  {
   "cell_type": "code",
   "execution_count": 115,
   "metadata": {},
   "outputs": [
    {
     "data": {
      "image/png": "[encoded data removed]",
      "text/plain": [
       "<Figure size 432x288 with 1 Axes>"
      ]
     },
     "metadata": {
      "needs_background": "light"
     },
     "output_type": "display_data"
    },
    {
     "data": {
      "image/png": "[encoded data removed]",
      "text/plain": [
       "<Figure size 432x288 with 1 Axes>"
      ]
     },
     "metadata": {
      "needs_background": "light"
     },
     "output_type": "display_data"
    },
    {
     "data": {
      "image/png": "[encoded data removed]",
      "text/plain": [
       "<Figure size 432x288 with 1 Axes>"
      ]
     },
     "metadata": {
      "needs_background": "light"
     },
     "output_type": "display_data"
    },
    {
     "data": {
      "image/png": "[encoded data removed]",
      "text/plain": [
       "<Figure size 432x288 with 1 Axes>"
      ]
     },
     "metadata": {
      "needs_background": "light"
     },
     "output_type": "display_data"
    },
    {
     "data": {
      "image/png": "[encoded data removed]",
      "text/plain": [
       "<Figure size 432x288 with 1 Axes>"
      ]
     },
     "metadata": {
      "needs_background": "light"
     },
     "output_type": "display_data"
    },
    {
     "data": {
      "image/png": "[encoded data removed]",
      "text/plain": [
       "<Figure size 432x288 with 1 Axes>"
      ]
     },
     "metadata": {
      "needs_background": "light"
     },
     "output_type": "display_data"
    },
    {
     "data": {
      "image/png": "[encoded data removed]",
      "text/plain": [
       "<Figure size 432x288 with 1 Axes>"
      ]
     },
     "metadata": {
      "needs_background": "light"
     },
     "output_type": "display_data"
    },
    {
     "data": {
      "image/png": "[encoded data removed]",
      "text/plain": [
       "<Figure size 432x288 with 1 Axes>"
      ]
     },
     "metadata": {
      "needs_background": "light"
     },
     "output_type": "display_data"
    },
    {
     "data": {
      "image/png": "[encoded data removed]",
      "text/plain": [
       "<Figure size 432x288 with 1 Axes>"
      ]
     },
     "metadata": {
      "needs_background": "light"
     },
     "output_type": "display_data"
    },
    {
     "data": {
      "image/png": "[encoded data removed]",
      "text/plain": [
       "<Figure size 432x288 with 1 Axes>"
      ]
     },
     "metadata": {
      "needs_background": "light"
     },
     "output_type": "display_data"
    }
   ],
   "source": [
    "top = actual_data.pivot_table(index=['platform'], values='total_sales', aggfunc='sum') \\\n",
    ".sort_values(by='total_sales', ascending=False)\n",
    "\n",
    "for platform in top.index:\n",
    "    df = actual_data.query('platform == @platform')\n",
    "    plt.title(f'Количество продаж {platform} по годам')\n",
    "    sns.barplot(\n",
    "        data = df,\n",
    "        x = df['year_of_release'], \n",
    "        y = df['total_sales'],\n",
    "        ci = None\n",
    "    )\n",
    "    plt.show()"
   ]
  },
  {
   "cell_type": "markdown",
   "metadata": {},
   "source": [
    "Из дальнейшего рассмотрения можно исключить PSP потому что в 2016 году не было выпущено ни одной игры, что скорее всего говорит о том, что студия закрылась. Из оставшихся потенциально прибыльными можно считать только 3DS, так как там наблюдается незначительный рост продаж с 2015 на 2016 год. На всех остальных платформах наблюдается спад. Но в целом рассуждать о прибыльности платформы сложно не зная стоимость игр и затраты на их производтсво. "
   ]
  },
  {
   "cell_type": "code",
   "execution_count": 116,
   "metadata": {},
   "outputs": [],
   "source": [
    "actual_data = actual_data.query('platform != \"PSP\"')"
   ]
  },
  {
   "cell_type": "markdown",
   "metadata": {},
   "source": [
    "### 5. Посмтроим \"ящик с усами\" по глобальным продажам в разбивке по платформам"
   ]
  },
  {
   "cell_type": "code",
   "execution_count": 117,
   "metadata": {},
   "outputs": [
    {
     "data": {
      "image/png": "[encoded data removed]",
      "text/plain": [
       "<Figure size 432x288 with 1 Axes>"
      ]
     },
     "metadata": {
      "needs_background": "light"
     },
     "output_type": "display_data"
    }
   ],
   "source": [
    "sns.boxplot(data=actual_data, x='total_sales', y='platform');\n",
    "plt.title('Ящик с усами по количеству продаж');"
   ]
  },
  {
   "cell_type": "code",
   "execution_count": 118,
   "metadata": {},
   "outputs": [
    {
     "data": {
      "image/png": "[encoded data removed]",
      "text/plain": [
       "<Figure size 432x288 with 1 Axes>"
      ]
     },
     "metadata": {
      "needs_background": "light"
     },
     "output_type": "display_data"
    }
   ],
   "source": [
    "sns.boxplot(data=actual_data, x='total_sales', y='platform');\n",
    "plt.title('Ящик с усами по количеству продаж');\n",
    "plt.xlim(0, 2);"
   ]
  },
  {
   "cell_type": "markdown",
   "metadata": {},
   "source": [
    "Очевидно, что наиболее прибыльной за актульный период является PS4 у нее и самый широкий спектр нормальных значений и игры с самым большим количеством продаж выпускались ей игры выпускались ей (свыше 14млн копий). Xone, WiiU и X360 имеет чуть меньший спектр нормальных значений, и соответсвенно меньший размах выбросов (до 8 млн копий). Приемачательной и на этом графике выглядит 3DS. Размах нормальных значений гораздо меньше, но присутсвуют игры, которые по количеству продаж обходят Xone, WiiU и X360."
   ]
  },
  {
   "cell_type": "markdown",
   "metadata": {},
   "source": [
    "### 6. Посмотрим как оценки пользователей и критиков влияют на продажи PS4"
   ]
  },
  {
   "cell_type": "code",
   "execution_count": 119,
   "metadata": {},
   "outputs": [
    {
     "data": {
      "image/png": "[encoded data removed]",
      "text/plain": [
       "<Figure size 432x288 with 1 Axes>"
      ]
     },
     "metadata": {
      "needs_background": "light"
     },
     "output_type": "display_data"
    }
   ],
   "source": [
    "ps4_data = actual_data.query('platform == \"PS4\"')\n",
    "sns.scatterplot(data=ps4_data, x='user_score', y='total_sales', alpha=0.5); \n",
    "plt.title('Диаграмма рассеяния продаж по оценкам пользователей');"
   ]
  },
  {
   "cell_type": "code",
   "execution_count": 120,
   "metadata": {},
   "outputs": [
    {
     "data": {
      "text/plain": [
       "-0.040131589472697356"
      ]
     },
     "execution_count": 120,
     "metadata": {},
     "output_type": "execute_result"
    }
   ],
   "source": [
    "ps4_data['user_score'].corr(ps4_data['total_sales']) # рассчитаем корреляцию"
   ]
  },
  {
   "cell_type": "markdown",
   "metadata": {},
   "source": [
    "Оценка пользователй не оказывает никакого влияния на количество продаж"
   ]
  },
  {
   "cell_type": "code",
   "execution_count": 121,
   "metadata": {},
   "outputs": [
    {
     "data": {
      "image/png": "[encoded data removed]",
      "text/plain": [
       "<Figure size 432x288 with 1 Axes>"
      ]
     },
     "metadata": {
      "needs_background": "light"
     },
     "output_type": "display_data"
    }
   ],
   "source": [
    "sns.scatterplot(data=ps4_data, x='critic_score', y='total_sales', alpha=0.5);\n",
    "plt.title('Диаграмма рассеяния продаж по оценкам критиков');"
   ]
  },
  {
   "cell_type": "code",
   "execution_count": 122,
   "metadata": {},
   "outputs": [
    {
     "data": {
      "text/plain": [
       "0.40266141068104083"
      ]
     },
     "execution_count": 122,
     "metadata": {},
     "output_type": "execute_result"
    }
   ],
   "source": [
    "ps4_data['critic_score'].corr(ps4_data['total_sales'])"
   ]
  },
  {
   "cell_type": "markdown",
   "metadata": {},
   "source": [
    "Наблюдается слабая зависимость количества продаж от оценки критиков."
   ]
  },
  {
   "cell_type": "markdown",
   "metadata": {},
   "source": [
    "### 7. Соотнесем выводы с продажами на других платформах"
   ]
  },
  {
   "cell_type": "markdown",
   "metadata": {},
   "source": [
    "Для этого построим диаграммы рассеяния рассчитаем и корреляцию для других 8 платформ"
   ]
  },
  {
   "cell_type": "code",
   "execution_count": 123,
   "metadata": {},
   "outputs": [
    {
     "data": {
      "image/png": "[encoded data removed]",
      "text/plain": [
       "<Figure size 432x288 with 1 Axes>"
      ]
     },
     "metadata": {
      "needs_background": "light"
     },
     "output_type": "display_data"
    },
    {
     "name": "stdout",
     "output_type": "stream",
     "text": [
      "Корреляция продаж и оценок пользователей платформы PS4 -0.040131589472697356\n",
      "\n"
     ]
    },
    {
     "data": {
      "image/png": "[encoded data removed]",
      "text/plain": [
       "<Figure size 432x288 with 1 Axes>"
      ]
     },
     "metadata": {
      "needs_background": "light"
     },
     "output_type": "display_data"
    },
    {
     "name": "stdout",
     "output_type": "stream",
     "text": [
      "Корреляция продаж и оценок пользователей платформы 3DS 0.2151932718527028\n",
      "\n"
     ]
    },
    {
     "data": {
      "image/png": "[encoded data removed]",
      "text/plain": [
       "<Figure size 432x288 with 1 Axes>"
      ]
     },
     "metadata": {
      "needs_background": "light"
     },
     "output_type": "display_data"
    },
    {
     "name": "stdout",
     "output_type": "stream",
     "text": [
      "Корреляция продаж и оценок пользователей платформы XOne -0.0703839280647581\n",
      "\n"
     ]
    },
    {
     "data": {
      "image/png": "[encoded data removed]",
      "text/plain": [
       "<Figure size 432x288 with 1 Axes>"
      ]
     },
     "metadata": {
      "needs_background": "light"
     },
     "output_type": "display_data"
    },
    {
     "name": "stdout",
     "output_type": "stream",
     "text": [
      "Корреляция продаж и оценок пользователей платформы WiiU 0.40792645792170773\n",
      "\n"
     ]
    },
    {
     "data": {
      "image/png": "[encoded data removed]",
      "text/plain": [
       "<Figure size 432x288 with 1 Axes>"
      ]
     },
     "metadata": {
      "needs_background": "light"
     },
     "output_type": "display_data"
    },
    {
     "name": "stdout",
     "output_type": "stream",
     "text": [
      "Корреляция продаж и оценок пользователей платформы PS3 -0.16676141347662118\n",
      "\n"
     ]
    },
    {
     "data": {
      "image/png": "[encoded data removed]",
      "text/plain": [
       "<Figure size 432x288 with 1 Axes>"
      ]
     },
     "metadata": {
      "needs_background": "light"
     },
     "output_type": "display_data"
    },
    {
     "name": "stdout",
     "output_type": "stream",
     "text": [
      "Корреляция продаж и оценок пользователей платформы X360 -0.138444570945665\n",
      "\n"
     ]
    },
    {
     "data": {
      "image/png": "[encoded data removed]",
      "text/plain": [
       "<Figure size 432x288 with 1 Axes>"
      ]
     },
     "metadata": {
      "needs_background": "light"
     },
     "output_type": "display_data"
    },
    {
     "name": "stdout",
     "output_type": "stream",
     "text": [
      "Корреляция продаж и оценок пользователей платформы PC -0.07159665703472451\n",
      "\n"
     ]
    },
    {
     "data": {
      "image/png": "[encoded data removed]",
      "text/plain": [
       "<Figure size 432x288 with 1 Axes>"
      ]
     },
     "metadata": {
      "needs_background": "light"
     },
     "output_type": "display_data"
    },
    {
     "name": "stdout",
     "output_type": "stream",
     "text": [
      "Корреляция продаж и оценок пользователей платформы Wii 1.0\n",
      "\n"
     ]
    },
    {
     "data": {
      "image/png": "[encoded data removed]",
      "text/plain": [
       "<Figure size 432x288 with 1 Axes>"
      ]
     },
     "metadata": {
      "needs_background": "light"
     },
     "output_type": "display_data"
    },
    {
     "name": "stdout",
     "output_type": "stream",
     "text": [
      "Корреляция продаж и оценок пользователей платформы PSV -0.16845504978064446\n",
      "\n"
     ]
    }
   ],
   "source": [
    "actual_platform = actual_data['platform'].unique()\n",
    "for platform in actual_platform:\n",
    "    df = actual_data.query('platform == @platform')  \n",
    "    plt.title(f'Диаграмма рассеяния продаж по оценкам пользователей для платформы {platform}');\n",
    "    sns.scatterplot(data=df, x='user_score', y='total_sales', alpha=0.5); \n",
    "    plt.show()\n",
    "    print(f'Корреляция продаж и оценок пользователей платформы {platform}', df['user_score'].corr(df['total_sales']))\n",
    "    print()"
   ]
  },
  {
   "cell_type": "markdown",
   "metadata": {},
   "source": [
    "На всех платформах примерно одна и та же картина, корреляции между пользовательской оценкой и количеством продаж нет. (1 на Wii обусловлена не достаточностью данных)"
   ]
  },
  {
   "cell_type": "code",
   "execution_count": 124,
   "metadata": {},
   "outputs": [
    {
     "data": {
      "image/png": "[encoded data removed]",
      "text/plain": [
       "<Figure size 432x288 with 1 Axes>"
      ]
     },
     "metadata": {
      "needs_background": "light"
     },
     "output_type": "display_data"
    },
    {
     "name": "stdout",
     "output_type": "stream",
     "text": [
      "Корреляция продаж и оценок критиков платформы PS4 0.40266141068104083\n",
      "\n"
     ]
    },
    {
     "data": {
      "image/png": "[encoded data removed]",
      "text/plain": [
       "<Figure size 432x288 with 1 Axes>"
      ]
     },
     "metadata": {
      "needs_background": "light"
     },
     "output_type": "display_data"
    },
    {
     "name": "stdout",
     "output_type": "stream",
     "text": [
      "Корреляция продаж и оценок критиков платформы 3DS 0.314117492869051\n",
      "\n"
     ]
    },
    {
     "data": {
      "image/png": "[encoded data removed]",
      "text/plain": [
       "<Figure size 432x288 with 1 Axes>"
      ]
     },
     "metadata": {
      "needs_background": "light"
     },
     "output_type": "display_data"
    },
    {
     "name": "stdout",
     "output_type": "stream",
     "text": [
      "Корреляция продаж и оценок критиков платформы XOne 0.42867694370333226\n",
      "\n"
     ]
    },
    {
     "data": {
      "image/png": "[encoded data removed]",
      "text/plain": [
       "<Figure size 432x288 with 1 Axes>"
      ]
     },
     "metadata": {
      "needs_background": "light"
     },
     "output_type": "display_data"
    },
    {
     "name": "stdout",
     "output_type": "stream",
     "text": [
      "Корреляция продаж и оценок критиков платформы WiiU 0.370201412480884\n",
      "\n"
     ]
    },
    {
     "data": {
      "image/png": "[encoded data removed]",
      "text/plain": [
       "<Figure size 432x288 with 1 Axes>"
      ]
     },
     "metadata": {
      "needs_background": "light"
     },
     "output_type": "display_data"
    },
    {
     "name": "stdout",
     "output_type": "stream",
     "text": [
      "Корреляция продаж и оценок критиков платформы PS3 0.44657460493190704\n",
      "\n"
     ]
    },
    {
     "data": {
      "image/png": "[encoded data removed]",
      "text/plain": [
       "<Figure size 432x288 with 1 Axes>"
      ]
     },
     "metadata": {
      "needs_background": "light"
     },
     "output_type": "display_data"
    },
    {
     "name": "stdout",
     "output_type": "stream",
     "text": [
      "Корреляция продаж и оценок критиков платформы X360 0.5257228356581523\n",
      "\n"
     ]
    },
    {
     "data": {
      "image/png": "[encoded data removed]",
      "text/plain": [
       "<Figure size 432x288 with 1 Axes>"
      ]
     },
     "metadata": {
      "needs_background": "light"
     },
     "output_type": "display_data"
    },
    {
     "name": "stdout",
     "output_type": "stream",
     "text": [
      "Корреляция продаж и оценок критиков платформы PC 0.17463413769350036\n",
      "\n"
     ]
    },
    {
     "data": {
      "image/png": "[encoded data removed]",
      "text/plain": [
       "<Figure size 432x288 with 1 Axes>"
      ]
     },
     "metadata": {
      "needs_background": "light"
     },
     "output_type": "display_data"
    },
    {
     "name": "stdout",
     "output_type": "stream",
     "text": [
      "Корреляция продаж и оценок критиков платформы Wii nan\n",
      "\n"
     ]
    },
    {
     "data": {
      "image/png": "[encoded data removed]",
      "text/plain": [
       "<Figure size 432x288 with 1 Axes>"
      ]
     },
     "metadata": {
      "needs_background": "light"
     },
     "output_type": "display_data"
    },
    {
     "name": "stdout",
     "output_type": "stream",
     "text": [
      "Корреляция продаж и оценок критиков платформы PSV 0.04266490657009526\n",
      "\n"
     ]
    }
   ],
   "source": [
    "for platform in actual_platform:\n",
    "    df = actual_data.query('platform == @platform')  \n",
    "    plt.title(f'Диаграмма рассеяния продаж по оценкам критиков для платформы {platform}');\n",
    "    sns.scatterplot(data=df, x='critic_score', y='total_sales', alpha=0.5); \n",
    "    plt.show()\n",
    "    print(f'Корреляция продаж и оценок критиков платформы {platform}', df['critic_score'].corr(df['total_sales']))\n",
    "    print()"
   ]
  },
  {
   "cell_type": "markdown",
   "metadata": {},
   "source": [
    "Зависимость оценки критиков и количества продаж либо незначительна, либо вовсе отсутствует."
   ]
  },
  {
   "cell_type": "markdown",
   "metadata": {},
   "source": [
    "**Вывод:** оценки пользователей и критиков не влияют на количество продаж."
   ]
  },
  {
   "cell_type": "markdown",
   "metadata": {},
   "source": [
    "### 8. Посмотрим на общее распределение игр по жанрам"
   ]
  },
  {
   "cell_type": "code",
   "execution_count": 125,
   "metadata": {},
   "outputs": [
    {
     "data": {
      "image/png": "[encoded data removed]",
      "text/plain": [
       "<Figure size 432x288 with 1 Axes>"
      ]
     },
     "metadata": {
      "needs_background": "light"
     },
     "output_type": "display_data"
    }
   ],
   "source": [
    "actual_data['genre'].value_counts().plot(kind='bar');"
   ]
  },
  {
   "cell_type": "markdown",
   "metadata": {},
   "source": [
    "Игр жанра Action выпускается значительно больше всех остальных, это не удивительно так как в данном жанре большее разнообразие тематик. Самыми редкими являются игры puzzle."
   ]
  },
  {
   "cell_type": "code",
   "execution_count": 126,
   "metadata": {},
   "outputs": [
    {
     "data": {
      "image/png": "[encoded data removed]",
      "text/plain": [
       "<Figure size 432x288 with 1 Axes>"
      ]
     },
     "metadata": {
      "needs_background": "light"
     },
     "output_type": "display_data"
    }
   ],
   "source": [
    "sns.barplot(\n",
    "    data = actual_data,\n",
    "    x = 'total_sales',\n",
    "    y = 'genre',\n",
    "    ci = None\n",
    ");"
   ]
  },
  {
   "cell_type": "markdown",
   "metadata": {},
   "source": [
    "Жанр shooter является абсолютным чемпионом по количеству продаж, в два раза опережая своего предшественника. И это при условии, что по количеству выпускаемых игр они находятся лишь на 5 месте. Реже всего покупают игры жанра adventure. А вот наиболее часто выпускаемые игры жанра action имеют не очень высокие продажи. Вероятно это связано с переизбытком предложения на рынке."
   ]
  },
  {
   "cell_type": "markdown",
   "metadata": {},
   "source": [
    "## Шаг 4. Составим портрет пользователя каждого региона"
   ]
  },
  {
   "cell_type": "markdown",
   "metadata": {},
   "source": [
    "Для этого определим для пользователя каждого региона (NA, EU, JP):\n",
    "1. Самые популярные платформы (топ-5). \n",
    "2. Самые популярные жанры (топ-5). \n",
    "3. Влияет ли рейтинг ESRB на продажи в отдельном регионе?"
   ]
  },
  {
   "cell_type": "markdown",
   "metadata": {},
   "source": [
    "### 1. Самые популярные платформы"
   ]
  },
  {
   "cell_type": "code",
   "execution_count": 127,
   "metadata": {},
   "outputs": [
    {
     "data": {
      "image/png": "[encoded data removed]",
      "text/plain": [
       "<Figure size 432x288 with 1 Axes>"
      ]
     },
     "metadata": {
      "needs_background": "light"
     },
     "output_type": "display_data"
    },
    {
     "data": {
      "image/png": "[encoded data removed]",
      "text/plain": [
       "<Figure size 432x288 with 1 Axes>"
      ]
     },
     "metadata": {
      "needs_background": "light"
     },
     "output_type": "display_data"
    },
    {
     "data": {
      "image/png": "[encoded data removed]",
      "text/plain": [
       "<Figure size 432x288 with 1 Axes>"
      ]
     },
     "metadata": {
      "needs_background": "light"
     },
     "output_type": "display_data"
    }
   ],
   "source": [
    "region_sales = ['na_sales', 'eu_sales', 'jp_sales']\n",
    "for i in region_sales:\n",
    "    actual_data.pivot_table(index='platform', values=i, aggfunc='sum').sort_values(by=i,ascending=False)[:5].plot(kind='bar');\n",
    "    plt.title(f'Самые популярные платформы {i[:2].upper()}');"
   ]
  },
  {
   "cell_type": "markdown",
   "metadata": {},
   "source": [
    "Если для Северной Америки и Европы препочтения в платформах примерно совпадают, то вот в Японии наиболее часто покупаемыми являются игры платформы 3DS, притом доля продаж там в 3 раза выше чем продажы PS4, которая является лидером в Европе и Америке. Это связано с тем что 3DS  является японской платформой."
   ]
  },
  {
   "cell_type": "markdown",
   "metadata": {},
   "source": [
    "### 2. Самые популярные жанры"
   ]
  },
  {
   "cell_type": "code",
   "execution_count": 128,
   "metadata": {},
   "outputs": [
    {
     "data": {
      "image/png": "[encoded data removed]",
      "text/plain": [
       "<Figure size 432x288 with 1 Axes>"
      ]
     },
     "metadata": {
      "needs_background": "light"
     },
     "output_type": "display_data"
    },
    {
     "data": {
      "image/png": "[encoded data removed]",
      "text/plain": [
       "<Figure size 432x288 with 1 Axes>"
      ]
     },
     "metadata": {
      "needs_background": "light"
     },
     "output_type": "display_data"
    },
    {
     "data": {
      "image/png": "[encoded data removed]",
      "text/plain": [
       "<Figure size 432x288 with 1 Axes>"
      ]
     },
     "metadata": {
      "needs_background": "light"
     },
     "output_type": "display_data"
    }
   ],
   "source": [
    "for i in region_sales:\n",
    "    actual_data.pivot_table(index='genre', values=i, aggfunc='sum').sort_values(by=i,ascending=False)[:5].plot(kind='bar');\n",
    "    plt.title(f'Самые популярные жанры {i[:2].upper()}');"
   ]
  },
  {
   "cell_type": "markdown",
   "metadata": {},
   "source": [
    "С жанрами примерно так же ситуация. Если жанр action примерно одинаково популярен во всех трех регионах, то вот про жанр role-playing можно утверждать, что он гораздо популярнее в Японии нежеле на западе."
   ]
  },
  {
   "cell_type": "markdown",
   "metadata": {},
   "source": [
    "### 3. Влияет ли рейтинг ESRB на продажи в отдельном регионе?"
   ]
  },
  {
   "cell_type": "code",
   "execution_count": 129,
   "metadata": {},
   "outputs": [
    {
     "data": {
      "image/png": "[encoded data removed]",
      "text/plain": [
       "<Figure size 432x288 with 1 Axes>"
      ]
     },
     "metadata": {
      "needs_background": "light"
     },
     "output_type": "display_data"
    },
    {
     "data": {
      "image/png": "[encoded data removed]",
      "text/plain": [
       "<Figure size 432x288 with 1 Axes>"
      ]
     },
     "metadata": {
      "needs_background": "light"
     },
     "output_type": "display_data"
    },
    {
     "data": {
      "image/png": "[encoded data removed]",
      "text/plain": [
       "<Figure size 432x288 with 1 Axes>"
      ]
     },
     "metadata": {
      "needs_background": "light"
     },
     "output_type": "display_data"
    }
   ],
   "source": [
    "for i in region_sales:\n",
    "    actual_data.pivot_table(index='rating', values=i, aggfunc='sum').sort_values(by=i,ascending=False)[:5].plot(kind='bar');\n",
    "    plt.title(f'Продажи сгруппированые по рейтингу ESRB в {i[:2].upper()}');"
   ]
  },
  {
   "cell_type": "markdown",
   "metadata": {},
   "source": [
    "В Америке и Европе чаще всего продаются игры рейтинга М (для взрослых), на втром месте игры, рейтинг которых не известен, следом E (для всех), T (для подростков) и E10+ (для всех от 10 лет и старше). Если про жанр е10+ можно сказать, что он во всех рех регионах является наименее популярным, то вот популярность жанра T это отличительная черта Японии. Но в целом по Японии для подавляющего большинства игр не известен рейтинг. Скорее всего это связано с тем, что возрастной рейтинг на Западе и в Японии, определяется по разным критериям."
   ]
  },
  {
   "cell_type": "markdown",
   "metadata": {},
   "source": [
    "**Вывод:** Портреты пользователей Севреной америки и Европы практически идентичны. А вот портрет пользователя Японии сильно отличается как в предпочтениях жанра и платформы, так и в целом по возрасту пользователя."
   ]
  },
  {
   "cell_type": "markdown",
   "metadata": {},
   "source": [
    "### Шаг 5. Проверка гипотез"
   ]
  },
  {
   "cell_type": "markdown",
   "metadata": {},
   "source": [
    "### 1. Средние пользовательские рейтинги платформ Xbox One и PC одинаковые\n"
   ]
  },
  {
   "cell_type": "markdown",
   "metadata": {},
   "source": [
    "Сформулируем нулевую и альтернативную гипотезы:\\\n",
    "Н0: Средние пользовательские рейтинги платформ Xbox One и PC равны\\\n",
    "Н1: Средние пользовательские рейтинги платформ Xbox One и PC не равны\\\n",
    "Для проверки гипотезы о равенстве средних двух не зависимых ввборок применим метод scipy.stats.ttest_ind (), с параметром equal_var = True, так как есть все основания полагать, что дисперсии у данных величин будут одинаковы (речь идет об оценках от 1 до 10)"
   ]
  },
  {
   "cell_type": "code",
   "execution_count": 130,
   "metadata": {},
   "outputs": [
    {
     "name": "stdout",
     "output_type": "stream",
     "text": [
      "p-значение: 0.10450507919348415\n",
      "Не получилось отвергнуть нулевую гипотезу\n"
     ]
    }
   ],
   "source": [
    "xbox_one_user_score = actual_data.query('platform == \"XOne\"')['user_score'].dropna()\n",
    "pc_user_score = actual_data.query('platform == \"PC\"')['user_score'].dropna()\n",
    "\n",
    "alpha = .01\n",
    "\n",
    "results = st.ttest_ind(xbox_one_user_score, pc_user_score, equal_var=True)\n",
    "\n",
    "print('p-значение:', results.pvalue)\n",
    "\n",
    "if results.pvalue < alpha:\n",
    "    print(\"Отвергаем нулевую гипотезу. Принимаем альтернативную\")\n",
    "else:\n",
    "    print(\"Не получилось отвергнуть нулевую гипотезу\")"
   ]
  },
  {
   "cell_type": "markdown",
   "metadata": {},
   "source": [
    "Не отвергаем гипотезу о том, что средние пользовательские рейтинги платформ Xbox One и PC одинаковые."
   ]
  },
  {
   "cell_type": "markdown",
   "metadata": {},
   "source": [
    "### 2. Средние пользовательские рейтинги жанров Action и Sports разные."
   ]
  },
  {
   "cell_type": "markdown",
   "metadata": {},
   "source": [
    "Сформулируем нулевую и альтернативную гипотезы:\\\n",
    "Н0: Средние пользовательские рейтинги жанров Action и Sports равны\\\n",
    "Н1: Средние пользовательские рейтинги жанров Action и Sports не равны\\\n",
    "Для проверки гипотезы о равенстве средних двух не зависимых ввборок применим метод scipy.stats.ttest_ind (), с параметром equal_var = True, так как есть все основания полагать, что дисперсии у данных величин будут одинаковы (речь идет об оценках от 1 до 10)"
   ]
  },
  {
   "cell_type": "code",
   "execution_count": 131,
   "metadata": {},
   "outputs": [
    {
     "name": "stdout",
     "output_type": "stream",
     "text": [
      "p-значение: 2.8711147985105864e-19\n",
      "Отвергаем нулевую гипотезу. Принимаем альтернативную\n"
     ]
    }
   ],
   "source": [
    "action_user_score = actual_data.query('genre == \"Action\"')['user_score'].dropna()\n",
    "sports_user_score = actual_data.query('genre == \"Sports\"')['user_score'].dropna()\n",
    "\n",
    "alpha = .01\n",
    "\n",
    "results = st.ttest_ind(action_user_score, sports_user_score, equal_var=True)\n",
    "\n",
    "print('p-значение:', results.pvalue)\n",
    "\n",
    "if results.pvalue < alpha:\n",
    "    print(\"Отвергаем нулевую гипотезу. Принимаем альтернативную\")\n",
    "else:\n",
    "    print(\"Не получилось отвергнуть нулевую гипотезу\")"
   ]
  },
  {
   "cell_type": "markdown",
   "metadata": {},
   "source": [
    "Принимаем гипотезу о том, что средние пользовательские рейтинги жанров Action и Sports разные."
   ]
  },
  {
   "cell_type": "markdown",
   "metadata": {},
   "source": [
    "## Шаг 6. Общий вывод"
   ]
  },
  {
   "cell_type": "markdown",
   "metadata": {},
   "source": [
    "В процессе работы над проектом были осуществлены:\n",
    "1. Предобработка данных\n",
    "    1.1 Преведение названий столбцов к змеиному регистру \n",
    "    1.2 Преобразование типов данных в столбцах year_of_release и user_score\n",
    "    1.3 Обработка пропусков\n",
    "    1.4 Добавление нового столбца с количеством общих продаж total_sales\n",
    "2. Исследовательский анализ данных, в ходе которого установлено:\n",
    "    2.1 Пиковые значения количества выпускаемых игр приходятся на 2008-2009 год, за которым следует долгий крутой спад, свидетельствующий о последствиях мирового экономического кризиса 2008 года, отразившегося так же и на игровой индустрии\n",
    "    2.2 Платформами с наибольшим количеством продаж за все время являются PS2, X360, PS6, Wii, DS, PC\n",
    "    2.3 Актуальным периодом для прогноза на 2017 год был принят период с 2014 - 2016 год, так как делать прогноз на следующий год целесообразно делать, только с учетом действующих компаний. В дальнейшем анализе рассматривались данные только за актуальный период.\n",
    "    2.4 В акутальный период наблюдается стабильный спад по количеству продаж игр всеми платформами, кроме DS\n",
    "    2.5 Не смотря, что в среднем большее количество продаж аблюдается на платформах PS4 и Xone, платформой DS выпускаются некоторые бестселлеры, которые обгоняют по количеству продаж PS4 и Xone\n",
    "    2.6 Оценки пользователей и критиков не оказывают влияния на количество продаж.\n",
    "    2.7 Игр жанра action производится гораздо больше остальных, но самым успешным по продажам является жанр shooter\n",
    "3. Составление портрета пользователя каждого региона\n",
    "    3.1 Пользователи Северной Америки и Европы очень похожи в своих предпочтениях. В отличие от пользователей Японии.\n",
    "    3.2 Самые популярная платформа среди западных пользователей PS4, среди японских DS\n",
    "    3.3 Самы популярные жанры среди американских пользователей shooter, европейских - action, японских - role-plaing\n",
    "    3.4 Распеределение продаж по рейтингу у западных пользователей одинковое, лидирует рейтинг М - для взрослых. В Японии лидирует рейтинг T - для подростков.\n",
    "4. Проверка гипотез\n",
    "    4.1 Гипотезу о том, что средние пользовательские рейтинги платформ Xbox One и PC одинаковые, отвергнуть не получилось, а значит необходимы дополнительные исследования\n",
    "    4.2 Гипотеза о том, что средние пользовательские рейтинги жанров Action и Sports разные принята\n",
    "    \n",
    "**Вывод:** Для проведения успешной кампании в 2017 году необходимо сперва определится с рынком, для которого будет производится продукция.\\\n",
    "Если для западных пользователей то, стоит сделать акцент на производство игр жанра Shooter так как продажи по ним в Америке на первом месте, в Европе - на втором. При этом по количеству выпускаемых игр жанр shooter находится только на 5 месте, что говорит о меньшей конкуренции, а значит более высокой цене. В отличие от жанра action, который может и находится на первом месте по продажам в Европе, но предложение таких игр в 5 раз превышает предложение игр жанра shooter. \\\n",
    "Если ставка делается на японских пользователей, то стоит сделать акцент на производство игр жанра role-plaing и учитывать, что возрастной рейтинг должен быть T - для подростков."
   ]
  }
 ],
 "metadata": {
  "ExecuteTimeLog": [
   {
    "duration": 56,
    "start_time": "2022-09-21T06:56:39.801Z"
   },
   {
    "duration": 433,
    "start_time": "2022-09-21T06:57:03.224Z"
   },
   {
    "duration": 887,
    "start_time": "2022-09-21T07:00:10.430Z"
   },
   {
    "duration": 106,
    "start_time": "2022-09-21T07:01:02.370Z"
   },
   {
    "duration": 72,
    "start_time": "2022-09-21T07:01:16.460Z"
   },
   {
    "duration": 13,
    "start_time": "2022-09-21T07:01:36.700Z"
   },
   {
    "duration": 21,
    "start_time": "2022-09-21T08:11:26.844Z"
   },
   {
    "duration": 3,
    "start_time": "2022-09-21T08:11:46.550Z"
   },
   {
    "duration": 70,
    "start_time": "2022-09-21T08:11:46.558Z"
   },
   {
    "duration": 13,
    "start_time": "2022-09-21T08:11:46.629Z"
   },
   {
    "duration": 10,
    "start_time": "2022-09-21T08:11:46.644Z"
   },
   {
    "duration": 15,
    "start_time": "2022-09-21T08:11:53.161Z"
   },
   {
    "duration": 22,
    "start_time": "2022-09-21T08:13:01.392Z"
   },
   {
    "duration": 14,
    "start_time": "2022-09-21T08:13:06.737Z"
   },
   {
    "duration": 5,
    "start_time": "2022-09-21T08:13:14.737Z"
   },
   {
    "duration": 17,
    "start_time": "2022-09-21T08:13:15.536Z"
   },
   {
    "duration": 5,
    "start_time": "2022-09-21T08:16:11.481Z"
   },
   {
    "duration": 13,
    "start_time": "2022-09-21T08:16:12.833Z"
   },
   {
    "duration": 5,
    "start_time": "2022-09-21T08:16:39.415Z"
   },
   {
    "duration": 13,
    "start_time": "2022-09-21T08:16:40.030Z"
   },
   {
    "duration": 18,
    "start_time": "2022-09-21T08:18:27.217Z"
   },
   {
    "duration": 5,
    "start_time": "2022-09-21T08:20:28.378Z"
   },
   {
    "duration": 5,
    "start_time": "2022-09-21T08:22:33.529Z"
   },
   {
    "duration": 44,
    "start_time": "2022-09-21T08:24:26.812Z"
   },
   {
    "duration": 12,
    "start_time": "2022-09-21T08:25:12.176Z"
   },
   {
    "duration": 12,
    "start_time": "2022-09-21T08:28:26.835Z"
   },
   {
    "duration": 4,
    "start_time": "2022-09-21T08:33:10.477Z"
   },
   {
    "duration": 9,
    "start_time": "2022-09-21T08:35:10.107Z"
   },
   {
    "duration": 5,
    "start_time": "2022-09-21T08:35:18.819Z"
   },
   {
    "duration": 3,
    "start_time": "2022-09-21T08:35:25.807Z"
   },
   {
    "duration": 59,
    "start_time": "2022-09-21T08:35:25.812Z"
   },
   {
    "duration": 13,
    "start_time": "2022-09-21T08:35:25.873Z"
   },
   {
    "duration": 4,
    "start_time": "2022-09-21T08:35:27.834Z"
   },
   {
    "duration": 4,
    "start_time": "2022-09-21T08:35:43.666Z"
   },
   {
    "duration": 17,
    "start_time": "2022-09-21T08:35:45.027Z"
   },
   {
    "duration": 14,
    "start_time": "2022-09-21T08:35:54.377Z"
   },
   {
    "duration": 22,
    "start_time": "2022-09-21T08:42:11.808Z"
   },
   {
    "duration": 4,
    "start_time": "2022-09-21T08:43:23.260Z"
   },
   {
    "duration": 50,
    "start_time": "2022-09-22T09:14:03.105Z"
   },
   {
    "duration": 1202,
    "start_time": "2022-09-22T09:14:07.654Z"
   },
   {
    "duration": 204,
    "start_time": "2022-09-22T09:14:08.859Z"
   },
   {
    "duration": 14,
    "start_time": "2022-09-22T09:14:09.064Z"
   },
   {
    "duration": 23,
    "start_time": "2022-09-22T09:14:09.080Z"
   },
   {
    "duration": 5,
    "start_time": "2022-09-22T09:14:09.105Z"
   },
   {
    "duration": 67,
    "start_time": "2022-09-22T09:14:09.112Z"
   },
   {
    "duration": 6,
    "start_time": "2022-09-22T09:16:24.285Z"
   },
   {
    "duration": 5,
    "start_time": "2022-09-22T09:16:47.627Z"
   },
   {
    "duration": 6,
    "start_time": "2022-09-22T09:39:06.986Z"
   },
   {
    "duration": 6,
    "start_time": "2022-09-22T09:40:49.667Z"
   },
   {
    "duration": 2,
    "start_time": "2022-09-22T09:44:02.611Z"
   },
   {
    "duration": 63,
    "start_time": "2022-09-22T09:44:02.615Z"
   },
   {
    "duration": 13,
    "start_time": "2022-09-22T09:44:02.680Z"
   },
   {
    "duration": 21,
    "start_time": "2022-09-22T09:44:02.694Z"
   },
   {
    "duration": 5,
    "start_time": "2022-09-22T09:44:02.717Z"
   },
   {
    "duration": 9,
    "start_time": "2022-09-22T09:44:02.723Z"
   },
   {
    "duration": 8,
    "start_time": "2022-09-22T09:44:02.733Z"
   },
   {
    "duration": 2,
    "start_time": "2022-09-22T09:52:28.307Z"
   },
   {
    "duration": 70,
    "start_time": "2022-09-22T09:52:28.311Z"
   },
   {
    "duration": 14,
    "start_time": "2022-09-22T09:52:28.383Z"
   },
   {
    "duration": 16,
    "start_time": "2022-09-22T09:52:28.399Z"
   },
   {
    "duration": 5,
    "start_time": "2022-09-22T09:52:28.417Z"
   },
   {
    "duration": 36,
    "start_time": "2022-09-22T09:52:31.318Z"
   },
   {
    "duration": 3,
    "start_time": "2022-09-22T09:53:17.087Z"
   },
   {
    "duration": 80,
    "start_time": "2022-09-22T09:53:17.093Z"
   },
   {
    "duration": 16,
    "start_time": "2022-09-22T09:53:17.175Z"
   },
   {
    "duration": 20,
    "start_time": "2022-09-22T09:53:17.194Z"
   },
   {
    "duration": 6,
    "start_time": "2022-09-22T09:53:17.217Z"
   },
   {
    "duration": 9,
    "start_time": "2022-09-22T09:53:17.225Z"
   },
   {
    "duration": 9,
    "start_time": "2022-09-22T09:53:23.459Z"
   },
   {
    "duration": 74,
    "start_time": "2022-09-22T10:03:24.801Z"
   },
   {
    "duration": 3,
    "start_time": "2022-09-22T10:04:57.060Z"
   },
   {
    "duration": 68,
    "start_time": "2022-09-22T10:04:57.065Z"
   },
   {
    "duration": 14,
    "start_time": "2022-09-22T10:04:57.134Z"
   },
   {
    "duration": 20,
    "start_time": "2022-09-22T10:04:57.150Z"
   },
   {
    "duration": 4,
    "start_time": "2022-09-22T10:04:57.172Z"
   },
   {
    "duration": 23,
    "start_time": "2022-09-22T10:05:00.611Z"
   },
   {
    "duration": 8,
    "start_time": "2022-09-22T10:05:15.161Z"
   },
   {
    "duration": 7,
    "start_time": "2022-09-22T10:05:27.971Z"
   },
   {
    "duration": 7,
    "start_time": "2022-09-22T10:06:43.896Z"
   },
   {
    "duration": 6,
    "start_time": "2022-09-22T10:07:06.057Z"
   },
   {
    "duration": 2,
    "start_time": "2022-09-22T10:09:28.717Z"
   },
   {
    "duration": 67,
    "start_time": "2022-09-22T10:09:28.721Z"
   },
   {
    "duration": 17,
    "start_time": "2022-09-22T10:09:28.790Z"
   },
   {
    "duration": 20,
    "start_time": "2022-09-22T10:09:28.808Z"
   },
   {
    "duration": 6,
    "start_time": "2022-09-22T10:09:28.829Z"
   },
   {
    "duration": 8,
    "start_time": "2022-09-22T10:09:28.840Z"
   },
   {
    "duration": 12,
    "start_time": "2022-09-22T10:09:33.416Z"
   },
   {
    "duration": 22,
    "start_time": "2022-09-22T10:12:11.946Z"
   },
   {
    "duration": 539,
    "start_time": "2022-09-22T10:13:02.861Z"
   },
   {
    "duration": 768,
    "start_time": "2022-09-22T10:13:23.049Z"
   },
   {
    "duration": 811,
    "start_time": "2022-09-22T10:15:15.142Z"
   },
   {
    "duration": 11,
    "start_time": "2022-09-22T11:04:10.208Z"
   },
   {
    "duration": 14,
    "start_time": "2022-09-22T11:07:10.468Z"
   },
   {
    "duration": 8,
    "start_time": "2022-09-22T11:07:27.175Z"
   },
   {
    "duration": 14,
    "start_time": "2022-09-22T11:08:18.957Z"
   },
   {
    "duration": 3,
    "start_time": "2022-09-22T11:08:40.167Z"
   },
   {
    "duration": 65,
    "start_time": "2022-09-22T11:08:40.172Z"
   },
   {
    "duration": 15,
    "start_time": "2022-09-22T11:08:40.239Z"
   },
   {
    "duration": 16,
    "start_time": "2022-09-22T11:08:40.256Z"
   },
   {
    "duration": 23,
    "start_time": "2022-09-22T11:08:40.273Z"
   },
   {
    "duration": 9,
    "start_time": "2022-09-22T11:08:40.299Z"
   },
   {
    "duration": 9,
    "start_time": "2022-09-22T11:08:40.310Z"
   },
   {
    "duration": 5,
    "start_time": "2022-09-22T11:08:40.321Z"
   },
   {
    "duration": 11,
    "start_time": "2022-09-22T11:08:40.328Z"
   },
   {
    "duration": 22,
    "start_time": "2022-09-22T11:08:40.341Z"
   },
   {
    "duration": 2,
    "start_time": "2022-09-22T11:09:19.726Z"
   },
   {
    "duration": 72,
    "start_time": "2022-09-22T11:09:19.730Z"
   },
   {
    "duration": 13,
    "start_time": "2022-09-22T11:09:19.804Z"
   },
   {
    "duration": 14,
    "start_time": "2022-09-22T11:09:19.819Z"
   },
   {
    "duration": 8,
    "start_time": "2022-09-22T11:09:19.834Z"
   },
   {
    "duration": 8,
    "start_time": "2022-09-22T11:09:19.844Z"
   },
   {
    "duration": 11,
    "start_time": "2022-09-22T11:09:19.853Z"
   },
   {
    "duration": 5,
    "start_time": "2022-09-22T11:09:19.865Z"
   },
   {
    "duration": 16,
    "start_time": "2022-09-22T11:09:19.896Z"
   },
   {
    "duration": 0,
    "start_time": "2022-09-22T11:09:19.913Z"
   },
   {
    "duration": 3,
    "start_time": "2022-09-22T11:09:31.597Z"
   },
   {
    "duration": 77,
    "start_time": "2022-09-22T11:09:31.602Z"
   },
   {
    "duration": 13,
    "start_time": "2022-09-22T11:09:31.680Z"
   },
   {
    "duration": 20,
    "start_time": "2022-09-22T11:09:31.696Z"
   },
   {
    "duration": 6,
    "start_time": "2022-09-22T11:09:31.717Z"
   },
   {
    "duration": 19,
    "start_time": "2022-09-22T11:09:31.724Z"
   },
   {
    "duration": 17,
    "start_time": "2022-09-22T11:09:31.745Z"
   },
   {
    "duration": 5,
    "start_time": "2022-09-22T11:09:31.764Z"
   },
   {
    "duration": 29,
    "start_time": "2022-09-22T11:09:31.771Z"
   },
   {
    "duration": 0,
    "start_time": "2022-09-22T11:09:31.802Z"
   },
   {
    "duration": 3,
    "start_time": "2022-09-22T11:10:36.329Z"
   },
   {
    "duration": 65,
    "start_time": "2022-09-22T11:10:36.336Z"
   },
   {
    "duration": 13,
    "start_time": "2022-09-22T11:10:36.402Z"
   },
   {
    "duration": 15,
    "start_time": "2022-09-22T11:10:36.417Z"
   },
   {
    "duration": 9,
    "start_time": "2022-09-22T11:10:36.434Z"
   },
   {
    "duration": 10,
    "start_time": "2022-09-22T11:10:36.444Z"
   },
   {
    "duration": 41,
    "start_time": "2022-09-22T11:10:36.456Z"
   },
   {
    "duration": 7,
    "start_time": "2022-09-22T11:10:36.499Z"
   },
   {
    "duration": 43,
    "start_time": "2022-09-22T11:10:36.508Z"
   },
   {
    "duration": 0,
    "start_time": "2022-09-22T11:10:36.553Z"
   },
   {
    "duration": 2,
    "start_time": "2022-09-22T11:11:17.344Z"
   },
   {
    "duration": 67,
    "start_time": "2022-09-22T11:11:17.379Z"
   },
   {
    "duration": 15,
    "start_time": "2022-09-22T11:11:17.448Z"
   },
   {
    "duration": 30,
    "start_time": "2022-09-22T11:11:17.465Z"
   },
   {
    "duration": 11,
    "start_time": "2022-09-22T11:11:17.497Z"
   },
   {
    "duration": 16,
    "start_time": "2022-09-22T11:11:17.510Z"
   },
   {
    "duration": 25,
    "start_time": "2022-09-22T11:11:17.528Z"
   },
   {
    "duration": 17,
    "start_time": "2022-09-22T11:11:17.554Z"
   },
   {
    "duration": 32,
    "start_time": "2022-09-22T11:11:17.573Z"
   },
   {
    "duration": 25,
    "start_time": "2022-09-22T11:11:17.607Z"
   },
   {
    "duration": 8,
    "start_time": "2022-09-22T11:11:32.300Z"
   },
   {
    "duration": 7,
    "start_time": "2022-09-22T11:12:23.949Z"
   },
   {
    "duration": 3,
    "start_time": "2022-09-22T11:14:18.939Z"
   },
   {
    "duration": 69,
    "start_time": "2022-09-22T11:14:18.944Z"
   },
   {
    "duration": 15,
    "start_time": "2022-09-22T11:14:19.014Z"
   },
   {
    "duration": 17,
    "start_time": "2022-09-22T11:14:19.031Z"
   },
   {
    "duration": 5,
    "start_time": "2022-09-22T11:14:19.050Z"
   },
   {
    "duration": 10,
    "start_time": "2022-09-22T11:14:19.056Z"
   },
   {
    "duration": 11,
    "start_time": "2022-09-22T11:14:19.110Z"
   },
   {
    "duration": 6,
    "start_time": "2022-09-22T11:14:19.122Z"
   },
   {
    "duration": 7,
    "start_time": "2022-09-22T11:14:21.219Z"
   },
   {
    "duration": 8,
    "start_time": "2022-09-22T11:18:09.038Z"
   },
   {
    "duration": 6,
    "start_time": "2022-09-22T11:18:17.817Z"
   },
   {
    "duration": 7,
    "start_time": "2022-09-22T11:18:22.608Z"
   },
   {
    "duration": 9,
    "start_time": "2022-09-22T11:18:40.095Z"
   },
   {
    "duration": 8,
    "start_time": "2022-09-22T11:18:53.543Z"
   },
   {
    "duration": 3,
    "start_time": "2022-09-22T11:19:58.454Z"
   },
   {
    "duration": 71,
    "start_time": "2022-09-22T11:19:58.460Z"
   },
   {
    "duration": 15,
    "start_time": "2022-09-22T11:19:58.533Z"
   },
   {
    "duration": 15,
    "start_time": "2022-09-22T11:19:58.550Z"
   },
   {
    "duration": 9,
    "start_time": "2022-09-22T11:19:58.567Z"
   },
   {
    "duration": 37,
    "start_time": "2022-09-22T11:19:58.578Z"
   },
   {
    "duration": 10,
    "start_time": "2022-09-22T11:19:58.669Z"
   },
   {
    "duration": 5,
    "start_time": "2022-09-22T11:19:58.681Z"
   },
   {
    "duration": 30,
    "start_time": "2022-09-22T11:19:58.687Z"
   },
   {
    "duration": 5,
    "start_time": "2022-09-22T11:19:58.718Z"
   },
   {
    "duration": 13,
    "start_time": "2022-09-22T11:19:58.725Z"
   },
   {
    "duration": 7,
    "start_time": "2022-09-22T11:20:29.449Z"
   },
   {
    "duration": 6,
    "start_time": "2022-09-22T11:20:30.819Z"
   },
   {
    "duration": 4,
    "start_time": "2022-09-22T11:21:04.274Z"
   },
   {
    "duration": 85,
    "start_time": "2022-09-22T11:21:04.285Z"
   },
   {
    "duration": 16,
    "start_time": "2022-09-22T11:21:04.373Z"
   },
   {
    "duration": 28,
    "start_time": "2022-09-22T11:21:04.392Z"
   },
   {
    "duration": 7,
    "start_time": "2022-09-22T11:21:04.424Z"
   },
   {
    "duration": 17,
    "start_time": "2022-09-22T11:21:04.433Z"
   },
   {
    "duration": 17,
    "start_time": "2022-09-22T11:21:04.452Z"
   },
   {
    "duration": 7,
    "start_time": "2022-09-22T11:21:04.471Z"
   },
   {
    "duration": 36,
    "start_time": "2022-09-22T11:21:04.496Z"
   },
   {
    "duration": 20,
    "start_time": "2022-09-22T11:21:04.534Z"
   },
   {
    "duration": 10,
    "start_time": "2022-09-22T11:28:51.995Z"
   },
   {
    "duration": 10,
    "start_time": "2022-09-22T11:28:59.386Z"
   },
   {
    "duration": 13,
    "start_time": "2022-09-22T11:29:03.439Z"
   },
   {
    "duration": 7,
    "start_time": "2022-09-22T11:33:40.186Z"
   },
   {
    "duration": 82,
    "start_time": "2022-09-22T11:39:28.425Z"
   },
   {
    "duration": 17,
    "start_time": "2022-09-22T11:40:54.213Z"
   },
   {
    "duration": 16,
    "start_time": "2022-09-22T11:41:34.605Z"
   },
   {
    "duration": 1858,
    "start_time": "2022-09-22T11:43:25.113Z"
   },
   {
    "duration": 124,
    "start_time": "2022-09-22T11:43:45.945Z"
   },
   {
    "duration": 140,
    "start_time": "2022-09-22T11:44:08.233Z"
   },
   {
    "duration": 142,
    "start_time": "2022-09-22T11:44:08.723Z"
   },
   {
    "duration": 189,
    "start_time": "2022-09-22T11:44:42.166Z"
   },
   {
    "duration": 177,
    "start_time": "2022-09-22T11:44:49.079Z"
   },
   {
    "duration": 197,
    "start_time": "2022-09-22T11:46:14.157Z"
   },
   {
    "duration": 168,
    "start_time": "2022-09-22T11:46:24.353Z"
   },
   {
    "duration": 157,
    "start_time": "2022-09-22T11:46:49.995Z"
   },
   {
    "duration": 318,
    "start_time": "2022-09-22T11:49:03.592Z"
   },
   {
    "duration": 860,
    "start_time": "2022-09-22T11:49:36.177Z"
   },
   {
    "duration": 12,
    "start_time": "2022-09-22T11:51:44.309Z"
   },
   {
    "duration": 234,
    "start_time": "2022-09-22T11:51:50.913Z"
   },
   {
    "duration": 364,
    "start_time": "2022-09-22T11:52:53.650Z"
   },
   {
    "duration": 313,
    "start_time": "2022-09-22T11:53:19.709Z"
   },
   {
    "duration": 138,
    "start_time": "2022-09-22T11:56:56.323Z"
   },
   {
    "duration": 183,
    "start_time": "2022-09-22T11:57:10.075Z"
   },
   {
    "duration": 178,
    "start_time": "2022-09-22T11:57:27.205Z"
   },
   {
    "duration": 32,
    "start_time": "2022-09-22T11:58:18.175Z"
   },
   {
    "duration": 9,
    "start_time": "2022-09-22T11:58:51.249Z"
   },
   {
    "duration": 7,
    "start_time": "2022-09-22T11:59:08.528Z"
   },
   {
    "duration": 7,
    "start_time": "2022-09-22T11:59:13.638Z"
   },
   {
    "duration": 177,
    "start_time": "2022-09-22T11:59:22.378Z"
   },
   {
    "duration": 302,
    "start_time": "2022-09-22T12:00:31.276Z"
   },
   {
    "duration": 197,
    "start_time": "2022-09-22T12:00:43.913Z"
   },
   {
    "duration": 76,
    "start_time": "2022-09-22T12:00:58.899Z"
   },
   {
    "duration": 182,
    "start_time": "2022-09-22T12:01:05.440Z"
   },
   {
    "duration": 206,
    "start_time": "2022-09-22T12:01:37.390Z"
   },
   {
    "duration": 221,
    "start_time": "2022-09-22T12:02:03.131Z"
   },
   {
    "duration": 214,
    "start_time": "2022-09-22T12:02:26.817Z"
   },
   {
    "duration": 212,
    "start_time": "2022-09-22T12:02:50.761Z"
   },
   {
    "duration": 179,
    "start_time": "2022-09-22T12:02:58.976Z"
   },
   {
    "duration": 194,
    "start_time": "2022-09-22T12:03:08.888Z"
   },
   {
    "duration": 283,
    "start_time": "2022-09-22T12:03:37.802Z"
   },
   {
    "duration": 6,
    "start_time": "2022-09-22T12:05:32.297Z"
   },
   {
    "duration": 8,
    "start_time": "2022-09-22T12:21:25.385Z"
   },
   {
    "duration": 8,
    "start_time": "2022-09-22T12:21:46.076Z"
   },
   {
    "duration": 124,
    "start_time": "2022-09-22T12:22:25.942Z"
   },
   {
    "duration": 7,
    "start_time": "2022-09-22T12:23:48.705Z"
   },
   {
    "duration": 1307,
    "start_time": "2022-09-22T16:59:09.667Z"
   },
   {
    "duration": 196,
    "start_time": "2022-09-22T16:59:10.977Z"
   },
   {
    "duration": 14,
    "start_time": "2022-09-22T16:59:11.175Z"
   },
   {
    "duration": 15,
    "start_time": "2022-09-22T16:59:11.191Z"
   },
   {
    "duration": 4,
    "start_time": "2022-09-22T16:59:11.209Z"
   },
   {
    "duration": 9,
    "start_time": "2022-09-22T16:59:11.215Z"
   },
   {
    "duration": 11,
    "start_time": "2022-09-22T16:59:11.226Z"
   },
   {
    "duration": 5,
    "start_time": "2022-09-22T16:59:11.238Z"
   },
   {
    "duration": 12,
    "start_time": "2022-09-22T16:59:11.244Z"
   },
   {
    "duration": 46,
    "start_time": "2022-09-22T16:59:11.257Z"
   },
   {
    "duration": 16,
    "start_time": "2022-09-22T16:59:11.305Z"
   },
   {
    "duration": 207,
    "start_time": "2022-09-22T16:59:11.322Z"
   },
   {
    "duration": 10,
    "start_time": "2022-09-22T16:59:11.531Z"
   },
   {
    "duration": 140,
    "start_time": "2022-09-22T16:59:11.543Z"
   },
   {
    "duration": 20,
    "start_time": "2022-09-22T17:09:26.526Z"
   },
   {
    "duration": 17,
    "start_time": "2022-09-22T17:09:53.784Z"
   },
   {
    "duration": 16,
    "start_time": "2022-09-22T17:10:08.282Z"
   },
   {
    "duration": 138,
    "start_time": "2022-09-22T17:12:08.221Z"
   },
   {
    "duration": 166,
    "start_time": "2022-09-22T17:12:44.050Z"
   },
   {
    "duration": 17,
    "start_time": "2022-09-22T17:13:07.694Z"
   },
   {
    "duration": 72,
    "start_time": "2022-09-22T17:15:34.935Z"
   },
   {
    "duration": 294,
    "start_time": "2022-09-22T17:19:56.928Z"
   },
   {
    "duration": 289,
    "start_time": "2022-09-22T17:20:08.494Z"
   },
   {
    "duration": 15,
    "start_time": "2022-09-22T17:22:17.585Z"
   },
   {
    "duration": 280,
    "start_time": "2022-09-22T17:22:28.634Z"
   },
   {
    "duration": 751,
    "start_time": "2022-09-22T17:25:56.881Z"
   },
   {
    "duration": 139,
    "start_time": "2022-09-22T17:26:27.500Z"
   },
   {
    "duration": 143,
    "start_time": "2022-09-22T17:26:56.843Z"
   },
   {
    "duration": 284,
    "start_time": "2022-09-22T17:27:54.730Z"
   },
   {
    "duration": 290,
    "start_time": "2022-09-22T17:28:40.894Z"
   },
   {
    "duration": 343,
    "start_time": "2022-09-22T17:28:59.334Z"
   },
   {
    "duration": 75,
    "start_time": "2022-09-22T17:29:27.136Z"
   },
   {
    "duration": 108,
    "start_time": "2022-09-22T17:29:35.233Z"
   },
   {
    "duration": 12,
    "start_time": "2022-09-22T17:29:50.045Z"
   },
   {
    "duration": 11,
    "start_time": "2022-09-22T17:30:45.911Z"
   },
   {
    "duration": 22,
    "start_time": "2022-09-22T17:31:19.024Z"
   },
   {
    "duration": 14,
    "start_time": "2022-09-22T17:31:22.900Z"
   },
   {
    "duration": 786,
    "start_time": "2022-09-22T17:31:43.182Z"
   },
   {
    "duration": 176,
    "start_time": "2022-09-22T17:32:30.692Z"
   },
   {
    "duration": 124,
    "start_time": "2022-09-22T17:34:02.084Z"
   },
   {
    "duration": 122,
    "start_time": "2022-09-22T17:35:26.238Z"
   },
   {
    "duration": 3,
    "start_time": "2022-09-22T17:41:04.169Z"
   },
   {
    "duration": 62,
    "start_time": "2022-09-22T17:41:04.174Z"
   },
   {
    "duration": 13,
    "start_time": "2022-09-22T17:41:04.238Z"
   },
   {
    "duration": 14,
    "start_time": "2022-09-22T17:41:04.253Z"
   },
   {
    "duration": 5,
    "start_time": "2022-09-22T17:41:04.269Z"
   },
   {
    "duration": 20,
    "start_time": "2022-09-22T17:41:04.276Z"
   },
   {
    "duration": 16,
    "start_time": "2022-09-22T17:41:04.297Z"
   },
   {
    "duration": 5,
    "start_time": "2022-09-22T17:41:04.315Z"
   },
   {
    "duration": 11,
    "start_time": "2022-09-22T17:41:04.321Z"
   },
   {
    "duration": 13,
    "start_time": "2022-09-22T17:41:04.334Z"
   },
   {
    "duration": 16,
    "start_time": "2022-09-22T17:41:04.348Z"
   },
   {
    "duration": 185,
    "start_time": "2022-09-22T17:41:04.396Z"
   },
   {
    "duration": 18,
    "start_time": "2022-09-22T17:41:04.582Z"
   },
   {
    "duration": 297,
    "start_time": "2022-09-22T17:41:04.602Z"
   },
   {
    "duration": 848,
    "start_time": "2022-09-22T17:41:04.901Z"
   },
   {
    "duration": 1023,
    "start_time": "2022-09-22T17:42:04.149Z"
   },
   {
    "duration": 823,
    "start_time": "2022-09-22T17:42:43.791Z"
   },
   {
    "duration": 959,
    "start_time": "2022-09-22T17:43:04.146Z"
   },
   {
    "duration": 1038,
    "start_time": "2022-09-22T17:43:26.482Z"
   },
   {
    "duration": 70,
    "start_time": "2022-09-22T17:47:21.462Z"
   },
   {
    "duration": 74,
    "start_time": "2022-09-22T17:48:47.704Z"
   },
   {
    "duration": 1566,
    "start_time": "2022-09-22T17:49:02.029Z"
   },
   {
    "duration": 2407,
    "start_time": "2022-09-22T17:49:52.103Z"
   },
   {
    "duration": 75,
    "start_time": "2022-09-22T17:50:07.465Z"
   },
   {
    "duration": 1023,
    "start_time": "2022-09-22T17:50:22.514Z"
   },
   {
    "duration": 118,
    "start_time": "2022-09-22T18:31:56.216Z"
   },
   {
    "duration": 133,
    "start_time": "2022-09-22T18:32:22.764Z"
   },
   {
    "duration": 16,
    "start_time": "2022-09-22T18:32:37.175Z"
   },
   {
    "duration": 14,
    "start_time": "2022-09-22T18:33:20.936Z"
   },
   {
    "duration": 14,
    "start_time": "2022-09-22T18:33:37.216Z"
   },
   {
    "duration": 151,
    "start_time": "2022-09-22T18:33:58.187Z"
   },
   {
    "duration": 10,
    "start_time": "2022-09-22T18:35:13.656Z"
   },
   {
    "duration": 277,
    "start_time": "2022-09-22T18:35:23.676Z"
   },
   {
    "duration": 137,
    "start_time": "2022-09-22T18:36:11.382Z"
   },
   {
    "duration": 147,
    "start_time": "2022-09-22T18:37:19.636Z"
   },
   {
    "duration": 172,
    "start_time": "2022-09-22T18:37:30.438Z"
   },
   {
    "duration": 259,
    "start_time": "2022-09-22T18:38:05.117Z"
   },
   {
    "duration": 238,
    "start_time": "2022-09-22T18:38:52.927Z"
   },
   {
    "duration": 136,
    "start_time": "2022-09-22T18:39:19.209Z"
   },
   {
    "duration": 153,
    "start_time": "2022-09-22T18:39:33.940Z"
   },
   {
    "duration": 138,
    "start_time": "2022-09-22T18:42:08.906Z"
   },
   {
    "duration": 149,
    "start_time": "2022-09-22T18:42:26.928Z"
   },
   {
    "duration": 154,
    "start_time": "2022-09-22T18:43:19.807Z"
   },
   {
    "duration": 145,
    "start_time": "2022-09-22T18:43:55.327Z"
   },
   {
    "duration": 1125,
    "start_time": "2022-09-22T18:55:15.055Z"
   },
   {
    "duration": 10,
    "start_time": "2022-09-22T19:08:27.751Z"
   },
   {
    "duration": 18,
    "start_time": "2022-09-22T19:08:38.014Z"
   },
   {
    "duration": 6,
    "start_time": "2022-09-22T19:09:00.139Z"
   },
   {
    "duration": 15,
    "start_time": "2022-09-22T19:13:09.122Z"
   },
   {
    "duration": 1665,
    "start_time": "2022-09-22T19:15:49.090Z"
   },
   {
    "duration": 1075,
    "start_time": "2022-09-22T19:16:25.232Z"
   },
   {
    "duration": 4,
    "start_time": "2022-09-22T19:20:12.243Z"
   },
   {
    "duration": 20,
    "start_time": "2022-09-22T19:20:23.216Z"
   },
   {
    "duration": 2301,
    "start_time": "2022-09-22T19:22:56.958Z"
   },
   {
    "duration": 3,
    "start_time": "2022-09-22T19:27:09.199Z"
   },
   {
    "duration": 74,
    "start_time": "2022-09-22T19:27:09.227Z"
   },
   {
    "duration": 13,
    "start_time": "2022-09-22T19:27:09.346Z"
   },
   {
    "duration": 33,
    "start_time": "2022-09-22T19:27:09.377Z"
   },
   {
    "duration": 11,
    "start_time": "2022-09-22T19:27:09.430Z"
   },
   {
    "duration": 11,
    "start_time": "2022-09-22T19:27:09.457Z"
   },
   {
    "duration": 11,
    "start_time": "2022-09-22T19:27:09.495Z"
   },
   {
    "duration": 7,
    "start_time": "2022-09-22T19:27:09.532Z"
   },
   {
    "duration": 17,
    "start_time": "2022-09-22T19:27:09.558Z"
   },
   {
    "duration": 26,
    "start_time": "2022-09-22T19:27:09.596Z"
   },
   {
    "duration": 21,
    "start_time": "2022-09-22T19:27:09.637Z"
   },
   {
    "duration": 168,
    "start_time": "2022-09-22T19:27:09.679Z"
   },
   {
    "duration": 287,
    "start_time": "2022-09-22T19:27:10.031Z"
   },
   {
    "duration": 1061,
    "start_time": "2022-09-22T19:27:10.606Z"
   },
   {
    "duration": 6,
    "start_time": "2022-09-22T19:27:12.664Z"
   },
   {
    "duration": 1182,
    "start_time": "2022-09-22T19:27:12.680Z"
   },
   {
    "duration": 256,
    "start_time": "2022-09-22T19:27:15.152Z"
   },
   {
    "duration": 8,
    "start_time": "2022-09-22T19:31:53.650Z"
   },
   {
    "duration": 40,
    "start_time": "2022-09-25T08:29:42.021Z"
   },
   {
    "duration": 1268,
    "start_time": "2022-09-25T08:29:45.379Z"
   },
   {
    "duration": 188,
    "start_time": "2022-09-25T08:29:46.649Z"
   },
   {
    "duration": 13,
    "start_time": "2022-09-25T08:29:46.839Z"
   },
   {
    "duration": 17,
    "start_time": "2022-09-25T08:29:46.854Z"
   },
   {
    "duration": 4,
    "start_time": "2022-09-25T08:29:46.873Z"
   },
   {
    "duration": 8,
    "start_time": "2022-09-25T08:29:46.879Z"
   },
   {
    "duration": 9,
    "start_time": "2022-09-25T08:29:46.888Z"
   },
   {
    "duration": 24,
    "start_time": "2022-09-25T08:29:46.898Z"
   },
   {
    "duration": 11,
    "start_time": "2022-09-25T08:29:46.923Z"
   },
   {
    "duration": 11,
    "start_time": "2022-09-25T08:29:46.935Z"
   },
   {
    "duration": 14,
    "start_time": "2022-09-25T08:29:46.947Z"
   },
   {
    "duration": 165,
    "start_time": "2022-09-25T08:29:46.962Z"
   },
   {
    "duration": 243,
    "start_time": "2022-09-25T08:29:47.128Z"
   },
   {
    "duration": 878,
    "start_time": "2022-09-25T08:29:47.373Z"
   },
   {
    "duration": 4,
    "start_time": "2022-09-25T08:29:48.253Z"
   },
   {
    "duration": 935,
    "start_time": "2022-09-25T08:29:48.258Z"
   },
   {
    "duration": 256,
    "start_time": "2022-09-25T08:29:49.194Z"
   },
   {
    "duration": 192,
    "start_time": "2022-09-25T08:30:59.683Z"
   },
   {
    "duration": 211,
    "start_time": "2022-09-25T08:31:11.820Z"
   },
   {
    "duration": 259,
    "start_time": "2022-09-25T08:35:31.505Z"
   },
   {
    "duration": 247,
    "start_time": "2022-09-25T08:35:45.419Z"
   },
   {
    "duration": 181,
    "start_time": "2022-09-25T08:38:21.900Z"
   },
   {
    "duration": 74,
    "start_time": "2022-09-25T08:42:11.600Z"
   },
   {
    "duration": 13,
    "start_time": "2022-09-25T08:43:29.499Z"
   },
   {
    "duration": 16,
    "start_time": "2022-09-25T08:43:51.627Z"
   },
   {
    "duration": 269,
    "start_time": "2022-09-25T08:45:33.015Z"
   },
   {
    "duration": 184,
    "start_time": "2022-09-25T08:45:46.606Z"
   },
   {
    "duration": 187,
    "start_time": "2022-09-25T08:47:59.850Z"
   },
   {
    "duration": 190,
    "start_time": "2022-09-25T08:48:02.652Z"
   },
   {
    "duration": 200,
    "start_time": "2022-09-25T08:50:24.155Z"
   },
   {
    "duration": 277,
    "start_time": "2022-09-25T08:51:46.648Z"
   },
   {
    "duration": 210,
    "start_time": "2022-09-25T09:00:52.584Z"
   },
   {
    "duration": 208,
    "start_time": "2022-09-25T09:01:14.164Z"
   },
   {
    "duration": 6,
    "start_time": "2022-09-25T09:14:23.150Z"
   },
   {
    "duration": 18,
    "start_time": "2022-09-25T09:20:05.892Z"
   },
   {
    "duration": 168,
    "start_time": "2022-09-25T09:21:06.272Z"
   },
   {
    "duration": 4,
    "start_time": "2022-09-25T09:22:57.110Z"
   },
   {
    "duration": 5,
    "start_time": "2022-09-25T09:23:40.619Z"
   },
   {
    "duration": 125,
    "start_time": "2022-09-25T09:24:19.719Z"
   },
   {
    "duration": 129,
    "start_time": "2022-09-25T09:29:27.401Z"
   },
   {
    "duration": 124,
    "start_time": "2022-09-25T09:29:53.191Z"
   },
   {
    "duration": 41,
    "start_time": "2022-09-25T16:25:40.864Z"
   },
   {
    "duration": 1220,
    "start_time": "2022-09-25T16:25:46.273Z"
   },
   {
    "duration": 186,
    "start_time": "2022-09-25T16:25:47.495Z"
   },
   {
    "duration": 20,
    "start_time": "2022-09-25T16:25:47.683Z"
   },
   {
    "duration": 20,
    "start_time": "2022-09-25T16:25:47.705Z"
   },
   {
    "duration": 4,
    "start_time": "2022-09-25T16:25:47.727Z"
   },
   {
    "duration": 8,
    "start_time": "2022-09-25T16:25:47.733Z"
   },
   {
    "duration": 9,
    "start_time": "2022-09-25T16:25:47.742Z"
   },
   {
    "duration": 7,
    "start_time": "2022-09-25T16:25:47.753Z"
   },
   {
    "duration": 12,
    "start_time": "2022-09-25T16:25:47.761Z"
   },
   {
    "duration": 14,
    "start_time": "2022-09-25T16:25:47.774Z"
   },
   {
    "duration": 47,
    "start_time": "2022-09-25T16:25:47.790Z"
   },
   {
    "duration": 170,
    "start_time": "2022-09-25T16:25:47.839Z"
   },
   {
    "duration": 227,
    "start_time": "2022-09-25T16:25:48.010Z"
   },
   {
    "duration": 889,
    "start_time": "2022-09-25T16:25:48.239Z"
   },
   {
    "duration": 4,
    "start_time": "2022-09-25T16:25:49.130Z"
   },
   {
    "duration": 1033,
    "start_time": "2022-09-25T16:25:49.136Z"
   },
   {
    "duration": 265,
    "start_time": "2022-09-25T16:25:50.171Z"
   },
   {
    "duration": 139,
    "start_time": "2022-09-25T16:25:50.438Z"
   },
   {
    "duration": 128,
    "start_time": "2022-09-25T16:27:48.865Z"
   },
   {
    "duration": 6,
    "start_time": "2022-09-25T16:27:58.744Z"
   },
   {
    "duration": 73,
    "start_time": "2022-09-25T16:28:55.037Z"
   },
   {
    "duration": 3,
    "start_time": "2022-09-25T16:32:40.137Z"
   },
   {
    "duration": 3,
    "start_time": "2022-09-25T16:32:44.097Z"
   },
   {
    "duration": 75,
    "start_time": "2022-09-25T16:32:44.103Z"
   },
   {
    "duration": 13,
    "start_time": "2022-09-25T16:32:44.180Z"
   },
   {
    "duration": 15,
    "start_time": "2022-09-25T16:32:44.195Z"
   },
   {
    "duration": 14,
    "start_time": "2022-09-25T16:32:44.211Z"
   },
   {
    "duration": 8,
    "start_time": "2022-09-25T16:32:44.227Z"
   },
   {
    "duration": 10,
    "start_time": "2022-09-25T16:32:44.236Z"
   },
   {
    "duration": 5,
    "start_time": "2022-09-25T16:32:44.247Z"
   },
   {
    "duration": 11,
    "start_time": "2022-09-25T16:32:44.255Z"
   },
   {
    "duration": 12,
    "start_time": "2022-09-25T16:32:44.267Z"
   },
   {
    "duration": 43,
    "start_time": "2022-09-25T16:32:44.280Z"
   },
   {
    "duration": 148,
    "start_time": "2022-09-25T16:32:44.324Z"
   },
   {
    "duration": 277,
    "start_time": "2022-09-25T16:32:44.473Z"
   },
   {
    "duration": 1043,
    "start_time": "2022-09-25T16:32:44.752Z"
   },
   {
    "duration": 6,
    "start_time": "2022-09-25T16:32:45.797Z"
   },
   {
    "duration": 1183,
    "start_time": "2022-09-25T16:32:45.804Z"
   },
   {
    "duration": 3,
    "start_time": "2022-09-25T16:32:46.989Z"
   },
   {
    "duration": 298,
    "start_time": "2022-09-25T16:32:46.993Z"
   },
   {
    "duration": 146,
    "start_time": "2022-09-25T16:32:47.292Z"
   },
   {
    "duration": 4,
    "start_time": "2022-09-25T16:32:47.440Z"
   },
   {
    "duration": 138,
    "start_time": "2022-09-25T16:32:47.445Z"
   },
   {
    "duration": 5,
    "start_time": "2022-09-25T16:32:47.585Z"
   },
   {
    "duration": 6,
    "start_time": "2022-09-25T16:33:08.906Z"
   },
   {
    "duration": 3,
    "start_time": "2022-09-25T16:33:32.766Z"
   },
   {
    "duration": 65,
    "start_time": "2022-09-25T16:33:32.771Z"
   },
   {
    "duration": 13,
    "start_time": "2022-09-25T16:33:32.838Z"
   },
   {
    "duration": 17,
    "start_time": "2022-09-25T16:33:32.854Z"
   },
   {
    "duration": 5,
    "start_time": "2022-09-25T16:33:32.873Z"
   },
   {
    "duration": 13,
    "start_time": "2022-09-25T16:33:32.879Z"
   },
   {
    "duration": 30,
    "start_time": "2022-09-25T16:33:32.893Z"
   },
   {
    "duration": 4,
    "start_time": "2022-09-25T16:33:32.925Z"
   },
   {
    "duration": 11,
    "start_time": "2022-09-25T16:33:32.931Z"
   },
   {
    "duration": 13,
    "start_time": "2022-09-25T16:33:32.944Z"
   },
   {
    "duration": 15,
    "start_time": "2022-09-25T16:33:32.959Z"
   },
   {
    "duration": 180,
    "start_time": "2022-09-25T16:33:32.976Z"
   },
   {
    "duration": 308,
    "start_time": "2022-09-25T16:33:33.157Z"
   },
   {
    "duration": 978,
    "start_time": "2022-09-25T16:33:33.467Z"
   },
   {
    "duration": 6,
    "start_time": "2022-09-25T16:33:34.447Z"
   },
   {
    "duration": 1052,
    "start_time": "2022-09-25T16:33:34.454Z"
   },
   {
    "duration": 15,
    "start_time": "2022-09-25T16:33:35.507Z"
   },
   {
    "duration": 314,
    "start_time": "2022-09-25T16:33:35.524Z"
   },
   {
    "duration": 155,
    "start_time": "2022-09-25T16:33:35.839Z"
   },
   {
    "duration": 6,
    "start_time": "2022-09-25T16:33:35.996Z"
   },
   {
    "duration": 205,
    "start_time": "2022-09-25T16:33:36.004Z"
   },
   {
    "duration": 12,
    "start_time": "2022-09-25T16:33:36.211Z"
   },
   {
    "duration": 3,
    "start_time": "2022-09-25T16:34:25.019Z"
   },
   {
    "duration": 62,
    "start_time": "2022-09-25T16:34:25.024Z"
   },
   {
    "duration": 11,
    "start_time": "2022-09-25T16:34:25.087Z"
   },
   {
    "duration": 15,
    "start_time": "2022-09-25T16:34:25.099Z"
   },
   {
    "duration": 6,
    "start_time": "2022-09-25T16:34:25.116Z"
   },
   {
    "duration": 7,
    "start_time": "2022-09-25T16:34:25.123Z"
   },
   {
    "duration": 12,
    "start_time": "2022-09-25T16:34:25.131Z"
   },
   {
    "duration": 5,
    "start_time": "2022-09-25T16:34:25.144Z"
   },
   {
    "duration": 15,
    "start_time": "2022-09-25T16:34:25.150Z"
   },
   {
    "duration": 13,
    "start_time": "2022-09-25T16:34:25.166Z"
   },
   {
    "duration": 41,
    "start_time": "2022-09-25T16:34:25.182Z"
   },
   {
    "duration": 130,
    "start_time": "2022-09-25T16:34:25.225Z"
   },
   {
    "duration": 236,
    "start_time": "2022-09-25T16:34:25.357Z"
   },
   {
    "duration": 910,
    "start_time": "2022-09-25T16:34:25.595Z"
   },
   {
    "duration": 14,
    "start_time": "2022-09-25T16:34:26.507Z"
   },
   {
    "duration": 946,
    "start_time": "2022-09-25T16:34:26.523Z"
   },
   {
    "duration": 5,
    "start_time": "2022-09-25T16:34:27.471Z"
   },
   {
    "duration": 258,
    "start_time": "2022-09-25T16:34:27.477Z"
   },
   {
    "duration": 144,
    "start_time": "2022-09-25T16:34:27.737Z"
   },
   {
    "duration": 5,
    "start_time": "2022-09-25T16:34:27.883Z"
   },
   {
    "duration": 136,
    "start_time": "2022-09-25T16:34:27.889Z"
   },
   {
    "duration": 5,
    "start_time": "2022-09-25T16:34:28.026Z"
   },
   {
    "duration": 3,
    "start_time": "2022-09-25T16:38:02.936Z"
   },
   {
    "duration": 4,
    "start_time": "2022-09-25T16:38:13.398Z"
   },
   {
    "duration": 72,
    "start_time": "2022-09-25T16:41:19.357Z"
   },
   {
    "duration": 66,
    "start_time": "2022-09-25T16:41:55.057Z"
   },
   {
    "duration": 24,
    "start_time": "2022-09-25T16:42:05.443Z"
   },
   {
    "duration": 23,
    "start_time": "2022-09-25T16:43:01.887Z"
   },
   {
    "duration": 1181,
    "start_time": "2022-09-25T16:45:04.705Z"
   },
   {
    "duration": 1261,
    "start_time": "2022-09-25T16:45:28.207Z"
   },
   {
    "duration": 92,
    "start_time": "2022-09-25T16:50:14.628Z"
   },
   {
    "duration": 179,
    "start_time": "2022-09-25T16:51:32.405Z"
   },
   {
    "duration": 988,
    "start_time": "2022-09-25T16:51:54.559Z"
   },
   {
    "duration": 16,
    "start_time": "2022-09-25T17:01:26.460Z"
   },
   {
    "duration": 1335,
    "start_time": "2022-09-25T17:04:31.759Z"
   },
   {
    "duration": 1255,
    "start_time": "2022-09-25T17:05:00.836Z"
   },
   {
    "duration": 72,
    "start_time": "2022-09-25T17:06:34.877Z"
   },
   {
    "duration": 75,
    "start_time": "2022-09-25T17:07:21.857Z"
   },
   {
    "duration": 74,
    "start_time": "2022-09-25T17:10:53.093Z"
   },
   {
    "duration": 352,
    "start_time": "2022-09-25T17:11:03.579Z"
   },
   {
    "duration": 138,
    "start_time": "2022-09-25T17:11:17.947Z"
   },
   {
    "duration": 104,
    "start_time": "2022-09-25T17:11:49.367Z"
   },
   {
    "duration": 144,
    "start_time": "2022-09-25T17:12:27.046Z"
   },
   {
    "duration": 7,
    "start_time": "2022-09-25T17:14:09.771Z"
   },
   {
    "duration": 12,
    "start_time": "2022-09-25T17:14:50.878Z"
   },
   {
    "duration": 142,
    "start_time": "2022-09-25T17:15:24.557Z"
   },
   {
    "duration": 180,
    "start_time": "2022-09-25T17:16:44.127Z"
   },
   {
    "duration": 156,
    "start_time": "2022-09-25T17:17:12.913Z"
   },
   {
    "duration": 149,
    "start_time": "2022-09-25T17:17:43.004Z"
   },
   {
    "duration": 138,
    "start_time": "2022-09-25T17:18:15.866Z"
   },
   {
    "duration": 5,
    "start_time": "2022-09-25T17:19:09.590Z"
   },
   {
    "duration": 4,
    "start_time": "2022-09-25T17:19:29.028Z"
   },
   {
    "duration": 6,
    "start_time": "2022-09-25T17:19:33.844Z"
   },
   {
    "duration": 12,
    "start_time": "2022-09-25T17:20:08.111Z"
   },
   {
    "duration": 12,
    "start_time": "2022-09-25T17:20:18.228Z"
   },
   {
    "duration": 170,
    "start_time": "2022-09-25T17:21:17.016Z"
   },
   {
    "duration": 108,
    "start_time": "2022-09-25T17:21:29.506Z"
   },
   {
    "duration": 153,
    "start_time": "2022-09-25T17:21:36.107Z"
   },
   {
    "duration": 16,
    "start_time": "2022-09-25T17:21:52.673Z"
   },
   {
    "duration": 95,
    "start_time": "2022-09-25T17:21:58.634Z"
   },
   {
    "duration": 121,
    "start_time": "2022-09-25T17:22:19.285Z"
   },
   {
    "duration": 115,
    "start_time": "2022-09-25T17:23:15.076Z"
   },
   {
    "duration": 130,
    "start_time": "2022-09-25T17:23:31.646Z"
   },
   {
    "duration": 1366,
    "start_time": "2022-09-26T10:02:06.645Z"
   },
   {
    "duration": 226,
    "start_time": "2022-09-26T10:02:08.013Z"
   },
   {
    "duration": 17,
    "start_time": "2022-09-26T10:02:08.241Z"
   },
   {
    "duration": 22,
    "start_time": "2022-09-26T10:02:08.260Z"
   },
   {
    "duration": 6,
    "start_time": "2022-09-26T10:02:08.291Z"
   },
   {
    "duration": 28,
    "start_time": "2022-09-26T10:02:08.299Z"
   },
   {
    "duration": 14,
    "start_time": "2022-09-26T10:02:08.329Z"
   },
   {
    "duration": 5,
    "start_time": "2022-09-26T10:02:08.345Z"
   },
   {
    "duration": 20,
    "start_time": "2022-09-26T10:02:08.352Z"
   },
   {
    "duration": 27,
    "start_time": "2022-09-26T10:02:08.374Z"
   },
   {
    "duration": 18,
    "start_time": "2022-09-26T10:02:08.403Z"
   },
   {
    "duration": 200,
    "start_time": "2022-09-26T10:02:08.425Z"
   },
   {
    "duration": 289,
    "start_time": "2022-09-26T10:02:08.627Z"
   },
   {
    "duration": 1126,
    "start_time": "2022-09-26T10:02:08.920Z"
   },
   {
    "duration": 7,
    "start_time": "2022-09-26T10:02:10.048Z"
   },
   {
    "duration": 1261,
    "start_time": "2022-09-26T10:02:10.057Z"
   },
   {
    "duration": 6,
    "start_time": "2022-09-26T10:02:11.320Z"
   },
   {
    "duration": 360,
    "start_time": "2022-09-26T10:02:11.328Z"
   },
   {
    "duration": 211,
    "start_time": "2022-09-26T10:02:11.690Z"
   },
   {
    "duration": 7,
    "start_time": "2022-09-26T10:02:11.903Z"
   },
   {
    "duration": 229,
    "start_time": "2022-09-26T10:02:11.912Z"
   },
   {
    "duration": 6,
    "start_time": "2022-09-26T10:02:12.144Z"
   },
   {
    "duration": 1599,
    "start_time": "2022-09-26T10:02:12.151Z"
   },
   {
    "duration": 1511,
    "start_time": "2022-09-26T10:02:13.752Z"
   },
   {
    "duration": 194,
    "start_time": "2022-09-26T10:02:15.265Z"
   },
   {
    "duration": 184,
    "start_time": "2022-09-26T10:02:15.461Z"
   },
   {
    "duration": 15,
    "start_time": "2022-09-26T10:04:22.224Z"
   },
   {
    "duration": 119,
    "start_time": "2022-09-26T10:05:23.186Z"
   },
   {
    "duration": 21,
    "start_time": "2022-09-26T10:05:41.456Z"
   },
   {
    "duration": 15,
    "start_time": "2022-09-26T10:05:54.369Z"
   },
   {
    "duration": 15,
    "start_time": "2022-09-26T10:06:05.246Z"
   },
   {
    "duration": 77,
    "start_time": "2022-09-26T10:14:20.811Z"
   },
   {
    "duration": 18,
    "start_time": "2022-09-26T10:14:37.059Z"
   },
   {
    "duration": 27,
    "start_time": "2022-09-26T10:14:50.332Z"
   },
   {
    "duration": 33,
    "start_time": "2022-09-26T10:15:24.432Z"
   },
   {
    "duration": 26,
    "start_time": "2022-09-26T10:15:40.974Z"
   },
   {
    "duration": 33,
    "start_time": "2022-09-26T10:16:19.917Z"
   },
   {
    "duration": 32,
    "start_time": "2022-09-26T10:16:31.393Z"
   },
   {
    "duration": 522,
    "start_time": "2022-09-26T10:17:15.032Z"
   },
   {
    "duration": 149,
    "start_time": "2022-09-26T10:17:34.809Z"
   },
   {
    "duration": 127,
    "start_time": "2022-09-26T10:18:05.555Z"
   },
   {
    "duration": 724,
    "start_time": "2022-09-26T10:18:53.123Z"
   },
   {
    "duration": 559,
    "start_time": "2022-09-26T10:19:14.950Z"
   },
   {
    "duration": 410,
    "start_time": "2022-09-26T10:19:35.812Z"
   },
   {
    "duration": 571,
    "start_time": "2022-09-26T10:25:24.105Z"
   },
   {
    "duration": 17,
    "start_time": "2022-09-26T10:33:42.817Z"
   },
   {
    "duration": 432,
    "start_time": "2022-09-26T10:33:49.305Z"
   },
   {
    "duration": 19,
    "start_time": "2022-09-26T10:34:54.521Z"
   },
   {
    "duration": 15,
    "start_time": "2022-09-26T10:35:12.020Z"
   },
   {
    "duration": 5,
    "start_time": "2022-09-26T10:36:03.661Z"
   },
   {
    "duration": 446,
    "start_time": "2022-09-26T10:43:09.992Z"
   },
   {
    "duration": 1429,
    "start_time": "2022-09-26T13:33:06.935Z"
   },
   {
    "duration": 119,
    "start_time": "2022-09-26T13:33:08.367Z"
   },
   {
    "duration": 15,
    "start_time": "2022-09-26T13:33:08.488Z"
   },
   {
    "duration": 20,
    "start_time": "2022-09-26T13:33:08.505Z"
   },
   {
    "duration": 7,
    "start_time": "2022-09-26T13:33:08.526Z"
   },
   {
    "duration": 10,
    "start_time": "2022-09-26T13:33:08.535Z"
   },
   {
    "duration": 11,
    "start_time": "2022-09-26T13:33:08.547Z"
   },
   {
    "duration": 5,
    "start_time": "2022-09-26T13:33:08.560Z"
   },
   {
    "duration": 12,
    "start_time": "2022-09-26T13:33:08.567Z"
   },
   {
    "duration": 48,
    "start_time": "2022-09-26T13:33:08.582Z"
   },
   {
    "duration": 19,
    "start_time": "2022-09-26T13:33:08.631Z"
   },
   {
    "duration": 213,
    "start_time": "2022-09-26T13:33:08.651Z"
   },
   {
    "duration": 366,
    "start_time": "2022-09-26T13:33:08.866Z"
   },
   {
    "duration": 1133,
    "start_time": "2022-09-26T13:33:09.234Z"
   },
   {
    "duration": 5,
    "start_time": "2022-09-26T13:33:10.369Z"
   },
   {
    "duration": 1216,
    "start_time": "2022-09-26T13:33:10.376Z"
   },
   {
    "duration": 6,
    "start_time": "2022-09-26T13:33:11.595Z"
   },
   {
    "duration": 367,
    "start_time": "2022-09-26T13:33:11.603Z"
   },
   {
    "duration": 170,
    "start_time": "2022-09-26T13:33:11.973Z"
   },
   {
    "duration": 5,
    "start_time": "2022-09-26T13:33:12.145Z"
   },
   {
    "duration": 177,
    "start_time": "2022-09-26T13:33:12.152Z"
   },
   {
    "duration": 5,
    "start_time": "2022-09-26T13:33:12.331Z"
   },
   {
    "duration": 1533,
    "start_time": "2022-09-26T13:33:12.338Z"
   },
   {
    "duration": 1534,
    "start_time": "2022-09-26T13:33:13.873Z"
   },
   {
    "duration": 180,
    "start_time": "2022-09-26T13:33:15.408Z"
   },
   {
    "duration": 190,
    "start_time": "2022-09-26T13:33:15.590Z"
   },
   {
    "duration": 532,
    "start_time": "2022-09-26T13:33:15.781Z"
   },
   {
    "duration": 458,
    "start_time": "2022-09-26T13:33:16.320Z"
   },
   {
    "duration": 423,
    "start_time": "2022-09-26T13:33:16.779Z"
   },
   {
    "duration": 3,
    "start_time": "2022-09-26T15:22:43.360Z"
   },
   {
    "duration": 76,
    "start_time": "2022-09-26T15:22:43.365Z"
   },
   {
    "duration": 16,
    "start_time": "2022-09-26T15:22:43.443Z"
   },
   {
    "duration": 20,
    "start_time": "2022-09-26T15:22:43.461Z"
   },
   {
    "duration": 9,
    "start_time": "2022-09-26T15:22:43.483Z"
   },
   {
    "duration": 29,
    "start_time": "2022-09-26T15:22:43.494Z"
   },
   {
    "duration": 14,
    "start_time": "2022-09-26T15:22:43.525Z"
   },
   {
    "duration": 10,
    "start_time": "2022-09-26T15:22:43.541Z"
   },
   {
    "duration": 20,
    "start_time": "2022-09-26T15:22:43.553Z"
   },
   {
    "duration": 17,
    "start_time": "2022-09-26T15:22:43.575Z"
   },
   {
    "duration": 42,
    "start_time": "2022-09-26T15:22:43.595Z"
   },
   {
    "duration": 191,
    "start_time": "2022-09-26T15:22:43.639Z"
   },
   {
    "duration": 309,
    "start_time": "2022-09-26T15:22:43.832Z"
   },
   {
    "duration": 1169,
    "start_time": "2022-09-26T15:22:44.143Z"
   },
   {
    "duration": 6,
    "start_time": "2022-09-26T15:22:45.320Z"
   },
   {
    "duration": 1235,
    "start_time": "2022-09-26T15:22:45.328Z"
   },
   {
    "duration": 6,
    "start_time": "2022-09-26T15:22:46.565Z"
   },
   {
    "duration": 340,
    "start_time": "2022-09-26T15:22:46.572Z"
   },
   {
    "duration": 175,
    "start_time": "2022-09-26T15:22:46.920Z"
   },
   {
    "duration": 6,
    "start_time": "2022-09-26T15:22:47.097Z"
   },
   {
    "duration": 186,
    "start_time": "2022-09-26T15:22:47.104Z"
   },
   {
    "duration": 5,
    "start_time": "2022-09-26T15:22:47.292Z"
   },
   {
    "duration": 1674,
    "start_time": "2022-09-26T15:22:47.299Z"
   },
   {
    "duration": 1621,
    "start_time": "2022-09-26T15:22:48.975Z"
   },
   {
    "duration": 175,
    "start_time": "2022-09-26T15:22:50.598Z"
   },
   {
    "duration": 179,
    "start_time": "2022-09-26T15:22:50.775Z"
   },
   {
    "duration": 537,
    "start_time": "2022-09-26T15:22:50.955Z"
   },
   {
    "duration": 480,
    "start_time": "2022-09-26T15:22:51.493Z"
   },
   {
    "duration": 458,
    "start_time": "2022-09-26T15:22:51.977Z"
   },
   {
    "duration": 11,
    "start_time": "2022-09-26T15:22:52.437Z"
   },
   {
    "duration": 145,
    "start_time": "2022-09-26T15:23:48.489Z"
   },
   {
    "duration": 16,
    "start_time": "2022-09-26T15:23:58.387Z"
   },
   {
    "duration": 10,
    "start_time": "2022-09-26T15:25:28.562Z"
   },
   {
    "duration": 11,
    "start_time": "2022-09-26T15:26:21.006Z"
   },
   {
    "duration": 10,
    "start_time": "2022-09-26T15:27:04.315Z"
   },
   {
    "duration": 14,
    "start_time": "2022-09-26T15:27:33.043Z"
   },
   {
    "duration": 5,
    "start_time": "2022-09-26T15:28:21.867Z"
   },
   {
    "duration": 20,
    "start_time": "2022-09-26T15:28:29.045Z"
   },
   {
    "duration": 14,
    "start_time": "2022-09-26T15:28:40.411Z"
   },
   {
    "duration": 10,
    "start_time": "2022-09-26T15:31:04.841Z"
   },
   {
    "duration": 10,
    "start_time": "2022-09-26T15:36:53.021Z"
   },
   {
    "duration": 11,
    "start_time": "2022-09-26T15:37:12.090Z"
   },
   {
    "duration": 18,
    "start_time": "2022-09-26T15:37:28.006Z"
   },
   {
    "duration": 13,
    "start_time": "2022-09-26T15:37:53.715Z"
   },
   {
    "duration": 10,
    "start_time": "2022-09-26T15:39:19.758Z"
   },
   {
    "duration": 57,
    "start_time": "2022-09-27T08:27:42.630Z"
   },
   {
    "duration": 1278,
    "start_time": "2022-09-27T08:27:47.668Z"
   },
   {
    "duration": 136,
    "start_time": "2022-09-27T08:27:48.949Z"
   },
   {
    "duration": 22,
    "start_time": "2022-09-27T08:27:49.087Z"
   },
   {
    "duration": 834,
    "start_time": "2022-09-27T08:27:49.120Z"
   },
   {
    "duration": 17,
    "start_time": "2022-09-27T08:27:49.956Z"
   },
   {
    "duration": 7,
    "start_time": "2022-09-27T08:27:49.974Z"
   },
   {
    "duration": 52,
    "start_time": "2022-09-27T08:27:49.983Z"
   },
   {
    "duration": 12,
    "start_time": "2022-09-27T08:27:50.037Z"
   },
   {
    "duration": 6,
    "start_time": "2022-09-27T08:27:50.050Z"
   },
   {
    "duration": 15,
    "start_time": "2022-09-27T08:27:50.058Z"
   },
   {
    "duration": 12,
    "start_time": "2022-09-27T08:27:50.074Z"
   },
   {
    "duration": 25,
    "start_time": "2022-09-27T08:27:50.087Z"
   },
   {
    "duration": 167,
    "start_time": "2022-09-27T08:27:50.114Z"
   },
   {
    "duration": 284,
    "start_time": "2022-09-27T08:27:50.283Z"
   },
   {
    "duration": 992,
    "start_time": "2022-09-27T08:27:50.568Z"
   },
   {
    "duration": 6,
    "start_time": "2022-09-27T08:27:51.561Z"
   },
   {
    "duration": 1150,
    "start_time": "2022-09-27T08:27:51.568Z"
   },
   {
    "duration": 9,
    "start_time": "2022-09-27T08:27:52.719Z"
   },
   {
    "duration": 208,
    "start_time": "2022-09-27T08:27:52.731Z"
   },
   {
    "duration": 157,
    "start_time": "2022-09-27T08:27:52.940Z"
   },
   {
    "duration": 17,
    "start_time": "2022-09-27T08:27:53.102Z"
   },
   {
    "duration": 157,
    "start_time": "2022-09-27T08:27:53.127Z"
   },
   {
    "duration": 4,
    "start_time": "2022-09-27T08:27:53.286Z"
   },
   {
    "duration": 1528,
    "start_time": "2022-09-27T08:27:53.291Z"
   },
   {
    "duration": 1366,
    "start_time": "2022-09-27T08:27:54.826Z"
   },
   {
    "duration": 164,
    "start_time": "2022-09-27T08:27:56.194Z"
   },
   {
    "duration": 180,
    "start_time": "2022-09-27T08:27:56.360Z"
   },
   {
    "duration": 483,
    "start_time": "2022-09-27T08:27:56.549Z"
   },
   {
    "duration": 422,
    "start_time": "2022-09-27T08:27:57.034Z"
   },
   {
    "duration": 423,
    "start_time": "2022-09-27T08:27:57.458Z"
   },
   {
    "duration": 9,
    "start_time": "2022-09-27T08:27:57.883Z"
   },
   {
    "duration": 36,
    "start_time": "2022-09-27T08:27:57.904Z"
   },
   {
    "duration": 3,
    "start_time": "2022-09-27T08:29:45.528Z"
   },
   {
    "duration": 66,
    "start_time": "2022-09-27T08:29:45.533Z"
   },
   {
    "duration": 16,
    "start_time": "2022-09-27T08:29:45.601Z"
   },
   {
    "duration": 751,
    "start_time": "2022-09-27T08:29:45.618Z"
   },
   {
    "duration": 31,
    "start_time": "2022-09-27T08:29:46.372Z"
   },
   {
    "duration": 15,
    "start_time": "2022-09-27T08:29:46.410Z"
   },
   {
    "duration": 19,
    "start_time": "2022-09-27T08:29:46.431Z"
   },
   {
    "duration": 10,
    "start_time": "2022-09-27T08:29:46.452Z"
   },
   {
    "duration": 7,
    "start_time": "2022-09-27T08:29:46.463Z"
   },
   {
    "duration": 10,
    "start_time": "2022-09-27T08:29:46.471Z"
   },
   {
    "duration": 11,
    "start_time": "2022-09-27T08:29:46.483Z"
   },
   {
    "duration": 21,
    "start_time": "2022-09-27T08:29:46.496Z"
   },
   {
    "duration": 168,
    "start_time": "2022-09-27T08:29:46.522Z"
   },
   {
    "duration": 261,
    "start_time": "2022-09-27T08:29:46.692Z"
   },
   {
    "duration": 1051,
    "start_time": "2022-09-27T08:29:46.954Z"
   },
   {
    "duration": 15,
    "start_time": "2022-09-27T08:29:48.012Z"
   },
   {
    "duration": 1173,
    "start_time": "2022-09-27T08:29:48.030Z"
   },
   {
    "duration": 9,
    "start_time": "2022-09-27T08:29:49.204Z"
   },
   {
    "duration": 250,
    "start_time": "2022-09-27T08:29:49.217Z"
   },
   {
    "duration": 163,
    "start_time": "2022-09-27T08:29:49.469Z"
   },
   {
    "duration": 5,
    "start_time": "2022-09-27T08:29:49.634Z"
   },
   {
    "duration": 188,
    "start_time": "2022-09-27T08:29:49.641Z"
   },
   {
    "duration": 5,
    "start_time": "2022-09-27T08:29:49.834Z"
   },
   {
    "duration": 1494,
    "start_time": "2022-09-27T08:29:49.841Z"
   },
   {
    "duration": 1410,
    "start_time": "2022-09-27T08:29:51.337Z"
   },
   {
    "duration": 180,
    "start_time": "2022-09-27T08:29:52.748Z"
   },
   {
    "duration": 168,
    "start_time": "2022-09-27T08:29:52.931Z"
   },
   {
    "duration": 526,
    "start_time": "2022-09-27T08:29:53.107Z"
   },
   {
    "duration": 404,
    "start_time": "2022-09-27T08:29:53.634Z"
   },
   {
    "duration": 412,
    "start_time": "2022-09-27T08:29:54.039Z"
   },
   {
    "duration": 11,
    "start_time": "2022-09-27T08:29:54.453Z"
   },
   {
    "duration": 39,
    "start_time": "2022-09-27T08:29:54.466Z"
   },
   {
    "duration": 2,
    "start_time": "2022-09-27T08:30:02.128Z"
   },
   {
    "duration": 98,
    "start_time": "2022-09-27T08:30:02.132Z"
   },
   {
    "duration": 12,
    "start_time": "2022-09-27T08:30:02.233Z"
   },
   {
    "duration": 813,
    "start_time": "2022-09-27T08:30:02.246Z"
   },
   {
    "duration": 62,
    "start_time": "2022-09-27T08:30:08.035Z"
   },
   {
    "duration": 15,
    "start_time": "2022-09-27T08:30:15.989Z"
   },
   {
    "duration": 5,
    "start_time": "2022-09-27T08:30:20.727Z"
   },
   {
    "duration": 64,
    "start_time": "2022-09-27T08:30:20.734Z"
   },
   {
    "duration": 20,
    "start_time": "2022-09-27T08:30:20.800Z"
   },
   {
    "duration": 856,
    "start_time": "2022-09-27T08:30:20.829Z"
   },
   {
    "duration": 29,
    "start_time": "2022-09-27T08:30:21.687Z"
   },
   {
    "duration": 346,
    "start_time": "2022-09-27T08:33:24.126Z"
   },
   {
    "duration": 27,
    "start_time": "2022-09-27T08:38:02.371Z"
   },
   {
    "duration": 2,
    "start_time": "2022-09-27T08:38:28.282Z"
   },
   {
    "duration": 69,
    "start_time": "2022-09-27T08:38:28.286Z"
   },
   {
    "duration": 13,
    "start_time": "2022-09-27T08:38:28.357Z"
   },
   {
    "duration": 692,
    "start_time": "2022-09-27T08:38:28.371Z"
   },
   {
    "duration": 15,
    "start_time": "2022-09-27T08:38:29.066Z"
   },
   {
    "duration": 32,
    "start_time": "2022-09-27T08:38:29.083Z"
   },
   {
    "duration": 4,
    "start_time": "2022-09-27T08:38:29.117Z"
   },
   {
    "duration": 9,
    "start_time": "2022-09-27T08:38:29.122Z"
   },
   {
    "duration": 8,
    "start_time": "2022-09-27T08:38:29.132Z"
   },
   {
    "duration": 5,
    "start_time": "2022-09-27T08:38:29.142Z"
   },
   {
    "duration": 9,
    "start_time": "2022-09-27T08:38:29.149Z"
   },
   {
    "duration": 59,
    "start_time": "2022-09-27T08:38:29.159Z"
   },
   {
    "duration": 16,
    "start_time": "2022-09-27T08:38:32.989Z"
   },
   {
    "duration": 8,
    "start_time": "2022-09-27T08:47:58.991Z"
   },
   {
    "duration": 16,
    "start_time": "2022-09-27T08:48:15.960Z"
   },
   {
    "duration": 16,
    "start_time": "2022-09-27T08:48:41.735Z"
   },
   {
    "duration": 206,
    "start_time": "2022-09-27T08:51:45.534Z"
   },
   {
    "duration": 203,
    "start_time": "2022-09-27T08:52:09.470Z"
   },
   {
    "duration": 3,
    "start_time": "2022-09-27T08:53:54.432Z"
   },
   {
    "duration": 74,
    "start_time": "2022-09-27T08:53:54.437Z"
   },
   {
    "duration": 21,
    "start_time": "2022-09-27T08:53:54.512Z"
   },
   {
    "duration": 828,
    "start_time": "2022-09-27T08:53:54.535Z"
   },
   {
    "duration": 13,
    "start_time": "2022-09-27T08:53:55.365Z"
   },
   {
    "duration": 39,
    "start_time": "2022-09-27T08:53:55.379Z"
   },
   {
    "duration": 6,
    "start_time": "2022-09-27T08:53:55.420Z"
   },
   {
    "duration": 10,
    "start_time": "2022-09-27T08:53:55.428Z"
   },
   {
    "duration": 9,
    "start_time": "2022-09-27T08:53:55.440Z"
   },
   {
    "duration": 5,
    "start_time": "2022-09-27T08:53:55.450Z"
   },
   {
    "duration": 20,
    "start_time": "2022-09-27T08:53:55.457Z"
   },
   {
    "duration": 44,
    "start_time": "2022-09-27T08:53:55.478Z"
   },
   {
    "duration": 14,
    "start_time": "2022-09-27T08:53:55.523Z"
   },
   {
    "duration": 14,
    "start_time": "2022-09-27T08:53:55.538Z"
   },
   {
    "duration": 158,
    "start_time": "2022-09-27T08:53:55.554Z"
   },
   {
    "duration": 255,
    "start_time": "2022-09-27T08:53:55.715Z"
   },
   {
    "duration": 989,
    "start_time": "2022-09-27T08:53:55.971Z"
   },
   {
    "duration": 6,
    "start_time": "2022-09-27T08:53:56.961Z"
   },
   {
    "duration": 1022,
    "start_time": "2022-09-27T08:53:56.968Z"
   },
   {
    "duration": 9,
    "start_time": "2022-09-27T08:53:57.999Z"
   },
   {
    "duration": 215,
    "start_time": "2022-09-27T08:53:58.014Z"
   },
   {
    "duration": 301,
    "start_time": "2022-09-27T08:53:58.231Z"
   },
   {
    "duration": 154,
    "start_time": "2022-09-27T08:53:58.534Z"
   },
   {
    "duration": 11,
    "start_time": "2022-09-27T08:53:58.691Z"
   },
   {
    "duration": 147,
    "start_time": "2022-09-27T08:53:58.704Z"
   },
   {
    "duration": 4,
    "start_time": "2022-09-27T08:53:58.853Z"
   },
   {
    "duration": 1298,
    "start_time": "2022-09-27T08:53:58.858Z"
   },
   {
    "duration": 1459,
    "start_time": "2022-09-27T08:54:00.158Z"
   },
   {
    "duration": 144,
    "start_time": "2022-09-27T08:54:01.619Z"
   },
   {
    "duration": 161,
    "start_time": "2022-09-27T08:54:01.765Z"
   },
   {
    "duration": 401,
    "start_time": "2022-09-27T08:54:01.928Z"
   },
   {
    "duration": 540,
    "start_time": "2022-09-27T08:54:02.331Z"
   },
   {
    "duration": 389,
    "start_time": "2022-09-27T08:54:02.873Z"
   },
   {
    "duration": 9,
    "start_time": "2022-09-27T08:54:03.264Z"
   },
   {
    "duration": 12,
    "start_time": "2022-09-27T08:54:03.274Z"
   }
  ],
  "kernelspec": {
   "display_name": "Python 3 (ipykernel)",
   "language": "python",
   "name": "python3"
  },
  "language_info": {
   "codemirror_mode": {
    "name": "ipython",
    "version": 3
   },
   "file_extension": ".py",
   "mimetype": "text/x-python",
   "name": "python",
   "nbconvert_exporter": "python",
   "pygments_lexer": "ipython3",
   "version": "3.9.12"
  },
  "toc": {
   "base_numbering": 1,
   "nav_menu": {},
   "number_sections": false,
   "sideBar": true,
   "skip_h1_title": true,
   "title_cell": "Table of Contents",
   "title_sidebar": "Contents",
   "toc_cell": false,
   "toc_position": {
    "height": "calc(100% - 180px)",
    "left": "10px",
    "top": "150px",
    "width": "261.523px"
   },
   "toc_section_display": true,
   "toc_window_display": false
  }
 },
 "nbformat": 4,
 "nbformat_minor": 2
}
